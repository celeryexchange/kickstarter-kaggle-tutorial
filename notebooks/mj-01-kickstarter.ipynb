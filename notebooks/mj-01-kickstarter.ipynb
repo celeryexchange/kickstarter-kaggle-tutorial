{
 "cells": [
  {
   "cell_type": "code",
   "execution_count": 1,
   "metadata": {},
   "outputs": [],
   "source": [
    "# data avaialble on kaggle:\n",
    "# https://www.kaggle.com/kemical/kickstarter-projects\n",
    "\n",
    "# following a course on feature engineering by Mat Leonard on kaggle:\n",
    "# https://www.kaggle.com/learn/feature-engineering\n"
   ]
  },
  {
   "cell_type": "code",
   "execution_count": 2,
   "metadata": {},
   "outputs": [],
   "source": [
    "# import modules \n",
    "import pandas as pd\n",
    "import numpy as np"
   ]
  },
  {
   "cell_type": "code",
   "execution_count": 3,
   "metadata": {},
   "outputs": [],
   "source": [
    "# load part of the dataset\n",
    "ks_data = pd.read_csv('../data/raw/ks-projects-201801.csv', parse_dates=['deadline','launched'])"
   ]
  },
  {
   "cell_type": "code",
   "execution_count": 4,
   "metadata": {},
   "outputs": [
    {
     "data": {
      "text/html": [
       "<div>\n",
       "<style scoped>\n",
       "    .dataframe tbody tr th:only-of-type {\n",
       "        vertical-align: middle;\n",
       "    }\n",
       "\n",
       "    .dataframe tbody tr th {\n",
       "        vertical-align: top;\n",
       "    }\n",
       "\n",
       "    .dataframe thead th {\n",
       "        text-align: right;\n",
       "    }\n",
       "</style>\n",
       "<table border=\"1\" class=\"dataframe\">\n",
       "  <thead>\n",
       "    <tr style=\"text-align: right;\">\n",
       "      <th></th>\n",
       "      <th>ID</th>\n",
       "      <th>name</th>\n",
       "      <th>category</th>\n",
       "      <th>main_category</th>\n",
       "      <th>currency</th>\n",
       "      <th>deadline</th>\n",
       "      <th>goal</th>\n",
       "      <th>launched</th>\n",
       "      <th>pledged</th>\n",
       "      <th>state</th>\n",
       "      <th>backers</th>\n",
       "      <th>country</th>\n",
       "      <th>usd pledged</th>\n",
       "      <th>usd_pledged_real</th>\n",
       "      <th>usd_goal_real</th>\n",
       "    </tr>\n",
       "  </thead>\n",
       "  <tbody>\n",
       "    <tr>\n",
       "      <th>0</th>\n",
       "      <td>1000002330</td>\n",
       "      <td>The Songs of Adelaide &amp; Abullah</td>\n",
       "      <td>Poetry</td>\n",
       "      <td>Publishing</td>\n",
       "      <td>GBP</td>\n",
       "      <td>2015-10-09</td>\n",
       "      <td>1000.0</td>\n",
       "      <td>2015-08-11 12:12:28</td>\n",
       "      <td>0.0</td>\n",
       "      <td>failed</td>\n",
       "      <td>0</td>\n",
       "      <td>GB</td>\n",
       "      <td>0.0</td>\n",
       "      <td>0.0</td>\n",
       "      <td>1533.95</td>\n",
       "    </tr>\n",
       "    <tr>\n",
       "      <th>1</th>\n",
       "      <td>1000003930</td>\n",
       "      <td>Greeting From Earth: ZGAC Arts Capsule For ET</td>\n",
       "      <td>Narrative Film</td>\n",
       "      <td>Film &amp; Video</td>\n",
       "      <td>USD</td>\n",
       "      <td>2017-11-01</td>\n",
       "      <td>30000.0</td>\n",
       "      <td>2017-09-02 04:43:57</td>\n",
       "      <td>2421.0</td>\n",
       "      <td>failed</td>\n",
       "      <td>15</td>\n",
       "      <td>US</td>\n",
       "      <td>100.0</td>\n",
       "      <td>2421.0</td>\n",
       "      <td>30000.00</td>\n",
       "    </tr>\n",
       "    <tr>\n",
       "      <th>2</th>\n",
       "      <td>1000004038</td>\n",
       "      <td>Where is Hank?</td>\n",
       "      <td>Narrative Film</td>\n",
       "      <td>Film &amp; Video</td>\n",
       "      <td>USD</td>\n",
       "      <td>2013-02-26</td>\n",
       "      <td>45000.0</td>\n",
       "      <td>2013-01-12 00:20:50</td>\n",
       "      <td>220.0</td>\n",
       "      <td>failed</td>\n",
       "      <td>3</td>\n",
       "      <td>US</td>\n",
       "      <td>220.0</td>\n",
       "      <td>220.0</td>\n",
       "      <td>45000.00</td>\n",
       "    </tr>\n",
       "    <tr>\n",
       "      <th>3</th>\n",
       "      <td>1000007540</td>\n",
       "      <td>ToshiCapital Rekordz Needs Help to Complete Album</td>\n",
       "      <td>Music</td>\n",
       "      <td>Music</td>\n",
       "      <td>USD</td>\n",
       "      <td>2012-04-16</td>\n",
       "      <td>5000.0</td>\n",
       "      <td>2012-03-17 03:24:11</td>\n",
       "      <td>1.0</td>\n",
       "      <td>failed</td>\n",
       "      <td>1</td>\n",
       "      <td>US</td>\n",
       "      <td>1.0</td>\n",
       "      <td>1.0</td>\n",
       "      <td>5000.00</td>\n",
       "    </tr>\n",
       "    <tr>\n",
       "      <th>4</th>\n",
       "      <td>1000011046</td>\n",
       "      <td>Community Film Project: The Art of Neighborhoo...</td>\n",
       "      <td>Film &amp; Video</td>\n",
       "      <td>Film &amp; Video</td>\n",
       "      <td>USD</td>\n",
       "      <td>2015-08-29</td>\n",
       "      <td>19500.0</td>\n",
       "      <td>2015-07-04 08:35:03</td>\n",
       "      <td>1283.0</td>\n",
       "      <td>canceled</td>\n",
       "      <td>14</td>\n",
       "      <td>US</td>\n",
       "      <td>1283.0</td>\n",
       "      <td>1283.0</td>\n",
       "      <td>19500.00</td>\n",
       "    </tr>\n",
       "  </tbody>\n",
       "</table>\n",
       "</div>"
      ],
      "text/plain": [
       "           ID                                               name  \\\n",
       "0  1000002330                    The Songs of Adelaide & Abullah   \n",
       "1  1000003930      Greeting From Earth: ZGAC Arts Capsule For ET   \n",
       "2  1000004038                                     Where is Hank?   \n",
       "3  1000007540  ToshiCapital Rekordz Needs Help to Complete Album   \n",
       "4  1000011046  Community Film Project: The Art of Neighborhoo...   \n",
       "\n",
       "         category main_category currency   deadline     goal  \\\n",
       "0          Poetry    Publishing      GBP 2015-10-09   1000.0   \n",
       "1  Narrative Film  Film & Video      USD 2017-11-01  30000.0   \n",
       "2  Narrative Film  Film & Video      USD 2013-02-26  45000.0   \n",
       "3           Music         Music      USD 2012-04-16   5000.0   \n",
       "4    Film & Video  Film & Video      USD 2015-08-29  19500.0   \n",
       "\n",
       "             launched  pledged     state  backers country  usd pledged  \\\n",
       "0 2015-08-11 12:12:28      0.0    failed        0      GB          0.0   \n",
       "1 2017-09-02 04:43:57   2421.0    failed       15      US        100.0   \n",
       "2 2013-01-12 00:20:50    220.0    failed        3      US        220.0   \n",
       "3 2012-03-17 03:24:11      1.0    failed        1      US          1.0   \n",
       "4 2015-07-04 08:35:03   1283.0  canceled       14      US       1283.0   \n",
       "\n",
       "   usd_pledged_real  usd_goal_real  \n",
       "0               0.0        1533.95  \n",
       "1            2421.0       30000.00  \n",
       "2             220.0       45000.00  \n",
       "3               1.0        5000.00  \n",
       "4            1283.0       19500.00  "
      ]
     },
     "execution_count": 4,
     "metadata": {},
     "output_type": "execute_result"
    }
   ],
   "source": [
    "# inspect the data \n",
    "ks_data.head()"
   ]
  },
  {
   "cell_type": "code",
   "execution_count": 5,
   "metadata": {},
   "outputs": [
    {
     "name": "stdout",
     "output_type": "stream",
     "text": [
      "<class 'pandas.core.frame.DataFrame'>\n",
      "RangeIndex: 378661 entries, 0 to 378660\n",
      "Data columns (total 15 columns):\n",
      " #   Column            Non-Null Count   Dtype         \n",
      "---  ------            --------------   -----         \n",
      " 0   ID                378661 non-null  int64         \n",
      " 1   name              378657 non-null  object        \n",
      " 2   category          378661 non-null  object        \n",
      " 3   main_category     378661 non-null  object        \n",
      " 4   currency          378661 non-null  object        \n",
      " 5   deadline          378661 non-null  datetime64[ns]\n",
      " 6   goal              378661 non-null  float64       \n",
      " 7   launched          378661 non-null  datetime64[ns]\n",
      " 8   pledged           378661 non-null  float64       \n",
      " 9   state             378661 non-null  object        \n",
      " 10  backers           378661 non-null  int64         \n",
      " 11  country           378661 non-null  object        \n",
      " 12  usd pledged       374864 non-null  float64       \n",
      " 13  usd_pledged_real  378661 non-null  float64       \n",
      " 14  usd_goal_real     378661 non-null  float64       \n",
      "dtypes: datetime64[ns](2), float64(5), int64(2), object(6)\n",
      "memory usage: 43.3+ MB\n"
     ]
    }
   ],
   "source": [
    "# check datatypes and missing values \n",
    "ks_data.info()"
   ]
  },
  {
   "cell_type": "code",
   "execution_count": 6,
   "metadata": {},
   "outputs": [],
   "source": [
    "# create a copy of the dataset so that we don't need to reload it every time\n",
    "ks = ks_data.copy()"
   ]
  },
  {
   "cell_type": "markdown",
   "metadata": {},
   "source": [
    "## I. Baseline Model"
   ]
  },
  {
   "cell_type": "markdown",
   "metadata": {},
   "source": [
    "Having a baseline model is important to assess whether the features that we're creating or modifying in our data add value and improve the accuracy of our model over its baseline. "
   ]
  },
  {
   "cell_type": "markdown",
   "metadata": {},
   "source": [
    "#### Preparing target column"
   ]
  },
  {
   "cell_type": "code",
   "execution_count": 7,
   "metadata": {},
   "outputs": [
    {
     "data": {
      "text/plain": [
       "failed        197719\n",
       "successful    133956\n",
       "canceled       38779\n",
       "undefined       3562\n",
       "live            2799\n",
       "suspended       1846\n",
       "Name: state, dtype: int64"
      ]
     },
     "execution_count": 7,
     "metadata": {},
     "output_type": "execute_result"
    }
   ],
   "source": [
    "# prepare the classification variable (target column)\n",
    "ks.state.value_counts()"
   ]
  },
  {
   "cell_type": "code",
   "execution_count": 8,
   "metadata": {},
   "outputs": [],
   "source": [
    "# for the model we'll consider 1 -> successful and 0 -> otherwise\n",
    "# ks['is_successful'] = (ks.state == 'successful').map({False:0, True:1})\n",
    "# ks['is_successful'] = (ks['state'] == 'successful').astype(int)\n",
    "\n",
    "# alternative approach using .assign()\n",
    "ks = ks.assign(is_successful = (ks['state'] == 'successful').astype(int))"
   ]
  },
  {
   "cell_type": "code",
   "execution_count": 9,
   "metadata": {},
   "outputs": [],
   "source": [
    "# drop live projects\n",
    "ks = ks[~(ks['state'] == 'live')]\n",
    "\n",
    "# alternative approach with .query()\n",
    "# ks = ks.query('state != \"live\"')"
   ]
  },
  {
   "cell_type": "markdown",
   "metadata": {},
   "source": [
    "#### Converting timestamps "
   ]
  },
  {
   "cell_type": "code",
   "execution_count": 10,
   "metadata": {},
   "outputs": [
    {
     "data": {
      "text/html": [
       "<div>\n",
       "<style scoped>\n",
       "    .dataframe tbody tr th:only-of-type {\n",
       "        vertical-align: middle;\n",
       "    }\n",
       "\n",
       "    .dataframe tbody tr th {\n",
       "        vertical-align: top;\n",
       "    }\n",
       "\n",
       "    .dataframe thead th {\n",
       "        text-align: right;\n",
       "    }\n",
       "</style>\n",
       "<table border=\"1\" class=\"dataframe\">\n",
       "  <thead>\n",
       "    <tr style=\"text-align: right;\">\n",
       "      <th></th>\n",
       "      <th>launched</th>\n",
       "      <th>year</th>\n",
       "      <th>month</th>\n",
       "      <th>day</th>\n",
       "      <th>hour</th>\n",
       "    </tr>\n",
       "  </thead>\n",
       "  <tbody>\n",
       "    <tr>\n",
       "      <th>0</th>\n",
       "      <td>2015-08-11 12:12:28</td>\n",
       "      <td>2015</td>\n",
       "      <td>8</td>\n",
       "      <td>11</td>\n",
       "      <td>12</td>\n",
       "    </tr>\n",
       "    <tr>\n",
       "      <th>1</th>\n",
       "      <td>2017-09-02 04:43:57</td>\n",
       "      <td>2017</td>\n",
       "      <td>9</td>\n",
       "      <td>2</td>\n",
       "      <td>4</td>\n",
       "    </tr>\n",
       "    <tr>\n",
       "      <th>2</th>\n",
       "      <td>2013-01-12 00:20:50</td>\n",
       "      <td>2013</td>\n",
       "      <td>1</td>\n",
       "      <td>12</td>\n",
       "      <td>0</td>\n",
       "    </tr>\n",
       "    <tr>\n",
       "      <th>3</th>\n",
       "      <td>2012-03-17 03:24:11</td>\n",
       "      <td>2012</td>\n",
       "      <td>3</td>\n",
       "      <td>17</td>\n",
       "      <td>3</td>\n",
       "    </tr>\n",
       "    <tr>\n",
       "      <th>4</th>\n",
       "      <td>2015-07-04 08:35:03</td>\n",
       "      <td>2015</td>\n",
       "      <td>7</td>\n",
       "      <td>4</td>\n",
       "      <td>8</td>\n",
       "    </tr>\n",
       "    <tr>\n",
       "      <th>5</th>\n",
       "      <td>2016-02-26 13:38:27</td>\n",
       "      <td>2016</td>\n",
       "      <td>2</td>\n",
       "      <td>26</td>\n",
       "      <td>13</td>\n",
       "    </tr>\n",
       "  </tbody>\n",
       "</table>\n",
       "</div>"
      ],
      "text/plain": [
       "             launched  year  month  day  hour\n",
       "0 2015-08-11 12:12:28  2015      8   11    12\n",
       "1 2017-09-02 04:43:57  2017      9    2     4\n",
       "2 2013-01-12 00:20:50  2013      1   12     0\n",
       "3 2012-03-17 03:24:11  2012      3   17     3\n",
       "4 2015-07-04 08:35:03  2015      7    4     8\n",
       "5 2016-02-26 13:38:27  2016      2   26    13"
      ]
     },
     "execution_count": 10,
     "metadata": {},
     "output_type": "execute_result"
    }
   ],
   "source": [
    "# creating new features from the 'launched' timestamp\n",
    "ks = ks.assign(year = ks['launched'].dt.year,\n",
    "              month = ks['launched'].dt.month,\n",
    "              day = ks['launched'].dt.day,\n",
    "              hour = ks['launched'].dt.hour)\n",
    "\n",
    "# show top 5\n",
    "ks.loc[:5, ['launched','year','month','day','hour']]"
   ]
  },
  {
   "cell_type": "markdown",
   "metadata": {},
   "source": [
    "#### Processing categorical variables"
   ]
  },
  {
   "cell_type": "code",
   "execution_count": 11,
   "metadata": {},
   "outputs": [],
   "source": [
    "# specify which columns are categorical\n",
    "categorical_cols = ['main_category', 'category', 'currency', 'country']\n",
    "\n",
    "# import encoder\n",
    "from sklearn.preprocessing import LabelEncoder\n",
    "\n",
    "# init encoder \n",
    "le = LabelEncoder()"
   ]
  },
  {
   "cell_type": "code",
   "execution_count": 12,
   "metadata": {},
   "outputs": [],
   "source": [
    "# encode (approach a) # does not work \n",
    "# encoded = le.fit_transform(ks[categorical_cols])"
   ]
  },
  {
   "cell_type": "code",
   "execution_count": 13,
   "metadata": {},
   "outputs": [
    {
     "data": {
      "text/html": [
       "<div>\n",
       "<style scoped>\n",
       "    .dataframe tbody tr th:only-of-type {\n",
       "        vertical-align: middle;\n",
       "    }\n",
       "\n",
       "    .dataframe tbody tr th {\n",
       "        vertical-align: top;\n",
       "    }\n",
       "\n",
       "    .dataframe thead th {\n",
       "        text-align: right;\n",
       "    }\n",
       "</style>\n",
       "<table border=\"1\" class=\"dataframe\">\n",
       "  <thead>\n",
       "    <tr style=\"text-align: right;\">\n",
       "      <th></th>\n",
       "      <th>main_category</th>\n",
       "      <th>category</th>\n",
       "      <th>currency</th>\n",
       "      <th>country</th>\n",
       "    </tr>\n",
       "  </thead>\n",
       "  <tbody>\n",
       "    <tr>\n",
       "      <th>0</th>\n",
       "      <td>12</td>\n",
       "      <td>108</td>\n",
       "      <td>5</td>\n",
       "      <td>9</td>\n",
       "    </tr>\n",
       "    <tr>\n",
       "      <th>1</th>\n",
       "      <td>6</td>\n",
       "      <td>93</td>\n",
       "      <td>13</td>\n",
       "      <td>22</td>\n",
       "    </tr>\n",
       "    <tr>\n",
       "      <th>2</th>\n",
       "      <td>6</td>\n",
       "      <td>93</td>\n",
       "      <td>13</td>\n",
       "      <td>22</td>\n",
       "    </tr>\n",
       "    <tr>\n",
       "      <th>3</th>\n",
       "      <td>10</td>\n",
       "      <td>90</td>\n",
       "      <td>13</td>\n",
       "      <td>22</td>\n",
       "    </tr>\n",
       "    <tr>\n",
       "      <th>4</th>\n",
       "      <td>6</td>\n",
       "      <td>55</td>\n",
       "      <td>13</td>\n",
       "      <td>22</td>\n",
       "    </tr>\n",
       "  </tbody>\n",
       "</table>\n",
       "</div>"
      ],
      "text/plain": [
       "   main_category  category  currency  country\n",
       "0             12       108         5        9\n",
       "1              6        93        13       22\n",
       "2              6        93        13       22\n",
       "3             10        90        13       22\n",
       "4              6        55        13       22"
      ]
     },
     "execution_count": 13,
     "metadata": {},
     "output_type": "execute_result"
    }
   ],
   "source": [
    "# encode (approach b) \n",
    "# using .apply())\n",
    "encoded = ks[categorical_cols].apply(le.fit_transform)\n",
    "\n",
    "# inspect\n",
    "encoded.head()"
   ]
  },
  {
   "cell_type": "code",
   "execution_count": 14,
   "metadata": {},
   "outputs": [],
   "source": [
    "# # encode (approach c)\n",
    "# # using a for loop\n",
    "# for col in categorical_cols:\n",
    "#     ks[col + '_le'] = le.fit_transform(ks[col])\n",
    "    \n",
    "# # inspect\n",
    "# ks.head()"
   ]
  },
  {
   "cell_type": "markdown",
   "metadata": {},
   "source": [
    "#### Creating train and test sets"
   ]
  },
  {
   "cell_type": "code",
   "execution_count": 15,
   "metadata": {},
   "outputs": [
    {
     "data": {
      "text/html": [
       "<div>\n",
       "<style scoped>\n",
       "    .dataframe tbody tr th:only-of-type {\n",
       "        vertical-align: middle;\n",
       "    }\n",
       "\n",
       "    .dataframe tbody tr th {\n",
       "        vertical-align: top;\n",
       "    }\n",
       "\n",
       "    .dataframe thead th {\n",
       "        text-align: right;\n",
       "    }\n",
       "</style>\n",
       "<table border=\"1\" class=\"dataframe\">\n",
       "  <thead>\n",
       "    <tr style=\"text-align: right;\">\n",
       "      <th></th>\n",
       "      <th>goal</th>\n",
       "      <th>year</th>\n",
       "      <th>month</th>\n",
       "      <th>day</th>\n",
       "      <th>hour</th>\n",
       "      <th>is_successful</th>\n",
       "      <th>main_category</th>\n",
       "      <th>category</th>\n",
       "      <th>currency</th>\n",
       "      <th>country</th>\n",
       "    </tr>\n",
       "  </thead>\n",
       "  <tbody>\n",
       "    <tr>\n",
       "      <th>0</th>\n",
       "      <td>1000.0</td>\n",
       "      <td>2015</td>\n",
       "      <td>8</td>\n",
       "      <td>11</td>\n",
       "      <td>12</td>\n",
       "      <td>0</td>\n",
       "      <td>12</td>\n",
       "      <td>108</td>\n",
       "      <td>5</td>\n",
       "      <td>9</td>\n",
       "    </tr>\n",
       "    <tr>\n",
       "      <th>1</th>\n",
       "      <td>30000.0</td>\n",
       "      <td>2017</td>\n",
       "      <td>9</td>\n",
       "      <td>2</td>\n",
       "      <td>4</td>\n",
       "      <td>0</td>\n",
       "      <td>6</td>\n",
       "      <td>93</td>\n",
       "      <td>13</td>\n",
       "      <td>22</td>\n",
       "    </tr>\n",
       "    <tr>\n",
       "      <th>2</th>\n",
       "      <td>45000.0</td>\n",
       "      <td>2013</td>\n",
       "      <td>1</td>\n",
       "      <td>12</td>\n",
       "      <td>0</td>\n",
       "      <td>0</td>\n",
       "      <td>6</td>\n",
       "      <td>93</td>\n",
       "      <td>13</td>\n",
       "      <td>22</td>\n",
       "    </tr>\n",
       "    <tr>\n",
       "      <th>3</th>\n",
       "      <td>5000.0</td>\n",
       "      <td>2012</td>\n",
       "      <td>3</td>\n",
       "      <td>17</td>\n",
       "      <td>3</td>\n",
       "      <td>0</td>\n",
       "      <td>10</td>\n",
       "      <td>90</td>\n",
       "      <td>13</td>\n",
       "      <td>22</td>\n",
       "    </tr>\n",
       "    <tr>\n",
       "      <th>4</th>\n",
       "      <td>19500.0</td>\n",
       "      <td>2015</td>\n",
       "      <td>7</td>\n",
       "      <td>4</td>\n",
       "      <td>8</td>\n",
       "      <td>0</td>\n",
       "      <td>6</td>\n",
       "      <td>55</td>\n",
       "      <td>13</td>\n",
       "      <td>22</td>\n",
       "    </tr>\n",
       "  </tbody>\n",
       "</table>\n",
       "</div>"
      ],
      "text/plain": [
       "      goal  year  month  day  hour  is_successful  main_category  category  \\\n",
       "0   1000.0  2015      8   11    12              0             12       108   \n",
       "1  30000.0  2017      9    2     4              0              6        93   \n",
       "2  45000.0  2013      1   12     0              0              6        93   \n",
       "3   5000.0  2012      3   17     3              0             10        90   \n",
       "4  19500.0  2015      7    4     8              0              6        55   \n",
       "\n",
       "   currency  country  \n",
       "0         5        9  \n",
       "1        13       22  \n",
       "2        13       22  \n",
       "3        13       22  \n",
       "4        13       22  "
      ]
     },
     "execution_count": 15,
     "metadata": {},
     "output_type": "execute_result"
    }
   ],
   "source": [
    "# select all features to be used to train the model\n",
    "data = ks[['goal','year','month','day','hour','is_successful']].join(encoded)\n",
    "data.head()"
   ]
  },
  {
   "cell_type": "code",
   "execution_count": 16,
   "metadata": {},
   "outputs": [],
   "source": [
    "# import train test split \n",
    "from sklearn.model_selection import train_test_split \n",
    "\n",
    "# create X and y \n",
    "X = data.drop('is_successful', axis=1)\n",
    "y = data['is_successful']\n",
    "\n",
    "# split the datasets setting 20% aside for test \n",
    "X_train, X_test, y_train, y_test = train_test_split(X, y, test_size=0.2, random_state=42)"
   ]
  },
  {
   "cell_type": "code",
   "execution_count": 17,
   "metadata": {},
   "outputs": [
    {
     "name": "stdout",
     "output_type": "stream",
     "text": [
      "% successful in train: 35.66%\n",
      "% successful in test: 35.56%\n"
     ]
    }
   ],
   "source": [
    "# double check that the target variable is equally represented in train and test datasets\n",
    "print('% successful in train: {:.2%}'.format(y_train.mean()))\n",
    "print('% successful in test: {:.2%}'.format(y_test.mean()))"
   ]
  },
  {
   "cell_type": "markdown",
   "metadata": {},
   "source": [
    "Predictor variable is slightly imbalanced - not between train and test but it's that the % of projects that are successful is less than 50% of all projects. The most common ways to address class imbalance include:\n",
    "* Up-sample minority class\n",
    "* Down-sample majority class\n",
    "* Change the performance metric\n",
    "* Use a penalized-SVM algorithm\n",
    "* Use a tree-based algorithm\n",
    "\n",
    "For this project we'll use a tree-based algorithm and our choice of performance metric is going to be `ROC AUC`.\n",
    "**Source**: https://elitedatascience.com/imbalanced-classes"
   ]
  },
  {
   "cell_type": "markdown",
   "metadata": {},
   "source": [
    "#### Training a RandomForest Classifier (with default settings)"
   ]
  },
  {
   "cell_type": "code",
   "execution_count": 18,
   "metadata": {},
   "outputs": [
    {
     "data": {
      "text/plain": [
       "RandomForestClassifier(bootstrap=True, ccp_alpha=0.0, class_weight=None,\n",
       "                       criterion='gini', max_depth=None, max_features='auto',\n",
       "                       max_leaf_nodes=None, max_samples=None,\n",
       "                       min_impurity_decrease=0.0, min_impurity_split=None,\n",
       "                       min_samples_leaf=1, min_samples_split=2,\n",
       "                       min_weight_fraction_leaf=0.0, n_estimators=100,\n",
       "                       n_jobs=None, oob_score=False, random_state=34, verbose=0,\n",
       "                       warm_start=False)"
      ]
     },
     "execution_count": 18,
     "metadata": {},
     "output_type": "execute_result"
    }
   ],
   "source": [
    "# import classifier\n",
    "from sklearn.ensemble import RandomForestClassifier\n",
    "\n",
    "# init \n",
    "rfc = RandomForestClassifier(random_state=34)\n",
    "\n",
    "# fit\n",
    "rfc.fit(X_train, y_train)"
   ]
  },
  {
   "cell_type": "markdown",
   "metadata": {},
   "source": [
    "#### Making predictions and scoring the model"
   ]
  },
  {
   "cell_type": "code",
   "execution_count": 19,
   "metadata": {},
   "outputs": [],
   "source": [
    "# predictions\n",
    "y_pred = rfc.predict(X_test)\n",
    "y_pred_train = rfc.predict(X_train)"
   ]
  },
  {
   "cell_type": "code",
   "execution_count": 20,
   "metadata": {},
   "outputs": [
    {
     "name": "stdout",
     "output_type": "stream",
     "text": [
      "accuracy (train): 99.89%\n",
      "accuracy (test): 68.64%\n",
      "roc auc (train): 99.87%\n",
      "roc auc (test): 62.76%\n"
     ]
    }
   ],
   "source": [
    "# import scoring metrics\n",
    "from sklearn.metrics import accuracy_score, roc_auc_score, confusion_matrix\n",
    "\n",
    "# accuracy scores\n",
    "print('accuracy (train): {:.2%}'.format(accuracy_score(y_train, y_pred_train)))\n",
    "print('accuracy (test): {:.2%}'.format(accuracy_score(y_test, y_pred)))\n",
    "\n",
    "# roc auc scores \n",
    "print('roc auc (train): {:.2%}'.format(roc_auc_score(y_train, y_pred_train)))\n",
    "print('roc auc (test): {:.2%}'.format(roc_auc_score(y_test, y_pred)))"
   ]
  },
  {
   "cell_type": "markdown",
   "metadata": {},
   "source": [
    "The default model is **overfitting** way too much but I'm not sure how to handle this other than manually changing the `max_depth` or `min_samples_leaf` parameters. `GridSearchCV` is not helpful here because it optimises parameters based on the accuracy score of the traning dataset which in our case is already very high at `>99%`. In other words, `GridSearchCV` would try to overfit the model even more. \n",
    "\n",
    "Having tested a couple of parameters, using `min_samples_leaf=10` increases the accuracy and roc auc of test data to `70%` and `63%`, respectively. All performance metrics for the tranining set are `<78%`.\n"
   ]
  },
  {
   "cell_type": "markdown",
   "metadata": {},
   "source": [
    "#### Retrain the model to address the overfitting issue + predict + score"
   ]
  },
  {
   "cell_type": "code",
   "execution_count": 21,
   "metadata": {},
   "outputs": [
    {
     "name": "stdout",
     "output_type": "stream",
     "text": [
      "roc auc (train): 71.78%\n",
      "roc auc (test): 63.61%\n"
     ]
    }
   ],
   "source": [
    "# init with a limit on minimum samples per leaf (chosen randomly)\n",
    "rfc = RandomForestClassifier(random_state=34, min_samples_leaf=10)\n",
    "\n",
    "# fit \n",
    "rfc.fit(X_train, y_train)\n",
    "\n",
    "# predict\n",
    "y_pred = rfc.predict(X_test)\n",
    "y_pred_train = rfc.predict(X_train)\n",
    "\n",
    "# score (roc auc)\n",
    "print('roc auc (train): {:.2%}'.format(roc_auc_score(y_train, y_pred_train)))\n",
    "print('roc auc (test): {:.2%}'.format(roc_auc_score(y_test, y_pred)))\n",
    "\n",
    "# save baseline ROC AUC \n",
    "roc_auc_baseline = roc_auc_score(y_test, y_pred)"
   ]
  },
  {
   "cell_type": "code",
   "execution_count": 22,
   "metadata": {},
   "outputs": [],
   "source": [
    "# # create confusion matrix \n",
    "# cm = confusion_matrix(y_test, y_pred)\n",
    "\n",
    "# # turn it into a DataFrame to make plotting easier \n",
    "# cm_df = pd.DataFrame(cm, columns=np.unique(y_test), index = np.unique(y_test))\n",
    "# cm_df.index.name = 'Actual'\n",
    "# cm_df.columns.name = 'Predicted'\n",
    "\n",
    "# # # this will be used as the max value for the heatmap legend \n",
    "# # calculated_vmax = (int(cm_df.max().max()/100)+1)*100\n",
    "\n",
    "# # import modules \n",
    "# import seaborn as sns \n",
    "# import matplotlib.pyplot as plt\n",
    "\n",
    "# # set figure size\n",
    "# plt.figure(figsize=(4,4))\n",
    "\n",
    "# # add title\n",
    "# plt.title('Confusion Matrix (Baseline Model)')\n",
    "\n",
    "# # plot heatmap\n",
    "# sns.heatmap(\n",
    "#     cm_df, \n",
    "#     cmap=sns.light_palette((250, 80, 60), input='husl', n_colors=4),\n",
    "#     vmin=5000,\n",
    "#     vmax=45000,\n",
    "#     annot=True, fmt=',d')"
   ]
  },
  {
   "cell_type": "markdown",
   "metadata": {},
   "source": [
    "## 2. Categorical Encodings"
   ]
  },
  {
   "cell_type": "markdown",
   "metadata": {},
   "source": [
    "`LabelEncoder` is just one of several ways categorical variables can be encoded. Other encoders include (not necessarily from `sklearn`):\n",
    "\n",
    "* **get_dummies** `pd.get_dummies()`: creates n new columns where n is the number of unique catagories per feature. can create very sparse matrices which could lead to increased computational time\n",
    "* **CountEncoder** `category_encoders.CountEncoder()`: encodes categorical features based on the number of times that they appear in the dataset. useful to separate rare categories (which will be given a similar low encoded value) vs commmon features (with a similar high count value). \n",
    "* **TargetEncoder** `category_encoders.TargetEncoder()`: replaces a categorical value with the average value of the target for that value of the feature. "
   ]
  },
  {
   "cell_type": "code",
   "execution_count": 23,
   "metadata": {},
   "outputs": [],
   "source": [
    "# first create some helper functions \n",
    "# split the dataset into test and train\n",
    "def create_train_test(df):\n",
    "    \n",
    "    # create X and y \n",
    "    X = df.drop('is_successful', axis=1)\n",
    "    y = df['is_successful']\n",
    "\n",
    "    # split the datasets setting 20% aside for test \n",
    "    X_train, X_test, y_train, y_test = train_test_split(X, y, test_size=0.2, random_state=42)\n",
    "    \n",
    "    return X, y, X_train, X_test, y_train, y_test\n",
    "\n",
    "# fit the model, predict and score \n",
    "def score_model(X_train, X_test, y_train, y_test):\n",
    "    rfc = RandomForestClassifier(random_state=34, min_samples_leaf=10)\n",
    "\n",
    "    # fit \n",
    "    print('Fitting model...')\n",
    "    rfc.fit(X_train, y_train)\n",
    "\n",
    "    # predict\n",
    "    print('Predicting...')\n",
    "    y_pred = rfc.predict(X_test)\n",
    "    y_pred_train = rfc.predict(X_train)\n",
    "\n",
    "    # score (roc auc)\n",
    "    print('Done.')\n",
    "    return roc_auc_score(y_test, y_pred)"
   ]
  },
  {
   "cell_type": "markdown",
   "metadata": {},
   "source": [
    "#### Count Encoder"
   ]
  },
  {
   "cell_type": "code",
   "execution_count": 24,
   "metadata": {},
   "outputs": [],
   "source": [
    "# starting with the these variables \n",
    "categorical_cols = ['main_category', 'category', 'currency', 'country']"
   ]
  },
  {
   "cell_type": "code",
   "execution_count": 25,
   "metadata": {},
   "outputs": [],
   "source": [
    "# import module \n",
    "from category_encoders import CountEncoder\n",
    "\n",
    "# init encoder \n",
    "ce = CountEncoder(cols=categorical_cols)"
   ]
  },
  {
   "cell_type": "code",
   "execution_count": 26,
   "metadata": {},
   "outputs": [
    {
     "data": {
      "text/html": [
       "<div>\n",
       "<style scoped>\n",
       "    .dataframe tbody tr th:only-of-type {\n",
       "        vertical-align: middle;\n",
       "    }\n",
       "\n",
       "    .dataframe tbody tr th {\n",
       "        vertical-align: top;\n",
       "    }\n",
       "\n",
       "    .dataframe thead th {\n",
       "        text-align: right;\n",
       "    }\n",
       "</style>\n",
       "<table border=\"1\" class=\"dataframe\">\n",
       "  <thead>\n",
       "    <tr style=\"text-align: right;\">\n",
       "      <th></th>\n",
       "      <th>main_category</th>\n",
       "      <th>category</th>\n",
       "      <th>currency</th>\n",
       "      <th>country</th>\n",
       "    </tr>\n",
       "  </thead>\n",
       "  <tbody>\n",
       "    <tr>\n",
       "      <th>0</th>\n",
       "      <td>39575</td>\n",
       "      <td>1362</td>\n",
       "      <td>33853</td>\n",
       "      <td>33393</td>\n",
       "    </tr>\n",
       "    <tr>\n",
       "      <th>1</th>\n",
       "      <td>63253</td>\n",
       "      <td>5174</td>\n",
       "      <td>293624</td>\n",
       "      <td>290887</td>\n",
       "    </tr>\n",
       "    <tr>\n",
       "      <th>2</th>\n",
       "      <td>63253</td>\n",
       "      <td>5174</td>\n",
       "      <td>293624</td>\n",
       "      <td>290887</td>\n",
       "    </tr>\n",
       "    <tr>\n",
       "      <th>3</th>\n",
       "      <td>51637</td>\n",
       "      <td>15647</td>\n",
       "      <td>293624</td>\n",
       "      <td>290887</td>\n",
       "    </tr>\n",
       "    <tr>\n",
       "      <th>4</th>\n",
       "      <td>63253</td>\n",
       "      <td>10054</td>\n",
       "      <td>293624</td>\n",
       "      <td>290887</td>\n",
       "    </tr>\n",
       "  </tbody>\n",
       "</table>\n",
       "</div>"
      ],
      "text/plain": [
       "   main_category  category  currency  country\n",
       "0          39575      1362     33853    33393\n",
       "1          63253      5174    293624   290887\n",
       "2          63253      5174    293624   290887\n",
       "3          51637     15647    293624   290887\n",
       "4          63253     10054    293624   290887"
      ]
     },
     "execution_count": 26,
     "metadata": {},
     "output_type": "execute_result"
    }
   ],
   "source": [
    "# encode (approach a)\n",
    "encoded = ce.fit_transform(ks[categorical_cols])\n",
    "encoded.head()"
   ]
  },
  {
   "cell_type": "code",
   "execution_count": 27,
   "metadata": {},
   "outputs": [],
   "source": [
    "# encode (approach b) # does not work \n",
    "# encoded = ks[categorical_cols].apply(ce.fit_transform) "
   ]
  },
  {
   "cell_type": "code",
   "execution_count": 28,
   "metadata": {},
   "outputs": [],
   "source": [
    "# encode (approach c) # does not work \n",
    "# for col in categorical_cols:\n",
    "#     ks[col + '_count'] = ce.fit_transform(ks[col])"
   ]
  },
  {
   "cell_type": "code",
   "execution_count": 29,
   "metadata": {},
   "outputs": [
    {
     "data": {
      "text/html": [
       "<div>\n",
       "<style scoped>\n",
       "    .dataframe tbody tr th:only-of-type {\n",
       "        vertical-align: middle;\n",
       "    }\n",
       "\n",
       "    .dataframe tbody tr th {\n",
       "        vertical-align: top;\n",
       "    }\n",
       "\n",
       "    .dataframe thead th {\n",
       "        text-align: right;\n",
       "    }\n",
       "</style>\n",
       "<table border=\"1\" class=\"dataframe\">\n",
       "  <thead>\n",
       "    <tr style=\"text-align: right;\">\n",
       "      <th></th>\n",
       "      <th>year</th>\n",
       "      <th>month</th>\n",
       "      <th>day</th>\n",
       "      <th>hour</th>\n",
       "      <th>is_successful</th>\n",
       "      <th>main_category</th>\n",
       "      <th>category</th>\n",
       "      <th>currency</th>\n",
       "      <th>country</th>\n",
       "    </tr>\n",
       "  </thead>\n",
       "  <tbody>\n",
       "    <tr>\n",
       "      <th>0</th>\n",
       "      <td>2015</td>\n",
       "      <td>8</td>\n",
       "      <td>11</td>\n",
       "      <td>12</td>\n",
       "      <td>0</td>\n",
       "      <td>39575</td>\n",
       "      <td>1362</td>\n",
       "      <td>33853</td>\n",
       "      <td>33393</td>\n",
       "    </tr>\n",
       "    <tr>\n",
       "      <th>1</th>\n",
       "      <td>2017</td>\n",
       "      <td>9</td>\n",
       "      <td>2</td>\n",
       "      <td>4</td>\n",
       "      <td>0</td>\n",
       "      <td>63253</td>\n",
       "      <td>5174</td>\n",
       "      <td>293624</td>\n",
       "      <td>290887</td>\n",
       "    </tr>\n",
       "    <tr>\n",
       "      <th>2</th>\n",
       "      <td>2013</td>\n",
       "      <td>1</td>\n",
       "      <td>12</td>\n",
       "      <td>0</td>\n",
       "      <td>0</td>\n",
       "      <td>63253</td>\n",
       "      <td>5174</td>\n",
       "      <td>293624</td>\n",
       "      <td>290887</td>\n",
       "    </tr>\n",
       "    <tr>\n",
       "      <th>3</th>\n",
       "      <td>2012</td>\n",
       "      <td>3</td>\n",
       "      <td>17</td>\n",
       "      <td>3</td>\n",
       "      <td>0</td>\n",
       "      <td>51637</td>\n",
       "      <td>15647</td>\n",
       "      <td>293624</td>\n",
       "      <td>290887</td>\n",
       "    </tr>\n",
       "    <tr>\n",
       "      <th>4</th>\n",
       "      <td>2015</td>\n",
       "      <td>7</td>\n",
       "      <td>4</td>\n",
       "      <td>8</td>\n",
       "      <td>0</td>\n",
       "      <td>63253</td>\n",
       "      <td>10054</td>\n",
       "      <td>293624</td>\n",
       "      <td>290887</td>\n",
       "    </tr>\n",
       "  </tbody>\n",
       "</table>\n",
       "</div>"
      ],
      "text/plain": [
       "   year  month  day  hour  is_successful  main_category  category  currency  \\\n",
       "0  2015      8   11    12              0          39575      1362     33853   \n",
       "1  2017      9    2     4              0          63253      5174    293624   \n",
       "2  2013      1   12     0              0          63253      5174    293624   \n",
       "3  2012      3   17     3              0          51637     15647    293624   \n",
       "4  2015      7    4     8              0          63253     10054    293624   \n",
       "\n",
       "   country  \n",
       "0    33393  \n",
       "1   290887  \n",
       "2   290887  \n",
       "3   290887  \n",
       "4   290887  "
      ]
     },
     "execution_count": 29,
     "metadata": {},
     "output_type": "execute_result"
    }
   ],
   "source": [
    "# combine data with the newly encoded features \n",
    "data = ks[['year','month','day','hour','is_successful']].join(encoded)\n",
    "data.head()"
   ]
  },
  {
   "cell_type": "code",
   "execution_count": 30,
   "metadata": {},
   "outputs": [
    {
     "name": "stdout",
     "output_type": "stream",
     "text": [
      "Fitting model...\n",
      "Predicting...\n",
      "Done.\n"
     ]
    }
   ],
   "source": [
    "# split the dataset \n",
    "X, y, X_train, X_test, y_train, y_test = create_train_test(data)\n",
    "\n",
    "# fit, predict and calculate new score\n",
    "roc_auc_new = score_model(X_train, X_test, y_train, y_test)"
   ]
  },
  {
   "cell_type": "code",
   "execution_count": 31,
   "metadata": {},
   "outputs": [
    {
     "name": "stdout",
     "output_type": "stream",
     "text": [
      "New model compared to baseline (ROC AUC): -3.59%\n"
     ]
    }
   ],
   "source": [
    "diff = roc_auc_new - roc_auc_baseline\n",
    "print('New model compared to baseline (ROC AUC): {:.2%}'.format(diff))"
   ]
  },
  {
   "cell_type": "markdown",
   "metadata": {},
   "source": [
    "Okay.. this didn't go as expected. In the tutorial, `CountEncoder` had very little effect but there was slight improvement in the performance metric. In my case, I'm seeing a significant decrease in model's performance. Why?"
   ]
  },
  {
   "cell_type": "markdown",
   "metadata": {},
   "source": [
    "#### Target Encoder"
   ]
  },
  {
   "cell_type": "code",
   "execution_count": 32,
   "metadata": {},
   "outputs": [],
   "source": [
    "# import module\n",
    "from category_encoders import TargetEncoder\n",
    "\n",
    "# init\n",
    "te = TargetEncoder(cols=categorical_cols)"
   ]
  },
  {
   "cell_type": "code",
   "execution_count": 33,
   "metadata": {},
   "outputs": [
    {
     "data": {
      "text/plain": [
       "TargetEncoder(cols=['main_category', 'category', 'currency', 'country'],\n",
       "              drop_invariant=False, handle_missing='value',\n",
       "              handle_unknown='value', min_samples_leaf=1, return_df=True,\n",
       "              smoothing=1.0, verbose=0)"
      ]
     },
     "execution_count": 33,
     "metadata": {},
     "output_type": "execute_result"
    }
   ],
   "source": [
    "# target encoding is fitted on just the training dataset \n",
    "# to prevent target leakage into the testing dataset \n",
    "\n",
    "# create a fresh copy of our data \n",
    "data = ks[['year','month','day','hour','is_successful']].join(ks[categorical_cols])\n",
    "\n",
    "# split data\n",
    "X, y, X_train, X_test, y_train, y_test = create_train_test(data)\n",
    "\n",
    "# fit on train\n",
    "te.fit(X_train[categorical_cols], y=y_train)"
   ]
  },
  {
   "cell_type": "code",
   "execution_count": 34,
   "metadata": {
    "scrolled": true
   },
   "outputs": [
    {
     "data": {
      "text/html": [
       "<div>\n",
       "<style scoped>\n",
       "    .dataframe tbody tr th:only-of-type {\n",
       "        vertical-align: middle;\n",
       "    }\n",
       "\n",
       "    .dataframe tbody tr th {\n",
       "        vertical-align: top;\n",
       "    }\n",
       "\n",
       "    .dataframe thead th {\n",
       "        text-align: right;\n",
       "    }\n",
       "</style>\n",
       "<table border=\"1\" class=\"dataframe\">\n",
       "  <thead>\n",
       "    <tr style=\"text-align: right;\">\n",
       "      <th></th>\n",
       "      <th>year</th>\n",
       "      <th>month</th>\n",
       "      <th>day</th>\n",
       "      <th>hour</th>\n",
       "      <th>main_category</th>\n",
       "      <th>category</th>\n",
       "      <th>currency</th>\n",
       "      <th>country</th>\n",
       "      <th>main_category_target</th>\n",
       "      <th>category_target</th>\n",
       "      <th>currency_target</th>\n",
       "      <th>country_target</th>\n",
       "    </tr>\n",
       "  </thead>\n",
       "  <tbody>\n",
       "    <tr>\n",
       "      <th>70176</th>\n",
       "      <td>2015</td>\n",
       "      <td>5</td>\n",
       "      <td>26</td>\n",
       "      <td>23</td>\n",
       "      <td>Film &amp; Video</td>\n",
       "      <td>Film &amp; Video</td>\n",
       "      <td>USD</td>\n",
       "      <td>US</td>\n",
       "      <td>0.374333</td>\n",
       "      <td>0.310345</td>\n",
       "      <td>0.372498</td>\n",
       "      <td>0.375674</td>\n",
       "    </tr>\n",
       "    <tr>\n",
       "      <th>250375</th>\n",
       "      <td>2012</td>\n",
       "      <td>9</td>\n",
       "      <td>14</td>\n",
       "      <td>14</td>\n",
       "      <td>Games</td>\n",
       "      <td>Tabletop Games</td>\n",
       "      <td>USD</td>\n",
       "      <td>US</td>\n",
       "      <td>0.357379</td>\n",
       "      <td>0.558198</td>\n",
       "      <td>0.372498</td>\n",
       "      <td>0.375674</td>\n",
       "    </tr>\n",
       "    <tr>\n",
       "      <th>166656</th>\n",
       "      <td>2013</td>\n",
       "      <td>1</td>\n",
       "      <td>31</td>\n",
       "      <td>2</td>\n",
       "      <td>Crafts</td>\n",
       "      <td>Crafts</td>\n",
       "      <td>USD</td>\n",
       "      <td>US</td>\n",
       "      <td>0.242268</td>\n",
       "      <td>0.250543</td>\n",
       "      <td>0.372498</td>\n",
       "      <td>0.375674</td>\n",
       "    </tr>\n",
       "    <tr>\n",
       "      <th>355336</th>\n",
       "      <td>2016</td>\n",
       "      <td>11</td>\n",
       "      <td>2</td>\n",
       "      <td>0</td>\n",
       "      <td>Crafts</td>\n",
       "      <td>Crafts</td>\n",
       "      <td>USD</td>\n",
       "      <td>US</td>\n",
       "      <td>0.242268</td>\n",
       "      <td>0.250543</td>\n",
       "      <td>0.372498</td>\n",
       "      <td>0.375674</td>\n",
       "    </tr>\n",
       "    <tr>\n",
       "      <th>199269</th>\n",
       "      <td>2012</td>\n",
       "      <td>12</td>\n",
       "      <td>6</td>\n",
       "      <td>0</td>\n",
       "      <td>Music</td>\n",
       "      <td>Indie Rock</td>\n",
       "      <td>USD</td>\n",
       "      <td>US</td>\n",
       "      <td>0.469162</td>\n",
       "      <td>0.640872</td>\n",
       "      <td>0.372498</td>\n",
       "      <td>0.375674</td>\n",
       "    </tr>\n",
       "  </tbody>\n",
       "</table>\n",
       "</div>"
      ],
      "text/plain": [
       "        year  month  day  hour main_category        category currency country  \\\n",
       "70176   2015      5   26    23  Film & Video    Film & Video      USD      US   \n",
       "250375  2012      9   14    14         Games  Tabletop Games      USD      US   \n",
       "166656  2013      1   31     2        Crafts          Crafts      USD      US   \n",
       "355336  2016     11    2     0        Crafts          Crafts      USD      US   \n",
       "199269  2012     12    6     0         Music      Indie Rock      USD      US   \n",
       "\n",
       "        main_category_target  category_target  currency_target  country_target  \n",
       "70176               0.374333         0.310345         0.372498        0.375674  \n",
       "250375              0.357379         0.558198         0.372498        0.375674  \n",
       "166656              0.242268         0.250543         0.372498        0.375674  \n",
       "355336              0.242268         0.250543         0.372498        0.375674  \n",
       "199269              0.469162         0.640872         0.372498        0.375674  "
      ]
     },
     "execution_count": 34,
     "metadata": {},
     "output_type": "execute_result"
    }
   ],
   "source": [
    "# tranform categorical features of both train and test\n",
    "X_train = X_train.join(te.transform(X_train[categorical_cols]).add_suffix('_target'))\n",
    "X_test = X_test.join(te.transform(X_test[categorical_cols]).add_suffix('_target'))\n",
    "\n",
    "# inspect\n",
    "X_train.head()"
   ]
  },
  {
   "cell_type": "code",
   "execution_count": 35,
   "metadata": {},
   "outputs": [
    {
     "data": {
      "text/html": [
       "<div>\n",
       "<style scoped>\n",
       "    .dataframe tbody tr th:only-of-type {\n",
       "        vertical-align: middle;\n",
       "    }\n",
       "\n",
       "    .dataframe tbody tr th {\n",
       "        vertical-align: top;\n",
       "    }\n",
       "\n",
       "    .dataframe thead th {\n",
       "        text-align: right;\n",
       "    }\n",
       "</style>\n",
       "<table border=\"1\" class=\"dataframe\">\n",
       "  <thead>\n",
       "    <tr style=\"text-align: right;\">\n",
       "      <th></th>\n",
       "      <th>year</th>\n",
       "      <th>month</th>\n",
       "      <th>day</th>\n",
       "      <th>hour</th>\n",
       "      <th>main_category_target</th>\n",
       "      <th>category_target</th>\n",
       "      <th>currency_target</th>\n",
       "      <th>country_target</th>\n",
       "    </tr>\n",
       "  </thead>\n",
       "  <tbody>\n",
       "    <tr>\n",
       "      <th>70176</th>\n",
       "      <td>2015</td>\n",
       "      <td>5</td>\n",
       "      <td>26</td>\n",
       "      <td>23</td>\n",
       "      <td>0.374333</td>\n",
       "      <td>0.310345</td>\n",
       "      <td>0.372498</td>\n",
       "      <td>0.375674</td>\n",
       "    </tr>\n",
       "    <tr>\n",
       "      <th>250375</th>\n",
       "      <td>2012</td>\n",
       "      <td>9</td>\n",
       "      <td>14</td>\n",
       "      <td>14</td>\n",
       "      <td>0.357379</td>\n",
       "      <td>0.558198</td>\n",
       "      <td>0.372498</td>\n",
       "      <td>0.375674</td>\n",
       "    </tr>\n",
       "    <tr>\n",
       "      <th>166656</th>\n",
       "      <td>2013</td>\n",
       "      <td>1</td>\n",
       "      <td>31</td>\n",
       "      <td>2</td>\n",
       "      <td>0.242268</td>\n",
       "      <td>0.250543</td>\n",
       "      <td>0.372498</td>\n",
       "      <td>0.375674</td>\n",
       "    </tr>\n",
       "    <tr>\n",
       "      <th>355336</th>\n",
       "      <td>2016</td>\n",
       "      <td>11</td>\n",
       "      <td>2</td>\n",
       "      <td>0</td>\n",
       "      <td>0.242268</td>\n",
       "      <td>0.250543</td>\n",
       "      <td>0.372498</td>\n",
       "      <td>0.375674</td>\n",
       "    </tr>\n",
       "    <tr>\n",
       "      <th>199269</th>\n",
       "      <td>2012</td>\n",
       "      <td>12</td>\n",
       "      <td>6</td>\n",
       "      <td>0</td>\n",
       "      <td>0.469162</td>\n",
       "      <td>0.640872</td>\n",
       "      <td>0.372498</td>\n",
       "      <td>0.375674</td>\n",
       "    </tr>\n",
       "  </tbody>\n",
       "</table>\n",
       "</div>"
      ],
      "text/plain": [
       "        year  month  day  hour  main_category_target  category_target  \\\n",
       "70176   2015      5   26    23              0.374333         0.310345   \n",
       "250375  2012      9   14    14              0.357379         0.558198   \n",
       "166656  2013      1   31     2              0.242268         0.250543   \n",
       "355336  2016     11    2     0              0.242268         0.250543   \n",
       "199269  2012     12    6     0              0.469162         0.640872   \n",
       "\n",
       "        currency_target  country_target  \n",
       "70176          0.372498        0.375674  \n",
       "250375         0.372498        0.375674  \n",
       "166656         0.372498        0.375674  \n",
       "355336         0.372498        0.375674  \n",
       "199269         0.372498        0.375674  "
      ]
     },
     "execution_count": 35,
     "metadata": {},
     "output_type": "execute_result"
    }
   ],
   "source": [
    "# drop the original categorical features \n",
    "for df in [X_train, X_test]:\n",
    "    df.drop(['main_category','category','currency','country'], axis=1, inplace=True)\n",
    "    \n",
    "# inspect\n",
    "X_train.head()"
   ]
  },
  {
   "cell_type": "code",
   "execution_count": 36,
   "metadata": {},
   "outputs": [
    {
     "name": "stdout",
     "output_type": "stream",
     "text": [
      "Fitting model...\n",
      "Predicting...\n",
      "Done.\n"
     ]
    }
   ],
   "source": [
    "# fit, predict and calculate new score\n",
    "roc_auc_new = score_model(X_train, X_test, y_train, y_test)"
   ]
  },
  {
   "cell_type": "code",
   "execution_count": 37,
   "metadata": {},
   "outputs": [
    {
     "name": "stdout",
     "output_type": "stream",
     "text": [
      "New model compared to baseline (ROC AUC): -2.68%\n"
     ]
    }
   ],
   "source": [
    "diff = roc_auc_new - roc_auc_baseline\n",
    "print('New model compared to baseline (ROC AUC): {:.2%}'.format(diff))"
   ]
  },
  {
   "cell_type": "markdown",
   "metadata": {},
   "source": [
    "Again, worse performance compared to the baseline model. Again, not sure why. Since, for me the best encoder remains `LabelEncoder()` I'm sticking with it. In the tutorial, they appeneded the newly encoded categorical features using the best performing encoder (`CatBoost()`) to their full dataset."
   ]
  },
  {
   "cell_type": "code",
   "execution_count": 38,
   "metadata": {},
   "outputs": [],
   "source": [
    "# encoded = te.transform(ks[categorical_cols])\n",
    "# for col in encoded:\n",
    "#     ks.insert(len(ks.columns), col + '_target', encoded[col])\n",
    "\n",
    "# ks.head()"
   ]
  },
  {
   "cell_type": "markdown",
   "metadata": {},
   "source": [
    "## 3. Feature Generation"
   ]
  },
  {
   "cell_type": "code",
   "execution_count": 39,
   "metadata": {},
   "outputs": [
    {
     "data": {
      "text/html": [
       "<div>\n",
       "<style scoped>\n",
       "    .dataframe tbody tr th:only-of-type {\n",
       "        vertical-align: middle;\n",
       "    }\n",
       "\n",
       "    .dataframe tbody tr th {\n",
       "        vertical-align: top;\n",
       "    }\n",
       "\n",
       "    .dataframe thead th {\n",
       "        text-align: right;\n",
       "    }\n",
       "</style>\n",
       "<table border=\"1\" class=\"dataframe\">\n",
       "  <thead>\n",
       "    <tr style=\"text-align: right;\">\n",
       "      <th></th>\n",
       "      <th>ID</th>\n",
       "      <th>name</th>\n",
       "      <th>category</th>\n",
       "      <th>main_category</th>\n",
       "      <th>currency</th>\n",
       "      <th>deadline</th>\n",
       "      <th>goal</th>\n",
       "      <th>launched</th>\n",
       "      <th>pledged</th>\n",
       "      <th>state</th>\n",
       "      <th>backers</th>\n",
       "      <th>country</th>\n",
       "      <th>usd pledged</th>\n",
       "      <th>usd_pledged_real</th>\n",
       "      <th>usd_goal_real</th>\n",
       "      <th>is_successful</th>\n",
       "      <th>year</th>\n",
       "      <th>month</th>\n",
       "      <th>day</th>\n",
       "      <th>hour</th>\n",
       "    </tr>\n",
       "  </thead>\n",
       "  <tbody>\n",
       "    <tr>\n",
       "      <th>0</th>\n",
       "      <td>1000002330</td>\n",
       "      <td>The Songs of Adelaide &amp; Abullah</td>\n",
       "      <td>Poetry</td>\n",
       "      <td>Publishing</td>\n",
       "      <td>GBP</td>\n",
       "      <td>2015-10-09</td>\n",
       "      <td>1000.0</td>\n",
       "      <td>2015-08-11 12:12:28</td>\n",
       "      <td>0.0</td>\n",
       "      <td>failed</td>\n",
       "      <td>0</td>\n",
       "      <td>GB</td>\n",
       "      <td>0.0</td>\n",
       "      <td>0.0</td>\n",
       "      <td>1533.95</td>\n",
       "      <td>0</td>\n",
       "      <td>2015</td>\n",
       "      <td>8</td>\n",
       "      <td>11</td>\n",
       "      <td>12</td>\n",
       "    </tr>\n",
       "    <tr>\n",
       "      <th>1</th>\n",
       "      <td>1000003930</td>\n",
       "      <td>Greeting From Earth: ZGAC Arts Capsule For ET</td>\n",
       "      <td>Narrative Film</td>\n",
       "      <td>Film &amp; Video</td>\n",
       "      <td>USD</td>\n",
       "      <td>2017-11-01</td>\n",
       "      <td>30000.0</td>\n",
       "      <td>2017-09-02 04:43:57</td>\n",
       "      <td>2421.0</td>\n",
       "      <td>failed</td>\n",
       "      <td>15</td>\n",
       "      <td>US</td>\n",
       "      <td>100.0</td>\n",
       "      <td>2421.0</td>\n",
       "      <td>30000.00</td>\n",
       "      <td>0</td>\n",
       "      <td>2017</td>\n",
       "      <td>9</td>\n",
       "      <td>2</td>\n",
       "      <td>4</td>\n",
       "    </tr>\n",
       "    <tr>\n",
       "      <th>2</th>\n",
       "      <td>1000004038</td>\n",
       "      <td>Where is Hank?</td>\n",
       "      <td>Narrative Film</td>\n",
       "      <td>Film &amp; Video</td>\n",
       "      <td>USD</td>\n",
       "      <td>2013-02-26</td>\n",
       "      <td>45000.0</td>\n",
       "      <td>2013-01-12 00:20:50</td>\n",
       "      <td>220.0</td>\n",
       "      <td>failed</td>\n",
       "      <td>3</td>\n",
       "      <td>US</td>\n",
       "      <td>220.0</td>\n",
       "      <td>220.0</td>\n",
       "      <td>45000.00</td>\n",
       "      <td>0</td>\n",
       "      <td>2013</td>\n",
       "      <td>1</td>\n",
       "      <td>12</td>\n",
       "      <td>0</td>\n",
       "    </tr>\n",
       "    <tr>\n",
       "      <th>3</th>\n",
       "      <td>1000007540</td>\n",
       "      <td>ToshiCapital Rekordz Needs Help to Complete Album</td>\n",
       "      <td>Music</td>\n",
       "      <td>Music</td>\n",
       "      <td>USD</td>\n",
       "      <td>2012-04-16</td>\n",
       "      <td>5000.0</td>\n",
       "      <td>2012-03-17 03:24:11</td>\n",
       "      <td>1.0</td>\n",
       "      <td>failed</td>\n",
       "      <td>1</td>\n",
       "      <td>US</td>\n",
       "      <td>1.0</td>\n",
       "      <td>1.0</td>\n",
       "      <td>5000.00</td>\n",
       "      <td>0</td>\n",
       "      <td>2012</td>\n",
       "      <td>3</td>\n",
       "      <td>17</td>\n",
       "      <td>3</td>\n",
       "    </tr>\n",
       "    <tr>\n",
       "      <th>4</th>\n",
       "      <td>1000011046</td>\n",
       "      <td>Community Film Project: The Art of Neighborhoo...</td>\n",
       "      <td>Film &amp; Video</td>\n",
       "      <td>Film &amp; Video</td>\n",
       "      <td>USD</td>\n",
       "      <td>2015-08-29</td>\n",
       "      <td>19500.0</td>\n",
       "      <td>2015-07-04 08:35:03</td>\n",
       "      <td>1283.0</td>\n",
       "      <td>canceled</td>\n",
       "      <td>14</td>\n",
       "      <td>US</td>\n",
       "      <td>1283.0</td>\n",
       "      <td>1283.0</td>\n",
       "      <td>19500.00</td>\n",
       "      <td>0</td>\n",
       "      <td>2015</td>\n",
       "      <td>7</td>\n",
       "      <td>4</td>\n",
       "      <td>8</td>\n",
       "    </tr>\n",
       "  </tbody>\n",
       "</table>\n",
       "</div>"
      ],
      "text/plain": [
       "           ID                                               name  \\\n",
       "0  1000002330                    The Songs of Adelaide & Abullah   \n",
       "1  1000003930      Greeting From Earth: ZGAC Arts Capsule For ET   \n",
       "2  1000004038                                     Where is Hank?   \n",
       "3  1000007540  ToshiCapital Rekordz Needs Help to Complete Album   \n",
       "4  1000011046  Community Film Project: The Art of Neighborhoo...   \n",
       "\n",
       "         category main_category currency   deadline     goal  \\\n",
       "0          Poetry    Publishing      GBP 2015-10-09   1000.0   \n",
       "1  Narrative Film  Film & Video      USD 2017-11-01  30000.0   \n",
       "2  Narrative Film  Film & Video      USD 2013-02-26  45000.0   \n",
       "3           Music         Music      USD 2012-04-16   5000.0   \n",
       "4    Film & Video  Film & Video      USD 2015-08-29  19500.0   \n",
       "\n",
       "             launched  pledged     state  backers country  usd pledged  \\\n",
       "0 2015-08-11 12:12:28      0.0    failed        0      GB          0.0   \n",
       "1 2017-09-02 04:43:57   2421.0    failed       15      US        100.0   \n",
       "2 2013-01-12 00:20:50    220.0    failed        3      US        220.0   \n",
       "3 2012-03-17 03:24:11      1.0    failed        1      US          1.0   \n",
       "4 2015-07-04 08:35:03   1283.0  canceled       14      US       1283.0   \n",
       "\n",
       "   usd_pledged_real  usd_goal_real  is_successful  year  month  day  hour  \n",
       "0               0.0        1533.95              0  2015      8   11    12  \n",
       "1            2421.0       30000.00              0  2017      9    2     4  \n",
       "2             220.0       45000.00              0  2013      1   12     0  \n",
       "3               1.0        5000.00              0  2012      3   17     3  \n",
       "4            1283.0       19500.00              0  2015      7    4     8  "
      ]
     },
     "execution_count": 39,
     "metadata": {},
     "output_type": "execute_result"
    }
   ],
   "source": [
    "# inspect dataset\n",
    "ks.head()"
   ]
  },
  {
   "cell_type": "code",
   "execution_count": 40,
   "metadata": {},
   "outputs": [],
   "source": [
    "# create a clean DataFrame 'data'\n",
    "data = ks[['year','month','day','hour','is_successful']]"
   ]
  },
  {
   "cell_type": "markdown",
   "metadata": {},
   "source": [
    "#### Interactions"
   ]
  },
  {
   "cell_type": "markdown",
   "metadata": {},
   "source": [
    "The easiest way to create new features is to combine existing categorical features into new ones.\n"
   ]
  },
  {
   "cell_type": "code",
   "execution_count": 41,
   "metadata": {},
   "outputs": [
    {
     "data": {
      "text/html": [
       "<div>\n",
       "<style scoped>\n",
       "    .dataframe tbody tr th:only-of-type {\n",
       "        vertical-align: middle;\n",
       "    }\n",
       "\n",
       "    .dataframe tbody tr th {\n",
       "        vertical-align: top;\n",
       "    }\n",
       "\n",
       "    .dataframe thead th {\n",
       "        text-align: right;\n",
       "    }\n",
       "</style>\n",
       "<table border=\"1\" class=\"dataframe\">\n",
       "  <thead>\n",
       "    <tr style=\"text-align: right;\">\n",
       "      <th></th>\n",
       "      <th>main_category__category</th>\n",
       "      <th>main_category__currency</th>\n",
       "      <th>main_category__country</th>\n",
       "      <th>category__currency</th>\n",
       "      <th>category__country</th>\n",
       "      <th>currency__country</th>\n",
       "    </tr>\n",
       "  </thead>\n",
       "  <tbody>\n",
       "    <tr>\n",
       "      <th>0</th>\n",
       "      <td>Publishing_Poetry</td>\n",
       "      <td>Publishing_GBP</td>\n",
       "      <td>Publishing_GB</td>\n",
       "      <td>Poetry_GBP</td>\n",
       "      <td>Poetry_GB</td>\n",
       "      <td>GBP_GB</td>\n",
       "    </tr>\n",
       "    <tr>\n",
       "      <th>1</th>\n",
       "      <td>Film &amp; Video_Narrative Film</td>\n",
       "      <td>Film &amp; Video_USD</td>\n",
       "      <td>Film &amp; Video_US</td>\n",
       "      <td>Narrative Film_USD</td>\n",
       "      <td>Narrative Film_US</td>\n",
       "      <td>USD_US</td>\n",
       "    </tr>\n",
       "    <tr>\n",
       "      <th>2</th>\n",
       "      <td>Film &amp; Video_Narrative Film</td>\n",
       "      <td>Film &amp; Video_USD</td>\n",
       "      <td>Film &amp; Video_US</td>\n",
       "      <td>Narrative Film_USD</td>\n",
       "      <td>Narrative Film_US</td>\n",
       "      <td>USD_US</td>\n",
       "    </tr>\n",
       "    <tr>\n",
       "      <th>3</th>\n",
       "      <td>Music_Music</td>\n",
       "      <td>Music_USD</td>\n",
       "      <td>Music_US</td>\n",
       "      <td>Music_USD</td>\n",
       "      <td>Music_US</td>\n",
       "      <td>USD_US</td>\n",
       "    </tr>\n",
       "    <tr>\n",
       "      <th>4</th>\n",
       "      <td>Film &amp; Video_Film &amp; Video</td>\n",
       "      <td>Film &amp; Video_USD</td>\n",
       "      <td>Film &amp; Video_US</td>\n",
       "      <td>Film &amp; Video_USD</td>\n",
       "      <td>Film &amp; Video_US</td>\n",
       "      <td>USD_US</td>\n",
       "    </tr>\n",
       "  </tbody>\n",
       "</table>\n",
       "</div>"
      ],
      "text/plain": [
       "       main_category__category main_category__currency main_category__country  \\\n",
       "0            Publishing_Poetry          Publishing_GBP          Publishing_GB   \n",
       "1  Film & Video_Narrative Film        Film & Video_USD        Film & Video_US   \n",
       "2  Film & Video_Narrative Film        Film & Video_USD        Film & Video_US   \n",
       "3                  Music_Music               Music_USD               Music_US   \n",
       "4    Film & Video_Film & Video        Film & Video_USD        Film & Video_US   \n",
       "\n",
       "   category__currency  category__country currency__country  \n",
       "0          Poetry_GBP          Poetry_GB            GBP_GB  \n",
       "1  Narrative Film_USD  Narrative Film_US            USD_US  \n",
       "2  Narrative Film_USD  Narrative Film_US            USD_US  \n",
       "3           Music_USD           Music_US            USD_US  \n",
       "4    Film & Video_USD    Film & Video_US            USD_US  "
      ]
     },
     "execution_count": 41,
     "metadata": {},
     "output_type": "execute_result"
    }
   ],
   "source": [
    "# select categorical features\n",
    "categorical_cols = ['main_category', 'category', 'currency', 'country']\n",
    "interactions = pd.DataFrame(index=ks.index)\n",
    "\n",
    "# import module to help us create combinations \n",
    "import itertools \n",
    "\n",
    "# create nww column names\n",
    "# names = ['_'.join([col1, col2]) for col1, col2 in itertools.combinations(categorical_cols, 2)]    \n",
    "\n",
    "for col1, col2 in itertools.combinations(categorical_cols, 2):\n",
    "    # create a new label for each new interaction feature \n",
    "    col_name = '__'.join([col1, col2]) # 'main_category__country'\n",
    "    \n",
    "    # combine values \n",
    "    # values = ks[col1] + '_' + ks[col2] # works too\n",
    "    values = ks[col1].map(str) + '_' + ks[col2].map(str)\n",
    "    \n",
    "    # save \n",
    "    interactions[col_name] = values\n",
    "    \n",
    "# inspect\n",
    "interactions.head()"
   ]
  },
  {
   "cell_type": "code",
   "execution_count": 42,
   "metadata": {},
   "outputs": [
    {
     "data": {
      "text/html": [
       "<div>\n",
       "<style scoped>\n",
       "    .dataframe tbody tr th:only-of-type {\n",
       "        vertical-align: middle;\n",
       "    }\n",
       "\n",
       "    .dataframe tbody tr th {\n",
       "        vertical-align: top;\n",
       "    }\n",
       "\n",
       "    .dataframe thead th {\n",
       "        text-align: right;\n",
       "    }\n",
       "</style>\n",
       "<table border=\"1\" class=\"dataframe\">\n",
       "  <thead>\n",
       "    <tr style=\"text-align: right;\">\n",
       "      <th></th>\n",
       "      <th>main_category__category</th>\n",
       "      <th>main_category__currency</th>\n",
       "      <th>main_category__country</th>\n",
       "      <th>category__currency</th>\n",
       "      <th>category__country</th>\n",
       "      <th>currency__country</th>\n",
       "    </tr>\n",
       "  </thead>\n",
       "  <tbody>\n",
       "    <tr>\n",
       "      <th>0</th>\n",
       "      <td>140</td>\n",
       "      <td>168</td>\n",
       "      <td>275</td>\n",
       "      <td>1215</td>\n",
       "      <td>1900</td>\n",
       "      <td>18</td>\n",
       "    </tr>\n",
       "    <tr>\n",
       "      <th>1</th>\n",
       "      <td>68</td>\n",
       "      <td>94</td>\n",
       "      <td>152</td>\n",
       "      <td>1047</td>\n",
       "      <td>1630</td>\n",
       "      <td>31</td>\n",
       "    </tr>\n",
       "    <tr>\n",
       "      <th>2</th>\n",
       "      <td>68</td>\n",
       "      <td>94</td>\n",
       "      <td>152</td>\n",
       "      <td>1047</td>\n",
       "      <td>1630</td>\n",
       "      <td>31</td>\n",
       "    </tr>\n",
       "    <tr>\n",
       "      <th>3</th>\n",
       "      <td>115</td>\n",
       "      <td>148</td>\n",
       "      <td>242</td>\n",
       "      <td>1024</td>\n",
       "      <td>1595</td>\n",
       "      <td>31</td>\n",
       "    </tr>\n",
       "    <tr>\n",
       "      <th>4</th>\n",
       "      <td>64</td>\n",
       "      <td>94</td>\n",
       "      <td>152</td>\n",
       "      <td>630</td>\n",
       "      <td>979</td>\n",
       "      <td>31</td>\n",
       "    </tr>\n",
       "  </tbody>\n",
       "</table>\n",
       "</div>"
      ],
      "text/plain": [
       "   main_category__category  main_category__currency  main_category__country  \\\n",
       "0                      140                      168                     275   \n",
       "1                       68                       94                     152   \n",
       "2                       68                       94                     152   \n",
       "3                      115                      148                     242   \n",
       "4                       64                       94                     152   \n",
       "\n",
       "   category__currency  category__country  currency__country  \n",
       "0                1215               1900                 18  \n",
       "1                1047               1630                 31  \n",
       "2                1047               1630                 31  \n",
       "3                1024               1595                 31  \n",
       "4                 630                979                 31  "
      ]
     },
     "execution_count": 42,
     "metadata": {},
     "output_type": "execute_result"
    }
   ],
   "source": [
    "# init encoder\n",
    "le = LabelEncoder()\n",
    "\n",
    "# encode \n",
    "encoded = interactions.apply(le.fit_transform)\n",
    "\n",
    "# inspect\n",
    "encoded.head()"
   ]
  },
  {
   "cell_type": "markdown",
   "metadata": {},
   "source": [
    "#### Number of projects launched in the last week"
   ]
  },
  {
   "cell_type": "code",
   "execution_count": 43,
   "metadata": {},
   "outputs": [
    {
     "data": {
      "text/plain": [
       "launched\n",
       "1970-01-01 01:00:00     94579\n",
       "1970-01-01 01:00:00    319002\n",
       "1970-01-01 01:00:00    247913\n",
       "1970-01-01 01:00:00     48147\n",
       "1970-01-01 01:00:00     75397\n",
       "1970-01-01 01:00:00      2842\n",
       "1970-01-01 01:00:00    273779\n",
       "2009-04-21 21:02:48    169268\n",
       "2009-04-23 00:07:53    322000\n",
       "2009-04-24 21:52:03    138572\n",
       "2009-04-25 17:36:21    325391\n",
       "2009-04-27 14:10:39    122662\n",
       "2009-04-28 13:55:41    213711\n",
       "2009-04-29 02:04:21    345606\n",
       "2009-04-29 02:58:50    235255\n",
       "Name: n_projects_7_days, dtype: int64"
      ]
     },
     "execution_count": 43,
     "metadata": {},
     "output_type": "execute_result"
    }
   ],
   "source": [
    "# create a new Series with 'launched' as index , order it\n",
    "launched = pd.Series(ks.index, index=ks.launched, name='n_projects_7_days').sort_index()\n",
    "launched[:15]"
   ]
  },
  {
   "cell_type": "code",
   "execution_count": 44,
   "metadata": {},
   "outputs": [
    {
     "data": {
      "text/plain": [
       "launched\n",
       "1970-01-01 01:00:00    0.0\n",
       "1970-01-01 01:00:00    1.0\n",
       "1970-01-01 01:00:00    2.0\n",
       "1970-01-01 01:00:00    3.0\n",
       "1970-01-01 01:00:00    4.0\n",
       "1970-01-01 01:00:00    5.0\n",
       "1970-01-01 01:00:00    6.0\n",
       "2009-04-21 21:02:48    0.0\n",
       "2009-04-23 00:07:53    1.0\n",
       "2009-04-24 21:52:03    2.0\n",
       "2009-04-25 17:36:21    3.0\n",
       "2009-04-27 14:10:39    4.0\n",
       "2009-04-28 13:55:41    5.0\n",
       "2009-04-29 02:04:21    5.0\n",
       "2009-04-29 02:58:50    6.0\n",
       "Name: n_projects_7_days, dtype: float64"
      ]
     },
     "execution_count": 44,
     "metadata": {},
     "output_type": "execute_result"
    }
   ],
   "source": [
    "# create a rolling 7-day count of projects, excluding the current project\n",
    "rolling_7d = launched.rolling('7D').count() -1\n",
    "rolling_7d[:15]"
   ]
  },
  {
   "cell_type": "code",
   "execution_count": 45,
   "metadata": {},
   "outputs": [
    {
     "data": {
      "text/plain": [
       "94579     0.0\n",
       "319002    1.0\n",
       "247913    2.0\n",
       "48147     3.0\n",
       "75397     4.0\n",
       "Name: n_projects_7_days, dtype: float64"
      ]
     },
     "execution_count": 45,
     "metadata": {},
     "output_type": "execute_result"
    }
   ],
   "source": [
    "# now, in order for me to be able to join onto the main dataset\n",
    "# I need my 'rolling_7d' Series to have the same index as my 'ks' dataset\n",
    "rolling_7d.index = launched.values\n",
    "rolling_7d[:5]"
   ]
  },
  {
   "cell_type": "code",
   "execution_count": 46,
   "metadata": {},
   "outputs": [
    {
     "data": {
      "text/plain": [
       "0    1409.0\n",
       "1     957.0\n",
       "2     739.0\n",
       "3     907.0\n",
       "4    1429.0\n",
       "Name: n_projects_7_days, dtype: float64"
      ]
     },
     "execution_count": 46,
     "metadata": {},
     "output_type": "execute_result"
    }
   ],
   "source": [
    "# now, optionally, I can reindex to reorder it, but I could join this already if I wnated to \n",
    "rolling_7d = rolling_7d.reindex(ks.index)\n",
    "# rolling_7d = pd.DataFrame(rolling_7d)\n",
    "\n",
    "# inspect the reindexed Series 'rolling_7d'\n",
    "rolling_7d[:5]"
   ]
  },
  {
   "cell_type": "markdown",
   "metadata": {},
   "source": [
    "#### Time since the last project in the same category "
   ]
  },
  {
   "cell_type": "code",
   "execution_count": 47,
   "metadata": {},
   "outputs": [],
   "source": [
    "# order the DataFrame by 'launched' from oldest to newest\n",
    "df = ks[['category','launched']].sort_values('launched')\n",
    "\n",
    "# limit to 10k to speed up calculations\n",
    "# df = df.iloc[:1000, :]\n",
    "\n",
    "# create a groupby object\n",
    "grp = df.groupby('category')\n",
    "\n",
    "# define a function to apply to our group object \n",
    "def calculate_td(series):\n",
    "    \"\"\"Calculate the difference in hours between the launch date\n",
    "    of the current project versus the previous project in the same\n",
    "    category.\n",
    "    \n",
    "    Series must be ordered by launch date.\"\"\"\n",
    "    return series.diff().dt.total_seconds() / 3600\n",
    "\n",
    "timedeltas = grp.transform(calculate_td)"
   ]
  },
  {
   "cell_type": "code",
   "execution_count": 48,
   "metadata": {},
   "outputs": [
    {
     "data": {
      "text/html": [
       "<div>\n",
       "<style scoped>\n",
       "    .dataframe tbody tr th:only-of-type {\n",
       "        vertical-align: middle;\n",
       "    }\n",
       "\n",
       "    .dataframe tbody tr th {\n",
       "        vertical-align: top;\n",
       "    }\n",
       "\n",
       "    .dataframe thead th {\n",
       "        text-align: right;\n",
       "    }\n",
       "</style>\n",
       "<table border=\"1\" class=\"dataframe\">\n",
       "  <thead>\n",
       "    <tr style=\"text-align: right;\">\n",
       "      <th></th>\n",
       "      <th>launched</th>\n",
       "    </tr>\n",
       "  </thead>\n",
       "  <tbody>\n",
       "    <tr>\n",
       "      <th>94579</th>\n",
       "      <td>NaN</td>\n",
       "    </tr>\n",
       "    <tr>\n",
       "      <th>319002</th>\n",
       "      <td>NaN</td>\n",
       "    </tr>\n",
       "    <tr>\n",
       "      <th>247913</th>\n",
       "      <td>NaN</td>\n",
       "    </tr>\n",
       "    <tr>\n",
       "      <th>48147</th>\n",
       "      <td>NaN</td>\n",
       "    </tr>\n",
       "    <tr>\n",
       "      <th>75397</th>\n",
       "      <td>NaN</td>\n",
       "    </tr>\n",
       "    <tr>\n",
       "      <th>2842</th>\n",
       "      <td>0.000000</td>\n",
       "    </tr>\n",
       "    <tr>\n",
       "      <th>273779</th>\n",
       "      <td>NaN</td>\n",
       "    </tr>\n",
       "    <tr>\n",
       "      <th>169268</th>\n",
       "      <td>NaN</td>\n",
       "    </tr>\n",
       "    <tr>\n",
       "      <th>322000</th>\n",
       "      <td>NaN</td>\n",
       "    </tr>\n",
       "    <tr>\n",
       "      <th>138572</th>\n",
       "      <td>NaN</td>\n",
       "    </tr>\n",
       "    <tr>\n",
       "      <th>325391</th>\n",
       "      <td>NaN</td>\n",
       "    </tr>\n",
       "    <tr>\n",
       "      <th>122662</th>\n",
       "      <td>137.130833</td>\n",
       "    </tr>\n",
       "    <tr>\n",
       "      <th>213711</th>\n",
       "      <td>NaN</td>\n",
       "    </tr>\n",
       "    <tr>\n",
       "      <th>345606</th>\n",
       "      <td>145.941111</td>\n",
       "    </tr>\n",
       "    <tr>\n",
       "      <th>235255</th>\n",
       "      <td>NaN</td>\n",
       "    </tr>\n",
       "  </tbody>\n",
       "</table>\n",
       "</div>"
      ],
      "text/plain": [
       "          launched\n",
       "94579          NaN\n",
       "319002         NaN\n",
       "247913         NaN\n",
       "48147          NaN\n",
       "75397          NaN\n",
       "2842      0.000000\n",
       "273779         NaN\n",
       "169268         NaN\n",
       "322000         NaN\n",
       "138572         NaN\n",
       "325391         NaN\n",
       "122662  137.130833\n",
       "213711         NaN\n",
       "345606  145.941111\n",
       "235255         NaN"
      ]
     },
     "execution_count": 48,
     "metadata": {},
     "output_type": "execute_result"
    }
   ],
   "source": [
    "# inspect \n",
    "timedeltas[:15]"
   ]
  },
  {
   "cell_type": "markdown",
   "metadata": {},
   "source": [
    "Where we have `NaN` the project was the first project in its category. We need to fill these in. In the tutorial, they used `median` but I think that we can use `0` instead. "
   ]
  },
  {
   "cell_type": "code",
   "execution_count": 49,
   "metadata": {},
   "outputs": [
    {
     "data": {
      "text/html": [
       "<div>\n",
       "<style scoped>\n",
       "    .dataframe tbody tr th:only-of-type {\n",
       "        vertical-align: middle;\n",
       "    }\n",
       "\n",
       "    .dataframe tbody tr th {\n",
       "        vertical-align: top;\n",
       "    }\n",
       "\n",
       "    .dataframe thead th {\n",
       "        text-align: right;\n",
       "    }\n",
       "</style>\n",
       "<table border=\"1\" class=\"dataframe\">\n",
       "  <thead>\n",
       "    <tr style=\"text-align: right;\">\n",
       "      <th></th>\n",
       "      <th>hrs_since_last_proj_in_cat</th>\n",
       "    </tr>\n",
       "  </thead>\n",
       "  <tbody>\n",
       "    <tr>\n",
       "      <th>0</th>\n",
       "      <td>18.606111</td>\n",
       "    </tr>\n",
       "    <tr>\n",
       "      <th>1</th>\n",
       "      <td>5.592778</td>\n",
       "    </tr>\n",
       "    <tr>\n",
       "      <th>2</th>\n",
       "      <td>1.313611</td>\n",
       "    </tr>\n",
       "    <tr>\n",
       "      <th>3</th>\n",
       "      <td>0.635000</td>\n",
       "    </tr>\n",
       "    <tr>\n",
       "      <th>4</th>\n",
       "      <td>16.661389</td>\n",
       "    </tr>\n",
       "  </tbody>\n",
       "</table>\n",
       "</div>"
      ],
      "text/plain": [
       "   hrs_since_last_proj_in_cat\n",
       "0                   18.606111\n",
       "1                    5.592778\n",
       "2                    1.313611\n",
       "3                    0.635000\n",
       "4                   16.661389"
      ]
     },
     "execution_count": 49,
     "metadata": {},
     "output_type": "execute_result"
    }
   ],
   "source": [
    "# fill in missing values and reindex \n",
    "timedeltas = timedeltas.fillna(0).reindex(ks.index)\n",
    "\n",
    "# change the column name  \n",
    "timedeltas.columns = ['hrs_since_last_proj_in_cat']\n",
    "timedeltas[:5]"
   ]
  },
  {
   "cell_type": "markdown",
   "metadata": {},
   "source": [
    "#### Number of projects from the same category launched in the last 30 days "
   ]
  },
  {
   "cell_type": "code",
   "execution_count": 50,
   "metadata": {},
   "outputs": [
    {
     "data": {
      "text/html": [
       "<div>\n",
       "<style scoped>\n",
       "    .dataframe tbody tr th:only-of-type {\n",
       "        vertical-align: middle;\n",
       "    }\n",
       "\n",
       "    .dataframe tbody tr th {\n",
       "        vertical-align: top;\n",
       "    }\n",
       "\n",
       "    .dataframe thead th {\n",
       "        text-align: right;\n",
       "    }\n",
       "</style>\n",
       "<table border=\"1\" class=\"dataframe\">\n",
       "  <thead>\n",
       "    <tr style=\"text-align: right;\">\n",
       "      <th></th>\n",
       "      <th>is_successful</th>\n",
       "    </tr>\n",
       "    <tr>\n",
       "      <th>launched</th>\n",
       "      <th></th>\n",
       "    </tr>\n",
       "  </thead>\n",
       "  <tbody>\n",
       "    <tr>\n",
       "      <th>1970-01-01 01:00:00</th>\n",
       "      <td>0.0</td>\n",
       "    </tr>\n",
       "    <tr>\n",
       "      <th>1970-01-01 01:00:00</th>\n",
       "      <td>0.0</td>\n",
       "    </tr>\n",
       "    <tr>\n",
       "      <th>1970-01-01 01:00:00</th>\n",
       "      <td>0.0</td>\n",
       "    </tr>\n",
       "    <tr>\n",
       "      <th>1970-01-01 01:00:00</th>\n",
       "      <td>0.0</td>\n",
       "    </tr>\n",
       "    <tr>\n",
       "      <th>1970-01-01 01:00:00</th>\n",
       "      <td>0.0</td>\n",
       "    </tr>\n",
       "    <tr>\n",
       "      <th>1970-01-01 01:00:00</th>\n",
       "      <td>1.0</td>\n",
       "    </tr>\n",
       "    <tr>\n",
       "      <th>1970-01-01 01:00:00</th>\n",
       "      <td>0.0</td>\n",
       "    </tr>\n",
       "    <tr>\n",
       "      <th>2009-04-21 21:02:48</th>\n",
       "      <td>0.0</td>\n",
       "    </tr>\n",
       "    <tr>\n",
       "      <th>2009-04-23 00:07:53</th>\n",
       "      <td>0.0</td>\n",
       "    </tr>\n",
       "    <tr>\n",
       "      <th>2009-04-24 21:52:03</th>\n",
       "      <td>0.0</td>\n",
       "    </tr>\n",
       "  </tbody>\n",
       "</table>\n",
       "</div>"
      ],
      "text/plain": [
       "                     is_successful\n",
       "launched                          \n",
       "1970-01-01 01:00:00            0.0\n",
       "1970-01-01 01:00:00            0.0\n",
       "1970-01-01 01:00:00            0.0\n",
       "1970-01-01 01:00:00            0.0\n",
       "1970-01-01 01:00:00            0.0\n",
       "1970-01-01 01:00:00            1.0\n",
       "1970-01-01 01:00:00            0.0\n",
       "2009-04-21 21:02:48            0.0\n",
       "2009-04-23 00:07:53            0.0\n",
       "2009-04-24 21:52:03            0.0"
      ]
     },
     "execution_count": 50,
     "metadata": {},
     "output_type": "execute_result"
    }
   ],
   "source": [
    "# select data, sort it by 'launched'\n",
    "# needed to add another column 'is_successful' in order for the rolling().count() to work (?)\n",
    "df = ks[['category','launched','is_successful']].set_index('launched').sort_index()\n",
    "\n",
    "# limit to 10k while testing \n",
    "# df = df[:10000]\n",
    "\n",
    "# # create a group by object\n",
    "grp = df.groupby('category')\n",
    "\n",
    "# test the rolling().count()\n",
    "# grp.rolling('7D')['is_successful'].count()\n",
    "\n",
    "# create a function to calculate the rolling count\n",
    "def last_30_days(series):\n",
    "    return series.rolling('30D').count() -1\n",
    "\n",
    "projects_last_30 = grp.transform(last_30_days)\n",
    "projects_last_30[:10]"
   ]
  },
  {
   "cell_type": "code",
   "execution_count": 51,
   "metadata": {},
   "outputs": [
    {
     "data": {
      "text/html": [
       "<div>\n",
       "<style scoped>\n",
       "    .dataframe tbody tr th:only-of-type {\n",
       "        vertical-align: middle;\n",
       "    }\n",
       "\n",
       "    .dataframe tbody tr th {\n",
       "        vertical-align: top;\n",
       "    }\n",
       "\n",
       "    .dataframe thead th {\n",
       "        text-align: right;\n",
       "    }\n",
       "</style>\n",
       "<table border=\"1\" class=\"dataframe\">\n",
       "  <thead>\n",
       "    <tr style=\"text-align: right;\">\n",
       "      <th></th>\n",
       "      <th>n_proj_in_cat_30_days</th>\n",
       "    </tr>\n",
       "  </thead>\n",
       "  <tbody>\n",
       "    <tr>\n",
       "      <th>0</th>\n",
       "      <td>10.0</td>\n",
       "    </tr>\n",
       "    <tr>\n",
       "      <th>1</th>\n",
       "      <td>14.0</td>\n",
       "    </tr>\n",
       "    <tr>\n",
       "      <th>2</th>\n",
       "      <td>46.0</td>\n",
       "    </tr>\n",
       "    <tr>\n",
       "      <th>3</th>\n",
       "      <td>236.0</td>\n",
       "    </tr>\n",
       "    <tr>\n",
       "      <th>4</th>\n",
       "      <td>102.0</td>\n",
       "    </tr>\n",
       "  </tbody>\n",
       "</table>\n",
       "</div>"
      ],
      "text/plain": [
       "   n_proj_in_cat_30_days\n",
       "0                   10.0\n",
       "1                   14.0\n",
       "2                   46.0\n",
       "3                  236.0\n",
       "4                  102.0"
      ]
     },
     "execution_count": 51,
     "metadata": {},
     "output_type": "execute_result"
    }
   ],
   "source": [
    "# now, the index is messed up, so we need to reindex \n",
    "\n",
    "# approach a\n",
    "# sort ks by 'launched' and get its index \n",
    "# this should correspond to the index in 'projects_last_30' because it had its index 'launched' sorted\n",
    "ks_idx = ks.sort_values('launched').index\n",
    "\n",
    "# start with a fresh variable \n",
    "# otherwise rerunning this cell will reorder the index randomly over and over again\n",
    "projects_last_30 = grp.transform(last_30_days)\n",
    "\n",
    "# replace idx\n",
    "projects_last_30.index = ks_idx\n",
    "\n",
    "# reindex, rename\n",
    "projects_last_30 = projects_last_30.reindex(ks.index)\n",
    "projects_last_30.columns = ['n_proj_in_cat_30_days']\n",
    "projects_last_30.head()"
   ]
  },
  {
   "cell_type": "code",
   "execution_count": 52,
   "metadata": {},
   "outputs": [],
   "source": [
    "# # approach b\n",
    "# # reuse approach used earlier\n",
    "# launched = pd.Series(ks.index, index=ks.launched, name='n_projects_7_days').sort_index()\n",
    "\n",
    "# start with a fresh variable \n",
    "# projects_last_30 = grp.transform(last_30_days)\n",
    "\n",
    "# # replace index\n",
    "# projects_last_30.index = launched.values\n",
    "\n",
    "# # reindex, rename\n",
    "# projects_last_30 = projects_last_30.reindex(ks.index)\n",
    "# projects_last_30.columns = ['n_proj_in_cat_30_days']\n",
    "# projects_last_30.head()"
   ]
  },
  {
   "cell_type": "markdown",
   "metadata": {},
   "source": [
    "#### Transforming numerical features"
   ]
  },
  {
   "cell_type": "code",
   "execution_count": 53,
   "metadata": {},
   "outputs": [],
   "source": [
    "# import modules \n",
    "# import matplotlib.pyplot as plt \n",
    "\n",
    "# plot goal as it is \n",
    "# plt.hist(ks.goal)"
   ]
  },
  {
   "cell_type": "code",
   "execution_count": null,
   "metadata": {},
   "outputs": [],
   "source": []
  }
 ],
 "metadata": {
  "kernelspec": {
   "display_name": "Kickstarter (Python 3) [conda env:conda-env]",
   "language": "python",
   "name": "conda-env-conda-env-py"
  },
  "language_info": {
   "codemirror_mode": {
    "name": "ipython",
    "version": 3
   },
   "file_extension": ".py",
   "mimetype": "text/x-python",
   "name": "python",
   "nbconvert_exporter": "python",
   "pygments_lexer": "ipython3",
   "version": "3.6.10"
  }
 },
 "nbformat": 4,
 "nbformat_minor": 4
}
