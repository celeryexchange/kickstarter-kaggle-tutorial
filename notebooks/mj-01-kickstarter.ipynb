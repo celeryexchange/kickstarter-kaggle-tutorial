{
 "cells": [
  {
   "cell_type": "code",
   "execution_count": 1,
   "metadata": {},
   "outputs": [],
   "source": [
    "# data avaialble on kaggle:\n",
    "# https://www.kaggle.com/kemical/kickstarter-projects\n",
    "\n",
    "# following a course on feature engineering by Mat Leonard on kaggle:\n",
    "# https://www.kaggle.com/learn/feature-engineering\n"
   ]
  },
  {
   "cell_type": "code",
   "execution_count": 2,
   "metadata": {},
   "outputs": [],
   "source": [
    "# import modules \n",
    "import pandas as pd\n",
    "import numpy as np"
   ]
  },
  {
   "cell_type": "code",
   "execution_count": 3,
   "metadata": {},
   "outputs": [],
   "source": [
    "# load part of the dataset\n",
    "ks_data = pd.read_csv('../data/raw/ks-projects-201801.csv', parse_dates=['deadline','launched'])"
   ]
  },
  {
   "cell_type": "code",
   "execution_count": 4,
   "metadata": {},
   "outputs": [
    {
     "data": {
      "text/html": [
       "<div>\n",
       "<style scoped>\n",
       "    .dataframe tbody tr th:only-of-type {\n",
       "        vertical-align: middle;\n",
       "    }\n",
       "\n",
       "    .dataframe tbody tr th {\n",
       "        vertical-align: top;\n",
       "    }\n",
       "\n",
       "    .dataframe thead th {\n",
       "        text-align: right;\n",
       "    }\n",
       "</style>\n",
       "<table border=\"1\" class=\"dataframe\">\n",
       "  <thead>\n",
       "    <tr style=\"text-align: right;\">\n",
       "      <th></th>\n",
       "      <th>ID</th>\n",
       "      <th>name</th>\n",
       "      <th>category</th>\n",
       "      <th>main_category</th>\n",
       "      <th>currency</th>\n",
       "      <th>deadline</th>\n",
       "      <th>goal</th>\n",
       "      <th>launched</th>\n",
       "      <th>pledged</th>\n",
       "      <th>state</th>\n",
       "      <th>backers</th>\n",
       "      <th>country</th>\n",
       "      <th>usd pledged</th>\n",
       "      <th>usd_pledged_real</th>\n",
       "      <th>usd_goal_real</th>\n",
       "    </tr>\n",
       "  </thead>\n",
       "  <tbody>\n",
       "    <tr>\n",
       "      <th>0</th>\n",
       "      <td>1000002330</td>\n",
       "      <td>The Songs of Adelaide &amp; Abullah</td>\n",
       "      <td>Poetry</td>\n",
       "      <td>Publishing</td>\n",
       "      <td>GBP</td>\n",
       "      <td>2015-10-09</td>\n",
       "      <td>1000.0</td>\n",
       "      <td>2015-08-11 12:12:28</td>\n",
       "      <td>0.0</td>\n",
       "      <td>failed</td>\n",
       "      <td>0</td>\n",
       "      <td>GB</td>\n",
       "      <td>0.0</td>\n",
       "      <td>0.0</td>\n",
       "      <td>1533.95</td>\n",
       "    </tr>\n",
       "    <tr>\n",
       "      <th>1</th>\n",
       "      <td>1000003930</td>\n",
       "      <td>Greeting From Earth: ZGAC Arts Capsule For ET</td>\n",
       "      <td>Narrative Film</td>\n",
       "      <td>Film &amp; Video</td>\n",
       "      <td>USD</td>\n",
       "      <td>2017-11-01</td>\n",
       "      <td>30000.0</td>\n",
       "      <td>2017-09-02 04:43:57</td>\n",
       "      <td>2421.0</td>\n",
       "      <td>failed</td>\n",
       "      <td>15</td>\n",
       "      <td>US</td>\n",
       "      <td>100.0</td>\n",
       "      <td>2421.0</td>\n",
       "      <td>30000.00</td>\n",
       "    </tr>\n",
       "    <tr>\n",
       "      <th>2</th>\n",
       "      <td>1000004038</td>\n",
       "      <td>Where is Hank?</td>\n",
       "      <td>Narrative Film</td>\n",
       "      <td>Film &amp; Video</td>\n",
       "      <td>USD</td>\n",
       "      <td>2013-02-26</td>\n",
       "      <td>45000.0</td>\n",
       "      <td>2013-01-12 00:20:50</td>\n",
       "      <td>220.0</td>\n",
       "      <td>failed</td>\n",
       "      <td>3</td>\n",
       "      <td>US</td>\n",
       "      <td>220.0</td>\n",
       "      <td>220.0</td>\n",
       "      <td>45000.00</td>\n",
       "    </tr>\n",
       "    <tr>\n",
       "      <th>3</th>\n",
       "      <td>1000007540</td>\n",
       "      <td>ToshiCapital Rekordz Needs Help to Complete Album</td>\n",
       "      <td>Music</td>\n",
       "      <td>Music</td>\n",
       "      <td>USD</td>\n",
       "      <td>2012-04-16</td>\n",
       "      <td>5000.0</td>\n",
       "      <td>2012-03-17 03:24:11</td>\n",
       "      <td>1.0</td>\n",
       "      <td>failed</td>\n",
       "      <td>1</td>\n",
       "      <td>US</td>\n",
       "      <td>1.0</td>\n",
       "      <td>1.0</td>\n",
       "      <td>5000.00</td>\n",
       "    </tr>\n",
       "    <tr>\n",
       "      <th>4</th>\n",
       "      <td>1000011046</td>\n",
       "      <td>Community Film Project: The Art of Neighborhoo...</td>\n",
       "      <td>Film &amp; Video</td>\n",
       "      <td>Film &amp; Video</td>\n",
       "      <td>USD</td>\n",
       "      <td>2015-08-29</td>\n",
       "      <td>19500.0</td>\n",
       "      <td>2015-07-04 08:35:03</td>\n",
       "      <td>1283.0</td>\n",
       "      <td>canceled</td>\n",
       "      <td>14</td>\n",
       "      <td>US</td>\n",
       "      <td>1283.0</td>\n",
       "      <td>1283.0</td>\n",
       "      <td>19500.00</td>\n",
       "    </tr>\n",
       "  </tbody>\n",
       "</table>\n",
       "</div>"
      ],
      "text/plain": [
       "           ID                                               name  \\\n",
       "0  1000002330                    The Songs of Adelaide & Abullah   \n",
       "1  1000003930      Greeting From Earth: ZGAC Arts Capsule For ET   \n",
       "2  1000004038                                     Where is Hank?   \n",
       "3  1000007540  ToshiCapital Rekordz Needs Help to Complete Album   \n",
       "4  1000011046  Community Film Project: The Art of Neighborhoo...   \n",
       "\n",
       "         category main_category currency   deadline     goal  \\\n",
       "0          Poetry    Publishing      GBP 2015-10-09   1000.0   \n",
       "1  Narrative Film  Film & Video      USD 2017-11-01  30000.0   \n",
       "2  Narrative Film  Film & Video      USD 2013-02-26  45000.0   \n",
       "3           Music         Music      USD 2012-04-16   5000.0   \n",
       "4    Film & Video  Film & Video      USD 2015-08-29  19500.0   \n",
       "\n",
       "             launched  pledged     state  backers country  usd pledged  \\\n",
       "0 2015-08-11 12:12:28      0.0    failed        0      GB          0.0   \n",
       "1 2017-09-02 04:43:57   2421.0    failed       15      US        100.0   \n",
       "2 2013-01-12 00:20:50    220.0    failed        3      US        220.0   \n",
       "3 2012-03-17 03:24:11      1.0    failed        1      US          1.0   \n",
       "4 2015-07-04 08:35:03   1283.0  canceled       14      US       1283.0   \n",
       "\n",
       "   usd_pledged_real  usd_goal_real  \n",
       "0               0.0        1533.95  \n",
       "1            2421.0       30000.00  \n",
       "2             220.0       45000.00  \n",
       "3               1.0        5000.00  \n",
       "4            1283.0       19500.00  "
      ]
     },
     "execution_count": 4,
     "metadata": {},
     "output_type": "execute_result"
    }
   ],
   "source": [
    "# inspect the data \n",
    "ks_data.head()"
   ]
  },
  {
   "cell_type": "code",
   "execution_count": 5,
   "metadata": {},
   "outputs": [
    {
     "name": "stdout",
     "output_type": "stream",
     "text": [
      "<class 'pandas.core.frame.DataFrame'>\n",
      "RangeIndex: 378661 entries, 0 to 378660\n",
      "Data columns (total 15 columns):\n",
      " #   Column            Non-Null Count   Dtype         \n",
      "---  ------            --------------   -----         \n",
      " 0   ID                378661 non-null  int64         \n",
      " 1   name              378657 non-null  object        \n",
      " 2   category          378661 non-null  object        \n",
      " 3   main_category     378661 non-null  object        \n",
      " 4   currency          378661 non-null  object        \n",
      " 5   deadline          378661 non-null  datetime64[ns]\n",
      " 6   goal              378661 non-null  float64       \n",
      " 7   launched          378661 non-null  datetime64[ns]\n",
      " 8   pledged           378661 non-null  float64       \n",
      " 9   state             378661 non-null  object        \n",
      " 10  backers           378661 non-null  int64         \n",
      " 11  country           378661 non-null  object        \n",
      " 12  usd pledged       374864 non-null  float64       \n",
      " 13  usd_pledged_real  378661 non-null  float64       \n",
      " 14  usd_goal_real     378661 non-null  float64       \n",
      "dtypes: datetime64[ns](2), float64(5), int64(2), object(6)\n",
      "memory usage: 43.3+ MB\n"
     ]
    }
   ],
   "source": [
    "# check datatypes and missing values \n",
    "ks_data.info()"
   ]
  },
  {
   "cell_type": "code",
   "execution_count": 6,
   "metadata": {},
   "outputs": [],
   "source": [
    "# create a copy of the dataset so that we don't need to reload it every time\n",
    "ks = ks_data.copy()"
   ]
  },
  {
   "cell_type": "markdown",
   "metadata": {},
   "source": [
    "## I. Baseline Model"
   ]
  },
  {
   "cell_type": "markdown",
   "metadata": {},
   "source": [
    "Having a baseline model is important to assess whether the features that we're creating or modifying in our data add value and improve the accuracy of our model over its baseline. "
   ]
  },
  {
   "cell_type": "markdown",
   "metadata": {},
   "source": [
    "#### Preparing target column"
   ]
  },
  {
   "cell_type": "code",
   "execution_count": 7,
   "metadata": {},
   "outputs": [
    {
     "data": {
      "text/plain": [
       "failed        197719\n",
       "successful    133956\n",
       "canceled       38779\n",
       "undefined       3562\n",
       "live            2799\n",
       "suspended       1846\n",
       "Name: state, dtype: int64"
      ]
     },
     "execution_count": 7,
     "metadata": {},
     "output_type": "execute_result"
    }
   ],
   "source": [
    "# prepare the classification variable (target column)\n",
    "ks.state.value_counts()"
   ]
  },
  {
   "cell_type": "code",
   "execution_count": 8,
   "metadata": {},
   "outputs": [],
   "source": [
    "# for the model we'll consider 1 -> successful and 0 -> otherwise\n",
    "# ks['is_successful'] = (ks.state == 'successful').map({False:0, True:1})\n",
    "# ks['is_successful'] = (ks['state'] == 'successful').astype(int)\n",
    "\n",
    "# alternative approach using .assign()\n",
    "ks = ks.assign(is_successful = (ks['state'] == 'successful').astype(int))"
   ]
  },
  {
   "cell_type": "code",
   "execution_count": 9,
   "metadata": {},
   "outputs": [],
   "source": [
    "# drop live projects\n",
    "ks = ks[~(ks['state'] == 'live')]\n",
    "\n",
    "# alternative approach with .query()\n",
    "# ks = ks.query('state != \"live\"')"
   ]
  },
  {
   "cell_type": "markdown",
   "metadata": {},
   "source": [
    "#### Converting timestamps "
   ]
  },
  {
   "cell_type": "code",
   "execution_count": 10,
   "metadata": {},
   "outputs": [
    {
     "data": {
      "text/html": [
       "<div>\n",
       "<style scoped>\n",
       "    .dataframe tbody tr th:only-of-type {\n",
       "        vertical-align: middle;\n",
       "    }\n",
       "\n",
       "    .dataframe tbody tr th {\n",
       "        vertical-align: top;\n",
       "    }\n",
       "\n",
       "    .dataframe thead th {\n",
       "        text-align: right;\n",
       "    }\n",
       "</style>\n",
       "<table border=\"1\" class=\"dataframe\">\n",
       "  <thead>\n",
       "    <tr style=\"text-align: right;\">\n",
       "      <th></th>\n",
       "      <th>launched</th>\n",
       "      <th>year</th>\n",
       "      <th>month</th>\n",
       "      <th>day</th>\n",
       "      <th>hour</th>\n",
       "    </tr>\n",
       "  </thead>\n",
       "  <tbody>\n",
       "    <tr>\n",
       "      <th>0</th>\n",
       "      <td>2015-08-11 12:12:28</td>\n",
       "      <td>2015</td>\n",
       "      <td>8</td>\n",
       "      <td>11</td>\n",
       "      <td>12</td>\n",
       "    </tr>\n",
       "    <tr>\n",
       "      <th>1</th>\n",
       "      <td>2017-09-02 04:43:57</td>\n",
       "      <td>2017</td>\n",
       "      <td>9</td>\n",
       "      <td>2</td>\n",
       "      <td>4</td>\n",
       "    </tr>\n",
       "    <tr>\n",
       "      <th>2</th>\n",
       "      <td>2013-01-12 00:20:50</td>\n",
       "      <td>2013</td>\n",
       "      <td>1</td>\n",
       "      <td>12</td>\n",
       "      <td>0</td>\n",
       "    </tr>\n",
       "    <tr>\n",
       "      <th>3</th>\n",
       "      <td>2012-03-17 03:24:11</td>\n",
       "      <td>2012</td>\n",
       "      <td>3</td>\n",
       "      <td>17</td>\n",
       "      <td>3</td>\n",
       "    </tr>\n",
       "    <tr>\n",
       "      <th>4</th>\n",
       "      <td>2015-07-04 08:35:03</td>\n",
       "      <td>2015</td>\n",
       "      <td>7</td>\n",
       "      <td>4</td>\n",
       "      <td>8</td>\n",
       "    </tr>\n",
       "    <tr>\n",
       "      <th>5</th>\n",
       "      <td>2016-02-26 13:38:27</td>\n",
       "      <td>2016</td>\n",
       "      <td>2</td>\n",
       "      <td>26</td>\n",
       "      <td>13</td>\n",
       "    </tr>\n",
       "  </tbody>\n",
       "</table>\n",
       "</div>"
      ],
      "text/plain": [
       "             launched  year  month  day  hour\n",
       "0 2015-08-11 12:12:28  2015      8   11    12\n",
       "1 2017-09-02 04:43:57  2017      9    2     4\n",
       "2 2013-01-12 00:20:50  2013      1   12     0\n",
       "3 2012-03-17 03:24:11  2012      3   17     3\n",
       "4 2015-07-04 08:35:03  2015      7    4     8\n",
       "5 2016-02-26 13:38:27  2016      2   26    13"
      ]
     },
     "execution_count": 10,
     "metadata": {},
     "output_type": "execute_result"
    }
   ],
   "source": [
    "# creating new features from the 'launched' timestamp\n",
    "ks = ks.assign(year = ks['launched'].dt.year,\n",
    "              month = ks['launched'].dt.month,\n",
    "              day = ks['launched'].dt.day,\n",
    "              hour = ks['launched'].dt.hour)\n",
    "\n",
    "# show top 5\n",
    "ks.loc[:5, ['launched','year','month','day','hour']]"
   ]
  },
  {
   "cell_type": "markdown",
   "metadata": {},
   "source": [
    "#### Processing categorical variables"
   ]
  },
  {
   "cell_type": "code",
   "execution_count": 11,
   "metadata": {},
   "outputs": [],
   "source": [
    "# specify which columns are categorical\n",
    "categorical_cols = ['main_category', 'category', 'currency', 'country']\n",
    "\n",
    "# import encoder\n",
    "from sklearn.preprocessing import LabelEncoder\n",
    "\n",
    "# init encoder \n",
    "le = LabelEncoder()"
   ]
  },
  {
   "cell_type": "code",
   "execution_count": 12,
   "metadata": {},
   "outputs": [],
   "source": [
    "# encode (approach a) # does not work \n",
    "# encoded = le.fit_transform(ks[categorical_cols])"
   ]
  },
  {
   "cell_type": "code",
   "execution_count": 13,
   "metadata": {},
   "outputs": [
    {
     "data": {
      "text/html": [
       "<div>\n",
       "<style scoped>\n",
       "    .dataframe tbody tr th:only-of-type {\n",
       "        vertical-align: middle;\n",
       "    }\n",
       "\n",
       "    .dataframe tbody tr th {\n",
       "        vertical-align: top;\n",
       "    }\n",
       "\n",
       "    .dataframe thead th {\n",
       "        text-align: right;\n",
       "    }\n",
       "</style>\n",
       "<table border=\"1\" class=\"dataframe\">\n",
       "  <thead>\n",
       "    <tr style=\"text-align: right;\">\n",
       "      <th></th>\n",
       "      <th>main_category</th>\n",
       "      <th>category</th>\n",
       "      <th>currency</th>\n",
       "      <th>country</th>\n",
       "    </tr>\n",
       "  </thead>\n",
       "  <tbody>\n",
       "    <tr>\n",
       "      <th>0</th>\n",
       "      <td>12</td>\n",
       "      <td>108</td>\n",
       "      <td>5</td>\n",
       "      <td>9</td>\n",
       "    </tr>\n",
       "    <tr>\n",
       "      <th>1</th>\n",
       "      <td>6</td>\n",
       "      <td>93</td>\n",
       "      <td>13</td>\n",
       "      <td>22</td>\n",
       "    </tr>\n",
       "    <tr>\n",
       "      <th>2</th>\n",
       "      <td>6</td>\n",
       "      <td>93</td>\n",
       "      <td>13</td>\n",
       "      <td>22</td>\n",
       "    </tr>\n",
       "    <tr>\n",
       "      <th>3</th>\n",
       "      <td>10</td>\n",
       "      <td>90</td>\n",
       "      <td>13</td>\n",
       "      <td>22</td>\n",
       "    </tr>\n",
       "    <tr>\n",
       "      <th>4</th>\n",
       "      <td>6</td>\n",
       "      <td>55</td>\n",
       "      <td>13</td>\n",
       "      <td>22</td>\n",
       "    </tr>\n",
       "  </tbody>\n",
       "</table>\n",
       "</div>"
      ],
      "text/plain": [
       "   main_category  category  currency  country\n",
       "0             12       108         5        9\n",
       "1              6        93        13       22\n",
       "2              6        93        13       22\n",
       "3             10        90        13       22\n",
       "4              6        55        13       22"
      ]
     },
     "execution_count": 13,
     "metadata": {},
     "output_type": "execute_result"
    }
   ],
   "source": [
    "# encode (approach b) \n",
    "# using .apply())\n",
    "encoded = ks[categorical_cols].apply(le.fit_transform)\n",
    "\n",
    "# inspect\n",
    "encoded.head()"
   ]
  },
  {
   "cell_type": "code",
   "execution_count": 14,
   "metadata": {},
   "outputs": [],
   "source": [
    "# # encode (approach c)\n",
    "# # using a for loop\n",
    "# for col in categorical_cols:\n",
    "#     ks[col + '_le'] = le.fit_transform(ks[col])\n",
    "    \n",
    "# # inspect\n",
    "# ks.head()"
   ]
  },
  {
   "cell_type": "markdown",
   "metadata": {},
   "source": [
    "#### Creating train and test sets"
   ]
  },
  {
   "cell_type": "code",
   "execution_count": 15,
   "metadata": {},
   "outputs": [
    {
     "data": {
      "text/html": [
       "<div>\n",
       "<style scoped>\n",
       "    .dataframe tbody tr th:only-of-type {\n",
       "        vertical-align: middle;\n",
       "    }\n",
       "\n",
       "    .dataframe tbody tr th {\n",
       "        vertical-align: top;\n",
       "    }\n",
       "\n",
       "    .dataframe thead th {\n",
       "        text-align: right;\n",
       "    }\n",
       "</style>\n",
       "<table border=\"1\" class=\"dataframe\">\n",
       "  <thead>\n",
       "    <tr style=\"text-align: right;\">\n",
       "      <th></th>\n",
       "      <th>goal</th>\n",
       "      <th>year</th>\n",
       "      <th>month</th>\n",
       "      <th>day</th>\n",
       "      <th>hour</th>\n",
       "      <th>is_successful</th>\n",
       "      <th>main_category</th>\n",
       "      <th>category</th>\n",
       "      <th>currency</th>\n",
       "      <th>country</th>\n",
       "    </tr>\n",
       "  </thead>\n",
       "  <tbody>\n",
       "    <tr>\n",
       "      <th>0</th>\n",
       "      <td>1000.0</td>\n",
       "      <td>2015</td>\n",
       "      <td>8</td>\n",
       "      <td>11</td>\n",
       "      <td>12</td>\n",
       "      <td>0</td>\n",
       "      <td>12</td>\n",
       "      <td>108</td>\n",
       "      <td>5</td>\n",
       "      <td>9</td>\n",
       "    </tr>\n",
       "    <tr>\n",
       "      <th>1</th>\n",
       "      <td>30000.0</td>\n",
       "      <td>2017</td>\n",
       "      <td>9</td>\n",
       "      <td>2</td>\n",
       "      <td>4</td>\n",
       "      <td>0</td>\n",
       "      <td>6</td>\n",
       "      <td>93</td>\n",
       "      <td>13</td>\n",
       "      <td>22</td>\n",
       "    </tr>\n",
       "    <tr>\n",
       "      <th>2</th>\n",
       "      <td>45000.0</td>\n",
       "      <td>2013</td>\n",
       "      <td>1</td>\n",
       "      <td>12</td>\n",
       "      <td>0</td>\n",
       "      <td>0</td>\n",
       "      <td>6</td>\n",
       "      <td>93</td>\n",
       "      <td>13</td>\n",
       "      <td>22</td>\n",
       "    </tr>\n",
       "    <tr>\n",
       "      <th>3</th>\n",
       "      <td>5000.0</td>\n",
       "      <td>2012</td>\n",
       "      <td>3</td>\n",
       "      <td>17</td>\n",
       "      <td>3</td>\n",
       "      <td>0</td>\n",
       "      <td>10</td>\n",
       "      <td>90</td>\n",
       "      <td>13</td>\n",
       "      <td>22</td>\n",
       "    </tr>\n",
       "    <tr>\n",
       "      <th>4</th>\n",
       "      <td>19500.0</td>\n",
       "      <td>2015</td>\n",
       "      <td>7</td>\n",
       "      <td>4</td>\n",
       "      <td>8</td>\n",
       "      <td>0</td>\n",
       "      <td>6</td>\n",
       "      <td>55</td>\n",
       "      <td>13</td>\n",
       "      <td>22</td>\n",
       "    </tr>\n",
       "  </tbody>\n",
       "</table>\n",
       "</div>"
      ],
      "text/plain": [
       "      goal  year  month  day  hour  is_successful  main_category  category  \\\n",
       "0   1000.0  2015      8   11    12              0             12       108   \n",
       "1  30000.0  2017      9    2     4              0              6        93   \n",
       "2  45000.0  2013      1   12     0              0              6        93   \n",
       "3   5000.0  2012      3   17     3              0             10        90   \n",
       "4  19500.0  2015      7    4     8              0              6        55   \n",
       "\n",
       "   currency  country  \n",
       "0         5        9  \n",
       "1        13       22  \n",
       "2        13       22  \n",
       "3        13       22  \n",
       "4        13       22  "
      ]
     },
     "execution_count": 15,
     "metadata": {},
     "output_type": "execute_result"
    }
   ],
   "source": [
    "# select all features to be used to train the model\n",
    "data = ks[['goal','year','month','day','hour','is_successful']].join(encoded)\n",
    "data.head()"
   ]
  },
  {
   "cell_type": "code",
   "execution_count": 16,
   "metadata": {},
   "outputs": [],
   "source": [
    "# import train test split \n",
    "from sklearn.model_selection import train_test_split \n",
    "\n",
    "# create X and y \n",
    "X = data.drop('is_successful', axis=1)\n",
    "y = data['is_successful']\n",
    "\n",
    "# split the datasets setting 20% aside for test \n",
    "X_train, X_test, y_train, y_test = train_test_split(X, y, test_size=0.2, random_state=42)"
   ]
  },
  {
   "cell_type": "code",
   "execution_count": 17,
   "metadata": {},
   "outputs": [
    {
     "name": "stdout",
     "output_type": "stream",
     "text": [
      "% successful in train: 35.66%\n",
      "% successful in test: 35.56%\n"
     ]
    }
   ],
   "source": [
    "# double check that the target variable is equally represented in train and test datasets\n",
    "print('% successful in train: {:.2%}'.format(y_train.mean()))\n",
    "print('% successful in test: {:.2%}'.format(y_test.mean()))"
   ]
  },
  {
   "cell_type": "markdown",
   "metadata": {},
   "source": [
    "Predictor variable is slightly imbalanced - not between train and test but it's that the % of projects that are successful is less than 50% of all projects. The most common ways to address class imbalance include:\n",
    "* Up-sample minority class\n",
    "* Down-sample majority class\n",
    "* Change the performance metric\n",
    "* Use a penalized-SVM algorithm\n",
    "* Use a tree-based algorithm\n",
    "\n",
    "For this project we'll use a tree-based algorithm and our choice of performance metric is going to be `ROC AUC`.\n",
    "**Source**: https://elitedatascience.com/imbalanced-classes"
   ]
  },
  {
   "cell_type": "markdown",
   "metadata": {},
   "source": [
    "#### Training a RandomForest Classifier (with default settings)"
   ]
  },
  {
   "cell_type": "code",
   "execution_count": 18,
   "metadata": {},
   "outputs": [
    {
     "data": {
      "text/plain": [
       "RandomForestClassifier(bootstrap=True, ccp_alpha=0.0, class_weight=None,\n",
       "                       criterion='gini', max_depth=None, max_features='auto',\n",
       "                       max_leaf_nodes=None, max_samples=None,\n",
       "                       min_impurity_decrease=0.0, min_impurity_split=None,\n",
       "                       min_samples_leaf=1, min_samples_split=2,\n",
       "                       min_weight_fraction_leaf=0.0, n_estimators=100,\n",
       "                       n_jobs=None, oob_score=False, random_state=34, verbose=0,\n",
       "                       warm_start=False)"
      ]
     },
     "execution_count": 18,
     "metadata": {},
     "output_type": "execute_result"
    }
   ],
   "source": [
    "# import classifier\n",
    "from sklearn.ensemble import RandomForestClassifier\n",
    "\n",
    "# init \n",
    "rfc = RandomForestClassifier(random_state=34)\n",
    "\n",
    "# fit\n",
    "rfc.fit(X_train, y_train)"
   ]
  },
  {
   "cell_type": "markdown",
   "metadata": {},
   "source": [
    "#### Making predictions and scoring the model"
   ]
  },
  {
   "cell_type": "code",
   "execution_count": 19,
   "metadata": {},
   "outputs": [],
   "source": [
    "# predictions\n",
    "y_pred = rfc.predict(X_test)\n",
    "y_pred_train = rfc.predict(X_train)"
   ]
  },
  {
   "cell_type": "code",
   "execution_count": 20,
   "metadata": {},
   "outputs": [
    {
     "name": "stdout",
     "output_type": "stream",
     "text": [
      "accuracy (train): 99.89%\n",
      "accuracy (test): 68.64%\n",
      "roc auc (train): 99.87%\n",
      "roc auc (test): 62.76%\n"
     ]
    }
   ],
   "source": [
    "# import scoring metrics\n",
    "from sklearn.metrics import accuracy_score, roc_auc_score, confusion_matrix\n",
    "\n",
    "# accuracy scores\n",
    "print('accuracy (train): {:.2%}'.format(accuracy_score(y_train, y_pred_train)))\n",
    "print('accuracy (test): {:.2%}'.format(accuracy_score(y_test, y_pred)))\n",
    "\n",
    "# roc auc scores \n",
    "print('roc auc (train): {:.2%}'.format(roc_auc_score(y_train, y_pred_train)))\n",
    "print('roc auc (test): {:.2%}'.format(roc_auc_score(y_test, y_pred)))"
   ]
  },
  {
   "cell_type": "markdown",
   "metadata": {},
   "source": [
    "The default model is **overfitting** way too much but I'm not sure how to handle this other than manually changing the `max_depth` or `min_samples_leaf` parameters. `GridSearchCV` is not helpful here because it optimises parameters based on the accuracy score of the traning dataset which in our case is already very high at `>99%`. In other words, `GridSearchCV` would try to overfit the model even more. \n",
    "\n",
    "Having tested a couple of parameters, using `min_samples_leaf=10` increases the accuracy and roc auc of test data to `70%` and `63%`, respectively. All performance metrics for the tranining set are `<78%`.\n"
   ]
  },
  {
   "cell_type": "markdown",
   "metadata": {},
   "source": [
    "#### Retrain the model to address the overfitting issue + predict + score"
   ]
  },
  {
   "cell_type": "code",
   "execution_count": 21,
   "metadata": {},
   "outputs": [
    {
     "name": "stdout",
     "output_type": "stream",
     "text": [
      "roc auc (train): 71.78%\n",
      "roc auc (test): 63.61%\n"
     ]
    }
   ],
   "source": [
    "# init with a limit on minimum samples per leaf (chosen randomly)\n",
    "rfc = RandomForestClassifier(random_state=34, min_samples_leaf=10)\n",
    "\n",
    "# fit \n",
    "rfc.fit(X_train, y_train)\n",
    "\n",
    "# predict\n",
    "y_pred = rfc.predict(X_test)\n",
    "y_pred_train = rfc.predict(X_train)\n",
    "\n",
    "# score (roc auc)\n",
    "print('roc auc (train): {:.2%}'.format(roc_auc_score(y_train, y_pred_train)))\n",
    "print('roc auc (test): {:.2%}'.format(roc_auc_score(y_test, y_pred)))\n",
    "\n",
    "# save baseline ROC AUC \n",
    "roc_auc_baseline = roc_auc_score(y_test, y_pred)"
   ]
  },
  {
   "cell_type": "code",
   "execution_count": 22,
   "metadata": {},
   "outputs": [],
   "source": [
    "# # create confusion matrix \n",
    "# cm = confusion_matrix(y_test, y_pred)\n",
    "\n",
    "# # turn it into a DataFrame to make plotting easier \n",
    "# cm_df = pd.DataFrame(cm, columns=np.unique(y_test), index = np.unique(y_test))\n",
    "# cm_df.index.name = 'Actual'\n",
    "# cm_df.columns.name = 'Predicted'\n",
    "\n",
    "# # # this will be used as the max value for the heatmap legend \n",
    "# # calculated_vmax = (int(cm_df.max().max()/100)+1)*100\n",
    "\n",
    "# # import modules \n",
    "# import seaborn as sns \n",
    "# import matplotlib.pyplot as plt\n",
    "\n",
    "# # set figure size\n",
    "# plt.figure(figsize=(4,4))\n",
    "\n",
    "# # add title\n",
    "# plt.title('Confusion Matrix (Baseline Model)')\n",
    "\n",
    "# # plot heatmap\n",
    "# sns.heatmap(\n",
    "#     cm_df, \n",
    "#     cmap=sns.light_palette((250, 80, 60), input='husl', n_colors=4),\n",
    "#     vmin=5000,\n",
    "#     vmax=45000,\n",
    "#     annot=True, fmt=',d')"
   ]
  },
  {
   "cell_type": "markdown",
   "metadata": {},
   "source": [
    "## 2. Categorical Encodings"
   ]
  },
  {
   "cell_type": "markdown",
   "metadata": {},
   "source": [
    "`LabelEncoder` is just one of several ways categorical variables can be encoded. Other encoders include (not necessarily from `sklearn`):\n",
    "\n",
    "* **get_dummies** `pd.get_dummies()`: creates n new columns where n is the number of unique catagories per feature. can create very sparse matrices which could lead to increased computational time\n",
    "* **CountEncoder** `category_encoders.CountEncoder()`: encodes categorical features based on the number of times that they appear in the dataset. useful to separate rare categories (which will be given a similar low encoded value) vs commmon features (with a similar high count value). \n",
    "* **TargetEncoder** `category_encoders.TargetEncoder()`: replaces a categorical value with the average value of the target for that value of the feature. "
   ]
  },
  {
   "cell_type": "code",
   "execution_count": 23,
   "metadata": {},
   "outputs": [],
   "source": [
    "# first create some helper functions \n",
    "# split the dataset into test and train\n",
    "def create_train_test(df):\n",
    "    \n",
    "    # create X and y \n",
    "    X = df.drop('is_successful', axis=1)\n",
    "    y = df['is_successful']\n",
    "\n",
    "    # split the datasets setting 20% aside for test \n",
    "    X_train, X_test, y_train, y_test = train_test_split(X, y, test_size=0.2, random_state=42)\n",
    "    \n",
    "    return X, y, X_train, X_test, y_train, y_test\n",
    "\n",
    "# fit the model, predict and score \n",
    "def score_model(X_train, X_test, y_train, y_test):\n",
    "    rfc = RandomForestClassifier(random_state=34, min_samples_leaf=10)\n",
    "\n",
    "    # fit \n",
    "    print('Fitting model...')\n",
    "    rfc.fit(X_train, y_train)\n",
    "\n",
    "    # predict\n",
    "    print('Predicting...')\n",
    "    y_pred = rfc.predict(X_test)\n",
    "    y_pred_train = rfc.predict(X_train)\n",
    "\n",
    "    # score (roc auc)\n",
    "    print('Done.')\n",
    "    return roc_auc_score(y_test, y_pred)"
   ]
  },
  {
   "cell_type": "markdown",
   "metadata": {},
   "source": [
    "#### Count Encoder"
   ]
  },
  {
   "cell_type": "code",
   "execution_count": 24,
   "metadata": {},
   "outputs": [],
   "source": [
    "# starting with the these variables \n",
    "categorical_cols = ['main_category', 'category', 'currency', 'country']"
   ]
  },
  {
   "cell_type": "code",
   "execution_count": 25,
   "metadata": {},
   "outputs": [],
   "source": [
    "# import module \n",
    "from category_encoders import CountEncoder\n",
    "\n",
    "# init encoder \n",
    "ce = CountEncoder(cols=categorical_cols)"
   ]
  },
  {
   "cell_type": "code",
   "execution_count": 26,
   "metadata": {},
   "outputs": [
    {
     "data": {
      "text/html": [
       "<div>\n",
       "<style scoped>\n",
       "    .dataframe tbody tr th:only-of-type {\n",
       "        vertical-align: middle;\n",
       "    }\n",
       "\n",
       "    .dataframe tbody tr th {\n",
       "        vertical-align: top;\n",
       "    }\n",
       "\n",
       "    .dataframe thead th {\n",
       "        text-align: right;\n",
       "    }\n",
       "</style>\n",
       "<table border=\"1\" class=\"dataframe\">\n",
       "  <thead>\n",
       "    <tr style=\"text-align: right;\">\n",
       "      <th></th>\n",
       "      <th>main_category</th>\n",
       "      <th>category</th>\n",
       "      <th>currency</th>\n",
       "      <th>country</th>\n",
       "    </tr>\n",
       "  </thead>\n",
       "  <tbody>\n",
       "    <tr>\n",
       "      <th>0</th>\n",
       "      <td>39575</td>\n",
       "      <td>1362</td>\n",
       "      <td>33853</td>\n",
       "      <td>33393</td>\n",
       "    </tr>\n",
       "    <tr>\n",
       "      <th>1</th>\n",
       "      <td>63253</td>\n",
       "      <td>5174</td>\n",
       "      <td>293624</td>\n",
       "      <td>290887</td>\n",
       "    </tr>\n",
       "    <tr>\n",
       "      <th>2</th>\n",
       "      <td>63253</td>\n",
       "      <td>5174</td>\n",
       "      <td>293624</td>\n",
       "      <td>290887</td>\n",
       "    </tr>\n",
       "    <tr>\n",
       "      <th>3</th>\n",
       "      <td>51637</td>\n",
       "      <td>15647</td>\n",
       "      <td>293624</td>\n",
       "      <td>290887</td>\n",
       "    </tr>\n",
       "    <tr>\n",
       "      <th>4</th>\n",
       "      <td>63253</td>\n",
       "      <td>10054</td>\n",
       "      <td>293624</td>\n",
       "      <td>290887</td>\n",
       "    </tr>\n",
       "  </tbody>\n",
       "</table>\n",
       "</div>"
      ],
      "text/plain": [
       "   main_category  category  currency  country\n",
       "0          39575      1362     33853    33393\n",
       "1          63253      5174    293624   290887\n",
       "2          63253      5174    293624   290887\n",
       "3          51637     15647    293624   290887\n",
       "4          63253     10054    293624   290887"
      ]
     },
     "execution_count": 26,
     "metadata": {},
     "output_type": "execute_result"
    }
   ],
   "source": [
    "# encode (approach a)\n",
    "encoded = ce.fit_transform(ks[categorical_cols])\n",
    "encoded.head()"
   ]
  },
  {
   "cell_type": "code",
   "execution_count": 27,
   "metadata": {},
   "outputs": [],
   "source": [
    "# encode (approach b) # does not work \n",
    "# encoded = ks[categorical_cols].apply(ce.fit_transform) "
   ]
  },
  {
   "cell_type": "code",
   "execution_count": 28,
   "metadata": {},
   "outputs": [],
   "source": [
    "# encode (approach c) # does not work \n",
    "# for col in categorical_cols:\n",
    "#     ks[col + '_count'] = ce.fit_transform(ks[col])"
   ]
  },
  {
   "cell_type": "code",
   "execution_count": 29,
   "metadata": {},
   "outputs": [
    {
     "data": {
      "text/html": [
       "<div>\n",
       "<style scoped>\n",
       "    .dataframe tbody tr th:only-of-type {\n",
       "        vertical-align: middle;\n",
       "    }\n",
       "\n",
       "    .dataframe tbody tr th {\n",
       "        vertical-align: top;\n",
       "    }\n",
       "\n",
       "    .dataframe thead th {\n",
       "        text-align: right;\n",
       "    }\n",
       "</style>\n",
       "<table border=\"1\" class=\"dataframe\">\n",
       "  <thead>\n",
       "    <tr style=\"text-align: right;\">\n",
       "      <th></th>\n",
       "      <th>year</th>\n",
       "      <th>month</th>\n",
       "      <th>day</th>\n",
       "      <th>hour</th>\n",
       "      <th>is_successful</th>\n",
       "      <th>main_category</th>\n",
       "      <th>category</th>\n",
       "      <th>currency</th>\n",
       "      <th>country</th>\n",
       "    </tr>\n",
       "  </thead>\n",
       "  <tbody>\n",
       "    <tr>\n",
       "      <th>0</th>\n",
       "      <td>2015</td>\n",
       "      <td>8</td>\n",
       "      <td>11</td>\n",
       "      <td>12</td>\n",
       "      <td>0</td>\n",
       "      <td>39575</td>\n",
       "      <td>1362</td>\n",
       "      <td>33853</td>\n",
       "      <td>33393</td>\n",
       "    </tr>\n",
       "    <tr>\n",
       "      <th>1</th>\n",
       "      <td>2017</td>\n",
       "      <td>9</td>\n",
       "      <td>2</td>\n",
       "      <td>4</td>\n",
       "      <td>0</td>\n",
       "      <td>63253</td>\n",
       "      <td>5174</td>\n",
       "      <td>293624</td>\n",
       "      <td>290887</td>\n",
       "    </tr>\n",
       "    <tr>\n",
       "      <th>2</th>\n",
       "      <td>2013</td>\n",
       "      <td>1</td>\n",
       "      <td>12</td>\n",
       "      <td>0</td>\n",
       "      <td>0</td>\n",
       "      <td>63253</td>\n",
       "      <td>5174</td>\n",
       "      <td>293624</td>\n",
       "      <td>290887</td>\n",
       "    </tr>\n",
       "    <tr>\n",
       "      <th>3</th>\n",
       "      <td>2012</td>\n",
       "      <td>3</td>\n",
       "      <td>17</td>\n",
       "      <td>3</td>\n",
       "      <td>0</td>\n",
       "      <td>51637</td>\n",
       "      <td>15647</td>\n",
       "      <td>293624</td>\n",
       "      <td>290887</td>\n",
       "    </tr>\n",
       "    <tr>\n",
       "      <th>4</th>\n",
       "      <td>2015</td>\n",
       "      <td>7</td>\n",
       "      <td>4</td>\n",
       "      <td>8</td>\n",
       "      <td>0</td>\n",
       "      <td>63253</td>\n",
       "      <td>10054</td>\n",
       "      <td>293624</td>\n",
       "      <td>290887</td>\n",
       "    </tr>\n",
       "  </tbody>\n",
       "</table>\n",
       "</div>"
      ],
      "text/plain": [
       "   year  month  day  hour  is_successful  main_category  category  currency  \\\n",
       "0  2015      8   11    12              0          39575      1362     33853   \n",
       "1  2017      9    2     4              0          63253      5174    293624   \n",
       "2  2013      1   12     0              0          63253      5174    293624   \n",
       "3  2012      3   17     3              0          51637     15647    293624   \n",
       "4  2015      7    4     8              0          63253     10054    293624   \n",
       "\n",
       "   country  \n",
       "0    33393  \n",
       "1   290887  \n",
       "2   290887  \n",
       "3   290887  \n",
       "4   290887  "
      ]
     },
     "execution_count": 29,
     "metadata": {},
     "output_type": "execute_result"
    }
   ],
   "source": [
    "# combine data with the newly encoded features \n",
    "data = ks[['year','month','day','hour','is_successful']].join(encoded)\n",
    "data.head()"
   ]
  },
  {
   "cell_type": "code",
   "execution_count": 30,
   "metadata": {},
   "outputs": [
    {
     "name": "stdout",
     "output_type": "stream",
     "text": [
      "Fitting model...\n",
      "Predicting...\n",
      "Done.\n"
     ]
    }
   ],
   "source": [
    "# split the dataset \n",
    "X, y, X_train, X_test, y_train, y_test = create_train_test(data)\n",
    "\n",
    "# fit, predict and calculate new score\n",
    "roc_auc_new = score_model(X_train, X_test, y_train, y_test)"
   ]
  },
  {
   "cell_type": "code",
   "execution_count": 31,
   "metadata": {},
   "outputs": [
    {
     "name": "stdout",
     "output_type": "stream",
     "text": [
      "New model compared to baseline (ROC AUC): -3.59%\n"
     ]
    }
   ],
   "source": [
    "diff = roc_auc_new - roc_auc_baseline\n",
    "print('New model compared to baseline (ROC AUC): {:.2%}'.format(diff))"
   ]
  },
  {
   "cell_type": "markdown",
   "metadata": {},
   "source": [
    "Okay.. this didn't go as expected. In the tutorial, `CountEncoder` had very little effect but there was slight improvement in the performance metric. In my case, I'm seeing a significant decrease in model's performance. Why?"
   ]
  },
  {
   "cell_type": "markdown",
   "metadata": {},
   "source": [
    "#### Target Encoder"
   ]
  },
  {
   "cell_type": "code",
   "execution_count": 32,
   "metadata": {},
   "outputs": [],
   "source": [
    "# import module\n",
    "from category_encoders import TargetEncoder\n",
    "\n",
    "# init\n",
    "te = TargetEncoder(cols=categorical_cols)"
   ]
  },
  {
   "cell_type": "code",
   "execution_count": 33,
   "metadata": {},
   "outputs": [
    {
     "data": {
      "text/plain": [
       "TargetEncoder(cols=['main_category', 'category', 'currency', 'country'],\n",
       "              drop_invariant=False, handle_missing='value',\n",
       "              handle_unknown='value', min_samples_leaf=1, return_df=True,\n",
       "              smoothing=1.0, verbose=0)"
      ]
     },
     "execution_count": 33,
     "metadata": {},
     "output_type": "execute_result"
    }
   ],
   "source": [
    "# target encoding is fitted on just the training dataset \n",
    "# to prevent target leakage into the testing dataset \n",
    "\n",
    "# create a fresh copy of our data \n",
    "data = ks[['year','month','day','hour','is_successful']].join(ks[categorical_cols])\n",
    "\n",
    "# split data\n",
    "X, y, X_train, X_test, y_train, y_test = create_train_test(data)\n",
    "\n",
    "# fit on train\n",
    "te.fit(X_train[categorical_cols], y=y_train)"
   ]
  },
  {
   "cell_type": "code",
   "execution_count": 34,
   "metadata": {
    "scrolled": true
   },
   "outputs": [
    {
     "data": {
      "text/html": [
       "<div>\n",
       "<style scoped>\n",
       "    .dataframe tbody tr th:only-of-type {\n",
       "        vertical-align: middle;\n",
       "    }\n",
       "\n",
       "    .dataframe tbody tr th {\n",
       "        vertical-align: top;\n",
       "    }\n",
       "\n",
       "    .dataframe thead th {\n",
       "        text-align: right;\n",
       "    }\n",
       "</style>\n",
       "<table border=\"1\" class=\"dataframe\">\n",
       "  <thead>\n",
       "    <tr style=\"text-align: right;\">\n",
       "      <th></th>\n",
       "      <th>year</th>\n",
       "      <th>month</th>\n",
       "      <th>day</th>\n",
       "      <th>hour</th>\n",
       "      <th>main_category</th>\n",
       "      <th>category</th>\n",
       "      <th>currency</th>\n",
       "      <th>country</th>\n",
       "      <th>main_category_target</th>\n",
       "      <th>category_target</th>\n",
       "      <th>currency_target</th>\n",
       "      <th>country_target</th>\n",
       "    </tr>\n",
       "  </thead>\n",
       "  <tbody>\n",
       "    <tr>\n",
       "      <th>70176</th>\n",
       "      <td>2015</td>\n",
       "      <td>5</td>\n",
       "      <td>26</td>\n",
       "      <td>23</td>\n",
       "      <td>Film &amp; Video</td>\n",
       "      <td>Film &amp; Video</td>\n",
       "      <td>USD</td>\n",
       "      <td>US</td>\n",
       "      <td>0.374333</td>\n",
       "      <td>0.310345</td>\n",
       "      <td>0.372498</td>\n",
       "      <td>0.375674</td>\n",
       "    </tr>\n",
       "    <tr>\n",
       "      <th>250375</th>\n",
       "      <td>2012</td>\n",
       "      <td>9</td>\n",
       "      <td>14</td>\n",
       "      <td>14</td>\n",
       "      <td>Games</td>\n",
       "      <td>Tabletop Games</td>\n",
       "      <td>USD</td>\n",
       "      <td>US</td>\n",
       "      <td>0.357379</td>\n",
       "      <td>0.558198</td>\n",
       "      <td>0.372498</td>\n",
       "      <td>0.375674</td>\n",
       "    </tr>\n",
       "    <tr>\n",
       "      <th>166656</th>\n",
       "      <td>2013</td>\n",
       "      <td>1</td>\n",
       "      <td>31</td>\n",
       "      <td>2</td>\n",
       "      <td>Crafts</td>\n",
       "      <td>Crafts</td>\n",
       "      <td>USD</td>\n",
       "      <td>US</td>\n",
       "      <td>0.242268</td>\n",
       "      <td>0.250543</td>\n",
       "      <td>0.372498</td>\n",
       "      <td>0.375674</td>\n",
       "    </tr>\n",
       "    <tr>\n",
       "      <th>355336</th>\n",
       "      <td>2016</td>\n",
       "      <td>11</td>\n",
       "      <td>2</td>\n",
       "      <td>0</td>\n",
       "      <td>Crafts</td>\n",
       "      <td>Crafts</td>\n",
       "      <td>USD</td>\n",
       "      <td>US</td>\n",
       "      <td>0.242268</td>\n",
       "      <td>0.250543</td>\n",
       "      <td>0.372498</td>\n",
       "      <td>0.375674</td>\n",
       "    </tr>\n",
       "    <tr>\n",
       "      <th>199269</th>\n",
       "      <td>2012</td>\n",
       "      <td>12</td>\n",
       "      <td>6</td>\n",
       "      <td>0</td>\n",
       "      <td>Music</td>\n",
       "      <td>Indie Rock</td>\n",
       "      <td>USD</td>\n",
       "      <td>US</td>\n",
       "      <td>0.469162</td>\n",
       "      <td>0.640872</td>\n",
       "      <td>0.372498</td>\n",
       "      <td>0.375674</td>\n",
       "    </tr>\n",
       "  </tbody>\n",
       "</table>\n",
       "</div>"
      ],
      "text/plain": [
       "        year  month  day  hour main_category        category currency country  \\\n",
       "70176   2015      5   26    23  Film & Video    Film & Video      USD      US   \n",
       "250375  2012      9   14    14         Games  Tabletop Games      USD      US   \n",
       "166656  2013      1   31     2        Crafts          Crafts      USD      US   \n",
       "355336  2016     11    2     0        Crafts          Crafts      USD      US   \n",
       "199269  2012     12    6     0         Music      Indie Rock      USD      US   \n",
       "\n",
       "        main_category_target  category_target  currency_target  country_target  \n",
       "70176               0.374333         0.310345         0.372498        0.375674  \n",
       "250375              0.357379         0.558198         0.372498        0.375674  \n",
       "166656              0.242268         0.250543         0.372498        0.375674  \n",
       "355336              0.242268         0.250543         0.372498        0.375674  \n",
       "199269              0.469162         0.640872         0.372498        0.375674  "
      ]
     },
     "execution_count": 34,
     "metadata": {},
     "output_type": "execute_result"
    }
   ],
   "source": [
    "# tranform categorical features of both train and test\n",
    "X_train = X_train.join(te.transform(X_train[categorical_cols]).add_suffix('_target'))\n",
    "X_test = X_test.join(te.transform(X_test[categorical_cols]).add_suffix('_target'))\n",
    "\n",
    "# inspect\n",
    "X_train.head()"
   ]
  },
  {
   "cell_type": "code",
   "execution_count": 35,
   "metadata": {},
   "outputs": [
    {
     "data": {
      "text/html": [
       "<div>\n",
       "<style scoped>\n",
       "    .dataframe tbody tr th:only-of-type {\n",
       "        vertical-align: middle;\n",
       "    }\n",
       "\n",
       "    .dataframe tbody tr th {\n",
       "        vertical-align: top;\n",
       "    }\n",
       "\n",
       "    .dataframe thead th {\n",
       "        text-align: right;\n",
       "    }\n",
       "</style>\n",
       "<table border=\"1\" class=\"dataframe\">\n",
       "  <thead>\n",
       "    <tr style=\"text-align: right;\">\n",
       "      <th></th>\n",
       "      <th>year</th>\n",
       "      <th>month</th>\n",
       "      <th>day</th>\n",
       "      <th>hour</th>\n",
       "      <th>main_category_target</th>\n",
       "      <th>category_target</th>\n",
       "      <th>currency_target</th>\n",
       "      <th>country_target</th>\n",
       "    </tr>\n",
       "  </thead>\n",
       "  <tbody>\n",
       "    <tr>\n",
       "      <th>70176</th>\n",
       "      <td>2015</td>\n",
       "      <td>5</td>\n",
       "      <td>26</td>\n",
       "      <td>23</td>\n",
       "      <td>0.374333</td>\n",
       "      <td>0.310345</td>\n",
       "      <td>0.372498</td>\n",
       "      <td>0.375674</td>\n",
       "    </tr>\n",
       "    <tr>\n",
       "      <th>250375</th>\n",
       "      <td>2012</td>\n",
       "      <td>9</td>\n",
       "      <td>14</td>\n",
       "      <td>14</td>\n",
       "      <td>0.357379</td>\n",
       "      <td>0.558198</td>\n",
       "      <td>0.372498</td>\n",
       "      <td>0.375674</td>\n",
       "    </tr>\n",
       "    <tr>\n",
       "      <th>166656</th>\n",
       "      <td>2013</td>\n",
       "      <td>1</td>\n",
       "      <td>31</td>\n",
       "      <td>2</td>\n",
       "      <td>0.242268</td>\n",
       "      <td>0.250543</td>\n",
       "      <td>0.372498</td>\n",
       "      <td>0.375674</td>\n",
       "    </tr>\n",
       "    <tr>\n",
       "      <th>355336</th>\n",
       "      <td>2016</td>\n",
       "      <td>11</td>\n",
       "      <td>2</td>\n",
       "      <td>0</td>\n",
       "      <td>0.242268</td>\n",
       "      <td>0.250543</td>\n",
       "      <td>0.372498</td>\n",
       "      <td>0.375674</td>\n",
       "    </tr>\n",
       "    <tr>\n",
       "      <th>199269</th>\n",
       "      <td>2012</td>\n",
       "      <td>12</td>\n",
       "      <td>6</td>\n",
       "      <td>0</td>\n",
       "      <td>0.469162</td>\n",
       "      <td>0.640872</td>\n",
       "      <td>0.372498</td>\n",
       "      <td>0.375674</td>\n",
       "    </tr>\n",
       "  </tbody>\n",
       "</table>\n",
       "</div>"
      ],
      "text/plain": [
       "        year  month  day  hour  main_category_target  category_target  \\\n",
       "70176   2015      5   26    23              0.374333         0.310345   \n",
       "250375  2012      9   14    14              0.357379         0.558198   \n",
       "166656  2013      1   31     2              0.242268         0.250543   \n",
       "355336  2016     11    2     0              0.242268         0.250543   \n",
       "199269  2012     12    6     0              0.469162         0.640872   \n",
       "\n",
       "        currency_target  country_target  \n",
       "70176          0.372498        0.375674  \n",
       "250375         0.372498        0.375674  \n",
       "166656         0.372498        0.375674  \n",
       "355336         0.372498        0.375674  \n",
       "199269         0.372498        0.375674  "
      ]
     },
     "execution_count": 35,
     "metadata": {},
     "output_type": "execute_result"
    }
   ],
   "source": [
    "# drop the original categorical features \n",
    "for df in [X_train, X_test]:\n",
    "    df.drop(['main_category','category','currency','country'], axis=1, inplace=True)\n",
    "    \n",
    "# inspect\n",
    "X_train.head()"
   ]
  },
  {
   "cell_type": "code",
   "execution_count": 36,
   "metadata": {},
   "outputs": [
    {
     "name": "stdout",
     "output_type": "stream",
     "text": [
      "Fitting model...\n",
      "Predicting...\n",
      "Done.\n"
     ]
    }
   ],
   "source": [
    "# fit, predict and calculate new score\n",
    "roc_auc_new = score_model(X_train, X_test, y_train, y_test)"
   ]
  },
  {
   "cell_type": "code",
   "execution_count": 37,
   "metadata": {},
   "outputs": [
    {
     "name": "stdout",
     "output_type": "stream",
     "text": [
      "New model compared to baseline (ROC AUC): -2.68%\n"
     ]
    }
   ],
   "source": [
    "diff = roc_auc_new - roc_auc_baseline\n",
    "print('New model compared to baseline (ROC AUC): {:.2%}'.format(diff))"
   ]
  },
  {
   "cell_type": "code",
   "execution_count": 38,
   "metadata": {},
   "outputs": [],
   "source": [
    "# # in the tutorial, they picked the encoder which achieved the best incremental improvement over the baseline model\n",
    "# # and then they added those encoded categorical features to the dataset\n",
    "# encoded = te.transform(ks[categorical_cols])\n",
    "# for col in encoded:\n",
    "#     ks.insert(len(ks.columns), col + '_target', encoded[col])\n",
    "\n",
    "# # this is how to add these new features into the DataFrame\n",
    "# ks.head()"
   ]
  },
  {
   "cell_type": "markdown",
   "metadata": {},
   "source": [
    "## Feature Generation"
   ]
  },
  {
   "cell_type": "code",
   "execution_count": null,
   "metadata": {},
   "outputs": [],
   "source": []
  }
 ],
 "metadata": {
  "kernelspec": {
   "display_name": "Kickstarter (Python 3) [conda env:conda-env]",
   "language": "python",
   "name": "conda-env-conda-env-py"
  },
  "language_info": {
   "codemirror_mode": {
    "name": "ipython",
    "version": 3
   },
   "file_extension": ".py",
   "mimetype": "text/x-python",
   "name": "python",
   "nbconvert_exporter": "python",
   "pygments_lexer": "ipython3",
   "version": "3.6.10"
  }
 },
 "nbformat": 4,
 "nbformat_minor": 4
}
