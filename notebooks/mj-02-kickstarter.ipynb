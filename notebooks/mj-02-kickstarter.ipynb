{
 "cells": [
  {
   "cell_type": "markdown",
   "metadata": {},
   "source": [
    "## Kickstarter projects: an exercise in basic feature engineering"
   ]
  },
  {
   "cell_type": "code",
   "execution_count": 1,
   "metadata": {},
   "outputs": [],
   "source": [
    "# try 2 - 2 months later\n",
    "# i won't be able to remember much "
   ]
  },
  {
   "cell_type": "code",
   "execution_count": 2,
   "metadata": {},
   "outputs": [],
   "source": [
    "# import libraries\n",
    "import pandas as pd\n",
    "import numpy as np\n",
    "import seaborn as sns\n",
    "import matplotlib.pyplot as plt\n",
    "\n",
    "# sklearn- model selection\n",
    "from sklearn.model_selection import train_test_split\n",
    "\n",
    "# sklearn- models  \n",
    "from sklearn.ensemble import RandomForestClassifier\n",
    "\n",
    "# sklearn- metrics \n",
    "from sklearn.metrics import accuracy_score, roc_auc_score, confusion_matrix, classification_report\n",
    "\n",
    "# category_encoders\n",
    "from category_encoders import CountEncoder, TargetEncoder\n",
    "\n",
    "import itertools"
   ]
  },
  {
   "cell_type": "code",
   "execution_count": 3,
   "metadata": {},
   "outputs": [
    {
     "data": {
      "text/html": [
       "<div>\n",
       "<style scoped>\n",
       "    .dataframe tbody tr th:only-of-type {\n",
       "        vertical-align: middle;\n",
       "    }\n",
       "\n",
       "    .dataframe tbody tr th {\n",
       "        vertical-align: top;\n",
       "    }\n",
       "\n",
       "    .dataframe thead th {\n",
       "        text-align: right;\n",
       "    }\n",
       "</style>\n",
       "<table border=\"1\" class=\"dataframe\">\n",
       "  <thead>\n",
       "    <tr style=\"text-align: right;\">\n",
       "      <th></th>\n",
       "      <th>ID</th>\n",
       "      <th>name</th>\n",
       "      <th>category</th>\n",
       "      <th>main_category</th>\n",
       "      <th>currency</th>\n",
       "      <th>deadline</th>\n",
       "      <th>goal</th>\n",
       "      <th>launched</th>\n",
       "      <th>pledged</th>\n",
       "      <th>state</th>\n",
       "      <th>backers</th>\n",
       "      <th>country</th>\n",
       "      <th>usd pledged</th>\n",
       "      <th>usd_pledged_real</th>\n",
       "      <th>usd_goal_real</th>\n",
       "    </tr>\n",
       "  </thead>\n",
       "  <tbody>\n",
       "    <tr>\n",
       "      <th>0</th>\n",
       "      <td>1000002330</td>\n",
       "      <td>The Songs of Adelaide &amp; Abullah</td>\n",
       "      <td>Poetry</td>\n",
       "      <td>Publishing</td>\n",
       "      <td>GBP</td>\n",
       "      <td>2015-10-09</td>\n",
       "      <td>1000.0</td>\n",
       "      <td>2015-08-11 12:12:28</td>\n",
       "      <td>0.0</td>\n",
       "      <td>failed</td>\n",
       "      <td>0</td>\n",
       "      <td>GB</td>\n",
       "      <td>0.0</td>\n",
       "      <td>0.0</td>\n",
       "      <td>1533.95</td>\n",
       "    </tr>\n",
       "    <tr>\n",
       "      <th>1</th>\n",
       "      <td>1000003930</td>\n",
       "      <td>Greeting From Earth: ZGAC Arts Capsule For ET</td>\n",
       "      <td>Narrative Film</td>\n",
       "      <td>Film &amp; Video</td>\n",
       "      <td>USD</td>\n",
       "      <td>2017-11-01</td>\n",
       "      <td>30000.0</td>\n",
       "      <td>2017-09-02 04:43:57</td>\n",
       "      <td>2421.0</td>\n",
       "      <td>failed</td>\n",
       "      <td>15</td>\n",
       "      <td>US</td>\n",
       "      <td>100.0</td>\n",
       "      <td>2421.0</td>\n",
       "      <td>30000.00</td>\n",
       "    </tr>\n",
       "    <tr>\n",
       "      <th>2</th>\n",
       "      <td>1000004038</td>\n",
       "      <td>Where is Hank?</td>\n",
       "      <td>Narrative Film</td>\n",
       "      <td>Film &amp; Video</td>\n",
       "      <td>USD</td>\n",
       "      <td>2013-02-26</td>\n",
       "      <td>45000.0</td>\n",
       "      <td>2013-01-12 00:20:50</td>\n",
       "      <td>220.0</td>\n",
       "      <td>failed</td>\n",
       "      <td>3</td>\n",
       "      <td>US</td>\n",
       "      <td>220.0</td>\n",
       "      <td>220.0</td>\n",
       "      <td>45000.00</td>\n",
       "    </tr>\n",
       "    <tr>\n",
       "      <th>3</th>\n",
       "      <td>1000007540</td>\n",
       "      <td>ToshiCapital Rekordz Needs Help to Complete Album</td>\n",
       "      <td>Music</td>\n",
       "      <td>Music</td>\n",
       "      <td>USD</td>\n",
       "      <td>2012-04-16</td>\n",
       "      <td>5000.0</td>\n",
       "      <td>2012-03-17 03:24:11</td>\n",
       "      <td>1.0</td>\n",
       "      <td>failed</td>\n",
       "      <td>1</td>\n",
       "      <td>US</td>\n",
       "      <td>1.0</td>\n",
       "      <td>1.0</td>\n",
       "      <td>5000.00</td>\n",
       "    </tr>\n",
       "    <tr>\n",
       "      <th>4</th>\n",
       "      <td>1000011046</td>\n",
       "      <td>Community Film Project: The Art of Neighborhoo...</td>\n",
       "      <td>Film &amp; Video</td>\n",
       "      <td>Film &amp; Video</td>\n",
       "      <td>USD</td>\n",
       "      <td>2015-08-29</td>\n",
       "      <td>19500.0</td>\n",
       "      <td>2015-07-04 08:35:03</td>\n",
       "      <td>1283.0</td>\n",
       "      <td>canceled</td>\n",
       "      <td>14</td>\n",
       "      <td>US</td>\n",
       "      <td>1283.0</td>\n",
       "      <td>1283.0</td>\n",
       "      <td>19500.00</td>\n",
       "    </tr>\n",
       "  </tbody>\n",
       "</table>\n",
       "</div>"
      ],
      "text/plain": [
       "           ID                                               name  \\\n",
       "0  1000002330                    The Songs of Adelaide & Abullah   \n",
       "1  1000003930      Greeting From Earth: ZGAC Arts Capsule For ET   \n",
       "2  1000004038                                     Where is Hank?   \n",
       "3  1000007540  ToshiCapital Rekordz Needs Help to Complete Album   \n",
       "4  1000011046  Community Film Project: The Art of Neighborhoo...   \n",
       "\n",
       "         category main_category currency   deadline     goal  \\\n",
       "0          Poetry    Publishing      GBP 2015-10-09   1000.0   \n",
       "1  Narrative Film  Film & Video      USD 2017-11-01  30000.0   \n",
       "2  Narrative Film  Film & Video      USD 2013-02-26  45000.0   \n",
       "3           Music         Music      USD 2012-04-16   5000.0   \n",
       "4    Film & Video  Film & Video      USD 2015-08-29  19500.0   \n",
       "\n",
       "             launched  pledged     state  backers country  usd pledged  \\\n",
       "0 2015-08-11 12:12:28      0.0    failed        0      GB          0.0   \n",
       "1 2017-09-02 04:43:57   2421.0    failed       15      US        100.0   \n",
       "2 2013-01-12 00:20:50    220.0    failed        3      US        220.0   \n",
       "3 2012-03-17 03:24:11      1.0    failed        1      US          1.0   \n",
       "4 2015-07-04 08:35:03   1283.0  canceled       14      US       1283.0   \n",
       "\n",
       "   usd_pledged_real  usd_goal_real  \n",
       "0               0.0        1533.95  \n",
       "1            2421.0       30000.00  \n",
       "2             220.0       45000.00  \n",
       "3               1.0        5000.00  \n",
       "4            1283.0       19500.00  "
      ]
     },
     "execution_count": 3,
     "metadata": {},
     "output_type": "execute_result"
    }
   ],
   "source": [
    "# load the dataset \n",
    "ks_data = pd.read_csv('../data/raw/ks-projects-201801.csv', parse_dates=['deadline','launched'])\n",
    "\n",
    "# inspect\n",
    "ks_data.head()"
   ]
  },
  {
   "cell_type": "code",
   "execution_count": 4,
   "metadata": {},
   "outputs": [
    {
     "name": "stdout",
     "output_type": "stream",
     "text": [
      "<class 'pandas.core.frame.DataFrame'>\n",
      "RangeIndex: 378661 entries, 0 to 378660\n",
      "Data columns (total 15 columns):\n",
      " #   Column            Non-Null Count   Dtype         \n",
      "---  ------            --------------   -----         \n",
      " 0   ID                378661 non-null  int64         \n",
      " 1   name              378657 non-null  object        \n",
      " 2   category          378661 non-null  object        \n",
      " 3   main_category     378661 non-null  object        \n",
      " 4   currency          378661 non-null  object        \n",
      " 5   deadline          378661 non-null  datetime64[ns]\n",
      " 6   goal              378661 non-null  float64       \n",
      " 7   launched          378661 non-null  datetime64[ns]\n",
      " 8   pledged           378661 non-null  float64       \n",
      " 9   state             378661 non-null  object        \n",
      " 10  backers           378661 non-null  int64         \n",
      " 11  country           378661 non-null  object        \n",
      " 12  usd pledged       374864 non-null  float64       \n",
      " 13  usd_pledged_real  378661 non-null  float64       \n",
      " 14  usd_goal_real     378661 non-null  float64       \n",
      "dtypes: datetime64[ns](2), float64(5), int64(2), object(6)\n",
      "memory usage: 43.3+ MB\n"
     ]
    }
   ],
   "source": [
    "# check datatypes\n",
    "ks_data.info()"
   ]
  },
  {
   "cell_type": "code",
   "execution_count": 5,
   "metadata": {},
   "outputs": [],
   "source": [
    "# create a copy of the dataset so that it doens't need to be reloaded\n",
    "kickstarter = ks_data.copy()"
   ]
  },
  {
   "cell_type": "markdown",
   "metadata": {},
   "source": [
    "## 1. Baseline Model"
   ]
  },
  {
   "cell_type": "markdown",
   "metadata": {},
   "source": [
    "In this step we create a simple model using the features already available in the dataset. We will then use the performance metrics of our baseline model as a benchmark to judge the performance of more complex models with engineered features. \n",
    "\n",
    "Features in the baseline model:\n",
    "* launched date (broken down into three int features: year, month and day)\n",
    "* main_category \n",
    "* category \n",
    "* country\n",
    "* ~~goal~~ (as there are multiple currencies in the dataset, this will only work if we focus on USD)"
   ]
  },
  {
   "cell_type": "markdown",
   "metadata": {},
   "source": [
    "### Preparing target column"
   ]
  },
  {
   "cell_type": "code",
   "execution_count": 6,
   "metadata": {},
   "outputs": [
    {
     "data": {
      "text/plain": [
       "failed        197719\n",
       "successful    133956\n",
       "canceled       38779\n",
       "undefined       3562\n",
       "live            2799\n",
       "suspended       1846\n",
       "Name: state, dtype: int64"
      ]
     },
     "execution_count": 6,
     "metadata": {},
     "output_type": "execute_result"
    }
   ],
   "source": [
    "# find out which state can be used as our target variable\n",
    "kickstarter['state'].value_counts()"
   ]
  },
  {
   "cell_type": "markdown",
   "metadata": {},
   "source": [
    "For the purpose of our model we will consider `successful` projects as 1 (=success) and everything else will be regarded as 0 (=failed). We will also drop `live` projects. "
   ]
  },
  {
   "cell_type": "code",
   "execution_count": 7,
   "metadata": {},
   "outputs": [
    {
     "data": {
      "text/html": [
       "<div>\n",
       "<style scoped>\n",
       "    .dataframe tbody tr th:only-of-type {\n",
       "        vertical-align: middle;\n",
       "    }\n",
       "\n",
       "    .dataframe tbody tr th {\n",
       "        vertical-align: top;\n",
       "    }\n",
       "\n",
       "    .dataframe thead th {\n",
       "        text-align: right;\n",
       "    }\n",
       "</style>\n",
       "<table border=\"1\" class=\"dataframe\">\n",
       "  <thead>\n",
       "    <tr style=\"text-align: right;\">\n",
       "      <th></th>\n",
       "      <th>state</th>\n",
       "      <th>is_successful</th>\n",
       "      <th>name</th>\n",
       "    </tr>\n",
       "  </thead>\n",
       "  <tbody>\n",
       "    <tr>\n",
       "      <th>0</th>\n",
       "      <td>canceled</td>\n",
       "      <td>0</td>\n",
       "      <td>38779</td>\n",
       "    </tr>\n",
       "    <tr>\n",
       "      <th>1</th>\n",
       "      <td>failed</td>\n",
       "      <td>0</td>\n",
       "      <td>197716</td>\n",
       "    </tr>\n",
       "    <tr>\n",
       "      <th>2</th>\n",
       "      <td>live</td>\n",
       "      <td>0</td>\n",
       "      <td>2799</td>\n",
       "    </tr>\n",
       "    <tr>\n",
       "      <th>3</th>\n",
       "      <td>successful</td>\n",
       "      <td>1</td>\n",
       "      <td>133956</td>\n",
       "    </tr>\n",
       "    <tr>\n",
       "      <th>4</th>\n",
       "      <td>suspended</td>\n",
       "      <td>0</td>\n",
       "      <td>1845</td>\n",
       "    </tr>\n",
       "    <tr>\n",
       "      <th>5</th>\n",
       "      <td>undefined</td>\n",
       "      <td>0</td>\n",
       "      <td>3562</td>\n",
       "    </tr>\n",
       "  </tbody>\n",
       "</table>\n",
       "</div>"
      ],
      "text/plain": [
       "        state  is_successful    name\n",
       "0    canceled              0   38779\n",
       "1      failed              0  197716\n",
       "2        live              0    2799\n",
       "3  successful              1  133956\n",
       "4   suspended              0    1845\n",
       "5   undefined              0    3562"
      ]
     },
     "execution_count": 7,
     "metadata": {},
     "output_type": "execute_result"
    }
   ],
   "source": [
    "# create our target feature\n",
    "kickstarter = kickstarter.assign(is_successful = (kickstarter['state'] == 'successful').astype(int))\n",
    "\n",
    "# check \n",
    "kickstarter.groupby(['state','is_successful'])['name'].count().reset_index()"
   ]
  },
  {
   "cell_type": "code",
   "execution_count": 8,
   "metadata": {},
   "outputs": [],
   "source": [
    "# drop live projects \n",
    "kickstarter = kickstarter.query('state != \"live\"')\n",
    "\n",
    "# drop projects where the goal currency != USD\n",
    "kickstarter = kickstarter[kickstarter['currency'] == 'USD']"
   ]
  },
  {
   "cell_type": "markdown",
   "metadata": {},
   "source": [
    "### Converting timestamps"
   ]
  },
  {
   "cell_type": "code",
   "execution_count": 9,
   "metadata": {},
   "outputs": [],
   "source": [
    "# create a function that can turn any date column into year, month and day\n",
    "def date_to_int(df, col):\n",
    "    year = df[col].dt.year\n",
    "    month = df[col].dt.month\n",
    "    day = df[col].dt.day\n",
    "    return year, month, day"
   ]
  },
  {
   "cell_type": "code",
   "execution_count": 10,
   "metadata": {},
   "outputs": [
    {
     "data": {
      "text/html": [
       "<div>\n",
       "<style scoped>\n",
       "    .dataframe tbody tr th:only-of-type {\n",
       "        vertical-align: middle;\n",
       "    }\n",
       "\n",
       "    .dataframe tbody tr th {\n",
       "        vertical-align: top;\n",
       "    }\n",
       "\n",
       "    .dataframe thead th {\n",
       "        text-align: right;\n",
       "    }\n",
       "</style>\n",
       "<table border=\"1\" class=\"dataframe\">\n",
       "  <thead>\n",
       "    <tr style=\"text-align: right;\">\n",
       "      <th></th>\n",
       "      <th>launched</th>\n",
       "      <th>year</th>\n",
       "      <th>month</th>\n",
       "      <th>day</th>\n",
       "    </tr>\n",
       "  </thead>\n",
       "  <tbody>\n",
       "    <tr>\n",
       "      <th>1</th>\n",
       "      <td>2017-09-02 04:43:57</td>\n",
       "      <td>2017</td>\n",
       "      <td>9</td>\n",
       "      <td>2</td>\n",
       "    </tr>\n",
       "    <tr>\n",
       "      <th>2</th>\n",
       "      <td>2013-01-12 00:20:50</td>\n",
       "      <td>2013</td>\n",
       "      <td>1</td>\n",
       "      <td>12</td>\n",
       "    </tr>\n",
       "    <tr>\n",
       "      <th>3</th>\n",
       "      <td>2012-03-17 03:24:11</td>\n",
       "      <td>2012</td>\n",
       "      <td>3</td>\n",
       "      <td>17</td>\n",
       "    </tr>\n",
       "    <tr>\n",
       "      <th>4</th>\n",
       "      <td>2015-07-04 08:35:03</td>\n",
       "      <td>2015</td>\n",
       "      <td>7</td>\n",
       "      <td>4</td>\n",
       "    </tr>\n",
       "    <tr>\n",
       "      <th>5</th>\n",
       "      <td>2016-02-26 13:38:27</td>\n",
       "      <td>2016</td>\n",
       "      <td>2</td>\n",
       "      <td>26</td>\n",
       "    </tr>\n",
       "  </tbody>\n",
       "</table>\n",
       "</div>"
      ],
      "text/plain": [
       "             launched  year  month  day\n",
       "1 2017-09-02 04:43:57  2017      9    2\n",
       "2 2013-01-12 00:20:50  2013      1   12\n",
       "3 2012-03-17 03:24:11  2012      3   17\n",
       "4 2015-07-04 08:35:03  2015      7    4\n",
       "5 2016-02-26 13:38:27  2016      2   26"
      ]
     },
     "execution_count": 10,
     "metadata": {},
     "output_type": "execute_result"
    }
   ],
   "source": [
    "# convert laucnehd date into its date components \n",
    "launched_year, launched_month, launched_day = date_to_int(kickstarter, 'launched')\n",
    "\n",
    "# save them into a DataFrame that can be appended later\n",
    "launched_ymd = pd.concat([launched_year, launched_month, launched_day], axis=1, keys=['year','month','day'])\n",
    "\n",
    "# inspect\n",
    "pd.DataFrame(kickstarter['launched']).join(launched_ymd).head()"
   ]
  },
  {
   "cell_type": "markdown",
   "metadata": {},
   "source": [
    "### Processing categorical variables"
   ]
  },
  {
   "cell_type": "code",
   "execution_count": 11,
   "metadata": {},
   "outputs": [],
   "source": [
    "# select categorical variables\n",
    "categorical_cols = ['category','main_category','country']"
   ]
  },
  {
   "cell_type": "code",
   "execution_count": 12,
   "metadata": {},
   "outputs": [
    {
     "data": {
      "text/html": [
       "<div>\n",
       "<style scoped>\n",
       "    .dataframe tbody tr th:only-of-type {\n",
       "        vertical-align: middle;\n",
       "    }\n",
       "\n",
       "    .dataframe tbody tr th {\n",
       "        vertical-align: top;\n",
       "    }\n",
       "\n",
       "    .dataframe thead th {\n",
       "        text-align: right;\n",
       "    }\n",
       "</style>\n",
       "<table border=\"1\" class=\"dataframe\">\n",
       "  <thead>\n",
       "    <tr style=\"text-align: right;\">\n",
       "      <th></th>\n",
       "      <th>category</th>\n",
       "      <th>main_category</th>\n",
       "      <th>country</th>\n",
       "    </tr>\n",
       "  </thead>\n",
       "  <tbody>\n",
       "    <tr>\n",
       "      <th>1</th>\n",
       "      <td>93</td>\n",
       "      <td>6</td>\n",
       "      <td>1</td>\n",
       "    </tr>\n",
       "    <tr>\n",
       "      <th>2</th>\n",
       "      <td>93</td>\n",
       "      <td>6</td>\n",
       "      <td>1</td>\n",
       "    </tr>\n",
       "    <tr>\n",
       "      <th>3</th>\n",
       "      <td>90</td>\n",
       "      <td>10</td>\n",
       "      <td>1</td>\n",
       "    </tr>\n",
       "    <tr>\n",
       "      <th>4</th>\n",
       "      <td>55</td>\n",
       "      <td>6</td>\n",
       "      <td>1</td>\n",
       "    </tr>\n",
       "    <tr>\n",
       "      <th>5</th>\n",
       "      <td>123</td>\n",
       "      <td>7</td>\n",
       "      <td>1</td>\n",
       "    </tr>\n",
       "  </tbody>\n",
       "</table>\n",
       "</div>"
      ],
      "text/plain": [
       "   category  main_category  country\n",
       "1        93              6        1\n",
       "2        93              6        1\n",
       "3        90             10        1\n",
       "4        55              6        1\n",
       "5       123              7        1"
      ]
     },
     "execution_count": 12,
     "metadata": {},
     "output_type": "execute_result"
    }
   ],
   "source": [
    "# Approach 1: label encoder \n",
    "from sklearn.preprocessing import LabelEncoder\n",
    "\n",
    "# instantiate \n",
    "le = LabelEncoder()\n",
    "\n",
    "# apply encoder\n",
    "encoded_le = kickstarter[categorical_cols].apply(le.fit_transform)\n",
    "\n",
    "# inspect\n",
    "encoded_le.head()"
   ]
  },
  {
   "cell_type": "code",
   "execution_count": null,
   "metadata": {
    "scrolled": true
   },
   "outputs": [],
   "source": []
  },
  {
   "cell_type": "markdown",
   "metadata": {},
   "source": [
    "### Processing numerical variables"
   ]
  },
  {
   "cell_type": "code",
   "execution_count": 13,
   "metadata": {
    "scrolled": true
   },
   "outputs": [
    {
     "data": {
      "text/plain": [
       "Text(0.5, 1.0, 'Distribution of \"Goal\"')"
      ]
     },
     "execution_count": 13,
     "metadata": {},
     "output_type": "execute_result"
    },
    {
     "data": {
      "image/png": "[encoded data removed]",
      "text/plain": [
       "<Figure size 432x288 with 1 Axes>"
      ]
     },
     "metadata": {
      "needs_background": "light"
     },
     "output_type": "display_data"
    }
   ],
   "source": [
    "# examine the distribution of 'goal', our only numerical variable \n",
    "# plot distribution\n",
    "sns.distplot(kickstarter['goal'])\n",
    "\n",
    "# add annotations\n",
    "plt.title('Distribution of \"Goal\"')"
   ]
  },
  {
   "cell_type": "code",
   "execution_count": 14,
   "metadata": {
    "scrolled": true
   },
   "outputs": [
    {
     "data": {
      "text/plain": [
       "<matplotlib.axes._subplots.AxesSubplot at 0x22bb191f108>"
      ]
     },
     "execution_count": 14,
     "metadata": {},
     "output_type": "execute_result"
    },
    {
     "data": {
      "image/png": "[encoded data removed]",
      "text/plain": [
       "<Figure size 432x288 with 1 Axes>"
      ]
     },
     "metadata": {
      "needs_background": "light"
     },
     "output_type": "display_data"
    }
   ],
   "source": [
    "# use log transformation to normalise the distribution a little \n",
    "goal_log = pd.DataFrame(np.log(kickstarter['goal']))\n",
    "\n",
    "# plot again \n",
    "sns.distplot(goal_log)"
   ]
  },
  {
   "cell_type": "markdown",
   "metadata": {},
   "source": [
    "### Creating a dataset for the baseline model"
   ]
  },
  {
   "cell_type": "code",
   "execution_count": 15,
   "metadata": {},
   "outputs": [
    {
     "data": {
      "text/html": [
       "<div>\n",
       "<style scoped>\n",
       "    .dataframe tbody tr th:only-of-type {\n",
       "        vertical-align: middle;\n",
       "    }\n",
       "\n",
       "    .dataframe tbody tr th {\n",
       "        vertical-align: top;\n",
       "    }\n",
       "\n",
       "    .dataframe thead th {\n",
       "        text-align: right;\n",
       "    }\n",
       "</style>\n",
       "<table border=\"1\" class=\"dataframe\">\n",
       "  <thead>\n",
       "    <tr style=\"text-align: right;\">\n",
       "      <th></th>\n",
       "      <th>is_successful</th>\n",
       "      <th>year</th>\n",
       "      <th>month</th>\n",
       "      <th>day</th>\n",
       "      <th>category</th>\n",
       "      <th>main_category</th>\n",
       "      <th>country</th>\n",
       "      <th>goal</th>\n",
       "    </tr>\n",
       "  </thead>\n",
       "  <tbody>\n",
       "    <tr>\n",
       "      <th>1</th>\n",
       "      <td>0</td>\n",
       "      <td>2017</td>\n",
       "      <td>9</td>\n",
       "      <td>2</td>\n",
       "      <td>93</td>\n",
       "      <td>6</td>\n",
       "      <td>1</td>\n",
       "      <td>10.308953</td>\n",
       "    </tr>\n",
       "    <tr>\n",
       "      <th>2</th>\n",
       "      <td>0</td>\n",
       "      <td>2013</td>\n",
       "      <td>1</td>\n",
       "      <td>12</td>\n",
       "      <td>93</td>\n",
       "      <td>6</td>\n",
       "      <td>1</td>\n",
       "      <td>10.714418</td>\n",
       "    </tr>\n",
       "    <tr>\n",
       "      <th>3</th>\n",
       "      <td>0</td>\n",
       "      <td>2012</td>\n",
       "      <td>3</td>\n",
       "      <td>17</td>\n",
       "      <td>90</td>\n",
       "      <td>10</td>\n",
       "      <td>1</td>\n",
       "      <td>8.517193</td>\n",
       "    </tr>\n",
       "    <tr>\n",
       "      <th>4</th>\n",
       "      <td>0</td>\n",
       "      <td>2015</td>\n",
       "      <td>7</td>\n",
       "      <td>4</td>\n",
       "      <td>55</td>\n",
       "      <td>6</td>\n",
       "      <td>1</td>\n",
       "      <td>9.878170</td>\n",
       "    </tr>\n",
       "    <tr>\n",
       "      <th>5</th>\n",
       "      <td>1</td>\n",
       "      <td>2016</td>\n",
       "      <td>2</td>\n",
       "      <td>26</td>\n",
       "      <td>123</td>\n",
       "      <td>7</td>\n",
       "      <td>1</td>\n",
       "      <td>10.819778</td>\n",
       "    </tr>\n",
       "  </tbody>\n",
       "</table>\n",
       "</div>"
      ],
      "text/plain": [
       "   is_successful  year  month  day  category  main_category  country  \\\n",
       "1              0  2017      9    2        93              6        1   \n",
       "2              0  2013      1   12        93              6        1   \n",
       "3              0  2012      3   17        90             10        1   \n",
       "4              0  2015      7    4        55              6        1   \n",
       "5              1  2016      2   26       123              7        1   \n",
       "\n",
       "        goal  \n",
       "1  10.308953  \n",
       "2  10.714418  \n",
       "3   8.517193  \n",
       "4   9.878170  \n",
       "5  10.819778  "
      ]
     },
     "execution_count": 15,
     "metadata": {},
     "output_type": "execute_result"
    }
   ],
   "source": [
    "# create a new DataFrame with just the features we want to train the baseline model on\n",
    "model_df = kickstarter[['is_successful']].join(launched_ymd).join(encoded_le).join(goal_log)\n",
    "\n",
    "# inspect\n",
    "model_df.head()"
   ]
  },
  {
   "cell_type": "markdown",
   "metadata": {},
   "source": [
    "### Examine correlations between these variables and target\n"
   ]
  },
  {
   "cell_type": "code",
   "execution_count": 16,
   "metadata": {},
   "outputs": [],
   "source": [
    "# select a couple of features to look at \n",
    "examine_cols = ['year','month','main_category']\n",
    "\n",
    "# calculate the overall succcess rate \n",
    "success_rate = model_df['is_successful'].mean()\n",
    "\n",
    "# create an empty DataFrame to store all stats \n",
    "stats_df = pd.DataFrame()\n",
    "\n",
    "# for each feature \n",
    "for col in examine_cols:\n",
    "    \n",
    "    # calculate group size, % successful and diff in % successful compared to overall success rate\n",
    "    grouped = model_df.groupby(col)\n",
    "    group_size = grouped['is_successful'].size()\n",
    "    group_success = grouped['is_successful'].mean()\n",
    "    group_diff = group_success - success_rate\n",
    "    \n",
    "    # combine them together \n",
    "    feature_stats = pd.concat([group_size, group_success, group_diff], axis=1, keys=['size','success_rate','diff_from_mean'])\n",
    "    \n",
    "    # \n",
    "    feature_stats.reset_index(inplace=True)\n",
    "    feature_stats['feature_name'] = col\n",
    "    feature_stats.rename(columns={col:'feature_value'}, inplace=True)\n",
    "    \n",
    "    # append to main df\n",
    "    stats_df = stats_df.append(feature_stats)\n",
    "    "
   ]
  },
  {
   "cell_type": "code",
   "execution_count": 17,
   "metadata": {},
   "outputs": [
    {
     "data": {
      "text/html": [
       "<div>\n",
       "<style scoped>\n",
       "    .dataframe tbody tr th:only-of-type {\n",
       "        vertical-align: middle;\n",
       "    }\n",
       "\n",
       "    .dataframe tbody tr th {\n",
       "        vertical-align: top;\n",
       "    }\n",
       "\n",
       "    .dataframe thead th {\n",
       "        text-align: right;\n",
       "    }\n",
       "</style>\n",
       "<table border=\"1\" class=\"dataframe\">\n",
       "  <thead>\n",
       "    <tr style=\"text-align: right;\">\n",
       "      <th></th>\n",
       "      <th>feature_value</th>\n",
       "      <th>size</th>\n",
       "      <th>success_rate</th>\n",
       "      <th>diff_from_mean</th>\n",
       "      <th>feature_name</th>\n",
       "    </tr>\n",
       "  </thead>\n",
       "  <tbody>\n",
       "    <tr>\n",
       "      <th>0</th>\n",
       "      <td>1970</td>\n",
       "      <td>6</td>\n",
       "      <td>0.000000</td>\n",
       "      <td>-0.372514</td>\n",
       "      <td>year</td>\n",
       "    </tr>\n",
       "    <tr>\n",
       "      <th>1</th>\n",
       "      <td>2009</td>\n",
       "      <td>1329</td>\n",
       "      <td>0.435666</td>\n",
       "      <td>0.063152</td>\n",
       "      <td>year</td>\n",
       "    </tr>\n",
       "    <tr>\n",
       "      <th>2</th>\n",
       "      <td>2010</td>\n",
       "      <td>10519</td>\n",
       "      <td>0.436638</td>\n",
       "      <td>0.064125</td>\n",
       "      <td>year</td>\n",
       "    </tr>\n",
       "    <tr>\n",
       "      <th>3</th>\n",
       "      <td>2011</td>\n",
       "      <td>26237</td>\n",
       "      <td>0.463887</td>\n",
       "      <td>0.091373</td>\n",
       "      <td>year</td>\n",
       "    </tr>\n",
       "    <tr>\n",
       "      <th>4</th>\n",
       "      <td>2012</td>\n",
       "      <td>40549</td>\n",
       "      <td>0.436657</td>\n",
       "      <td>0.064143</td>\n",
       "      <td>year</td>\n",
       "    </tr>\n",
       "  </tbody>\n",
       "</table>\n",
       "</div>"
      ],
      "text/plain": [
       "   feature_value   size  success_rate  diff_from_mean feature_name\n",
       "0           1970      6      0.000000       -0.372514         year\n",
       "1           2009   1329      0.435666        0.063152         year\n",
       "2           2010  10519      0.436638        0.064125         year\n",
       "3           2011  26237      0.463887        0.091373         year\n",
       "4           2012  40549      0.436657        0.064143         year"
      ]
     },
     "execution_count": 17,
     "metadata": {},
     "output_type": "execute_result"
    }
   ],
   "source": [
    "# inspect stats \n",
    "stats_df.head()"
   ]
  },
  {
   "cell_type": "code",
   "execution_count": 18,
   "metadata": {
    "scrolled": true
   },
   "outputs": [],
   "source": [
    "# examine year \n",
    "feature_year = stats_df[stats_df['feature_name']=='year'].sort_values('feature_value')"
   ]
  },
  {
   "cell_type": "code",
   "execution_count": 19,
   "metadata": {},
   "outputs": [
    {
     "data": {
      "text/plain": [
       "(-0.15, 0.15)"
      ]
     },
     "execution_count": 19,
     "metadata": {},
     "output_type": "execute_result"
    },
    {
     "data": {
      "image/png": "[encoded data removed]",
      "text/plain": [
       "<Figure size 432x288 with 1 Axes>"
      ]
     },
     "metadata": {
      "needs_background": "light"
     },
     "output_type": "display_data"
    }
   ],
   "source": [
    "# annotate\n",
    "plt.title('Average project success rate by year \\n (difference from average)')\n",
    "plt.xlabel('Year of project launch')\n",
    "plt.ylabel('Percentage points difference')\n",
    "\n",
    "# plot year \n",
    "plt.bar(feature_year['feature_value'], feature_year['diff_from_mean'])\n",
    "plt.xlim(2008,2018)\n",
    "plt.ylim(-0.15, 0.15)"
   ]
  },
  {
   "cell_type": "code",
   "execution_count": 20,
   "metadata": {},
   "outputs": [],
   "source": [
    "# examine categories \n",
    "feature_main_category = stats_df[stats_df['feature_name']=='main_category'].sort_values('feature_value')"
   ]
  },
  {
   "cell_type": "code",
   "execution_count": 21,
   "metadata": {},
   "outputs": [
    {
     "data": {
      "text/plain": [
       "<BarContainer object of 15 artists>"
      ]
     },
     "execution_count": 21,
     "metadata": {},
     "output_type": "execute_result"
    },
    {
     "data": {
      "image/png": "[encoded data removed]",
      "text/plain": [
       "<Figure size 432x288 with 1 Axes>"
      ]
     },
     "metadata": {
      "needs_background": "light"
     },
     "output_type": "display_data"
    }
   ],
   "source": [
    "# annotate\n",
    "plt.title('Average project success rate by main category \\n (difference from average)')\n",
    "plt.xlabel('Year of project launch')\n",
    "plt.ylabel('Percentage points difference')\n",
    "\n",
    "# plot year \n",
    "plt.bar(feature_main_category['feature_value'], feature_main_category['diff_from_mean'])"
   ]
  },
  {
   "cell_type": "markdown",
   "metadata": {},
   "source": [
    "### Create train and test datasets"
   ]
  },
  {
   "cell_type": "code",
   "execution_count": 22,
   "metadata": {},
   "outputs": [],
   "source": [
    "# create a function that will split the dataset in the same way\n",
    "def create_train_test(df):\n",
    "    \n",
    "    # create X, y\n",
    "    X = model_df.drop('is_successful', axis=1)\n",
    "    y = model_df['is_successful']\n",
    "    \n",
    "    # split into train and test\n",
    "    X_train, X_test, y_train, y_test = train_test_split(X, y, test_size=0.2, random_state=42)\n",
    "    \n",
    "    return X, y, X_train, X_test, y_train, y_test\n"
   ]
  },
  {
   "cell_type": "code",
   "execution_count": 23,
   "metadata": {},
   "outputs": [],
   "source": [
    "# split our dataset\n",
    "X, y, X_train, X_test, y_train, y_test = create_train_test(model_df)"
   ]
  },
  {
   "cell_type": "code",
   "execution_count": 24,
   "metadata": {},
   "outputs": [
    {
     "name": "stdout",
     "output_type": "stream",
     "text": [
      "% successful (train): 37.26%\n",
      "% successful (test): 37.20%\n"
     ]
    }
   ],
   "source": [
    "# check that we have rougly the same % of successful projects in train and test\n",
    "print('% successful (train): {:.2%}'.format(y_train.mean()))\n",
    "print('% successful (test): {:.2%}'.format(y_test.mean()))"
   ]
  },
  {
   "cell_type": "markdown",
   "metadata": {},
   "source": [
    "**Warning:** class imbalance. We're addressing it by using a tree-based algorithm and using ROC AUC as our classification metric."
   ]
  },
  {
   "cell_type": "markdown",
   "metadata": {},
   "source": [
    "### Training a RandomForest model"
   ]
  },
  {
   "cell_type": "code",
   "execution_count": 25,
   "metadata": {},
   "outputs": [],
   "source": [
    "# create a function that will fit, predict and score our model automatically\n",
    "def score_model(X_train, X_test, y_train, y_test):\n",
    "    \n",
    "    # instantiate \n",
    "    rfc = RandomForestClassifier(min_samples_leaf=5, random_state=42)\n",
    "    \n",
    "    # fit \n",
    "    print('Fitting...')\n",
    "    rfc.fit(X_train, y_train)\n",
    "    \n",
    "    # predict\n",
    "    print('Predicting...')\n",
    "    y_pred = rfc.predict(X_test)\n",
    "    y_pred_train = rfc.predict(X_train)\n",
    "    \n",
    "    # scoring\n",
    "    print('Done.')\n",
    "    roc = roc_auc_score(y_test, y_pred)\n",
    "    roc_train = roc_auc_score(y_train, y_pred_train)\n",
    "\n",
    "    print('ROC AUC (test): {:.2%}'.format(roc))\n",
    "    print('ROC AUC (train): {:.2%}'.format(roc_train))\n",
    "    \n",
    "    #return roc, roc_train\n"
   ]
  },
  {
   "cell_type": "code",
   "execution_count": 26,
   "metadata": {},
   "outputs": [
    {
     "name": "stdout",
     "output_type": "stream",
     "text": [
      "Fitting...\n",
      "Predicting...\n",
      "Done.\n",
      "ROC AUC (test): 63.21%\n",
      "ROC AUC (train): 75.68%\n"
     ]
    }
   ],
   "source": [
    "# fit, predict and score our baseline model\n",
    "score_model(X_train, X_test, y_train, y_test)"
   ]
  },
  {
   "cell_type": "markdown",
   "metadata": {},
   "source": [
    "## 2. Alternative categorical encodings"
   ]
  },
  {
   "cell_type": "markdown",
   "metadata": {},
   "source": [
    "`LabelEncoder` was used for our basline model but there are many other categorical encoders that we could try: \n",
    "* `pd.get_dummies` = creates n new columns where n is the number of unique values (categories) in each feature. Can create very sparse matrices which increase the computational time\n",
    "* `CountEncoder` = useful to separate rare categories from those which are more common\n",
    "* `TargetEncoder` = encodes categorical variables based on what % of them appear associated with the target feature"
   ]
  },
  {
   "cell_type": "markdown",
   "metadata": {},
   "source": [
    "### get_dummies"
   ]
  },
  {
   "cell_type": "code",
   "execution_count": 27,
   "metadata": {},
   "outputs": [
    {
     "data": {
      "text/html": [
       "<div>\n",
       "<style scoped>\n",
       "    .dataframe tbody tr th:only-of-type {\n",
       "        vertical-align: middle;\n",
       "    }\n",
       "\n",
       "    .dataframe tbody tr th {\n",
       "        vertical-align: top;\n",
       "    }\n",
       "\n",
       "    .dataframe thead th {\n",
       "        text-align: right;\n",
       "    }\n",
       "</style>\n",
       "<table border=\"1\" class=\"dataframe\">\n",
       "  <thead>\n",
       "    <tr style=\"text-align: right;\">\n",
       "      <th></th>\n",
       "      <th>category_3D Printing</th>\n",
       "      <th>category_Academic</th>\n",
       "      <th>category_Accessories</th>\n",
       "      <th>category_Action</th>\n",
       "      <th>category_Animals</th>\n",
       "      <th>category_Animation</th>\n",
       "      <th>category_Anthologies</th>\n",
       "      <th>category_Apparel</th>\n",
       "      <th>category_Apps</th>\n",
       "      <th>category_Architecture</th>\n",
       "      <th>...</th>\n",
       "      <th>main_category_Food</th>\n",
       "      <th>main_category_Games</th>\n",
       "      <th>main_category_Journalism</th>\n",
       "      <th>main_category_Music</th>\n",
       "      <th>main_category_Photography</th>\n",
       "      <th>main_category_Publishing</th>\n",
       "      <th>main_category_Technology</th>\n",
       "      <th>main_category_Theater</th>\n",
       "      <th>country_N,0\"</th>\n",
       "      <th>country_US</th>\n",
       "    </tr>\n",
       "  </thead>\n",
       "  <tbody>\n",
       "    <tr>\n",
       "      <th>1</th>\n",
       "      <td>0</td>\n",
       "      <td>0</td>\n",
       "      <td>0</td>\n",
       "      <td>0</td>\n",
       "      <td>0</td>\n",
       "      <td>0</td>\n",
       "      <td>0</td>\n",
       "      <td>0</td>\n",
       "      <td>0</td>\n",
       "      <td>0</td>\n",
       "      <td>...</td>\n",
       "      <td>0</td>\n",
       "      <td>0</td>\n",
       "      <td>0</td>\n",
       "      <td>0</td>\n",
       "      <td>0</td>\n",
       "      <td>0</td>\n",
       "      <td>0</td>\n",
       "      <td>0</td>\n",
       "      <td>0</td>\n",
       "      <td>1</td>\n",
       "    </tr>\n",
       "    <tr>\n",
       "      <th>2</th>\n",
       "      <td>0</td>\n",
       "      <td>0</td>\n",
       "      <td>0</td>\n",
       "      <td>0</td>\n",
       "      <td>0</td>\n",
       "      <td>0</td>\n",
       "      <td>0</td>\n",
       "      <td>0</td>\n",
       "      <td>0</td>\n",
       "      <td>0</td>\n",
       "      <td>...</td>\n",
       "      <td>0</td>\n",
       "      <td>0</td>\n",
       "      <td>0</td>\n",
       "      <td>0</td>\n",
       "      <td>0</td>\n",
       "      <td>0</td>\n",
       "      <td>0</td>\n",
       "      <td>0</td>\n",
       "      <td>0</td>\n",
       "      <td>1</td>\n",
       "    </tr>\n",
       "    <tr>\n",
       "      <th>3</th>\n",
       "      <td>0</td>\n",
       "      <td>0</td>\n",
       "      <td>0</td>\n",
       "      <td>0</td>\n",
       "      <td>0</td>\n",
       "      <td>0</td>\n",
       "      <td>0</td>\n",
       "      <td>0</td>\n",
       "      <td>0</td>\n",
       "      <td>0</td>\n",
       "      <td>...</td>\n",
       "      <td>0</td>\n",
       "      <td>0</td>\n",
       "      <td>0</td>\n",
       "      <td>1</td>\n",
       "      <td>0</td>\n",
       "      <td>0</td>\n",
       "      <td>0</td>\n",
       "      <td>0</td>\n",
       "      <td>0</td>\n",
       "      <td>1</td>\n",
       "    </tr>\n",
       "    <tr>\n",
       "      <th>4</th>\n",
       "      <td>0</td>\n",
       "      <td>0</td>\n",
       "      <td>0</td>\n",
       "      <td>0</td>\n",
       "      <td>0</td>\n",
       "      <td>0</td>\n",
       "      <td>0</td>\n",
       "      <td>0</td>\n",
       "      <td>0</td>\n",
       "      <td>0</td>\n",
       "      <td>...</td>\n",
       "      <td>0</td>\n",
       "      <td>0</td>\n",
       "      <td>0</td>\n",
       "      <td>0</td>\n",
       "      <td>0</td>\n",
       "      <td>0</td>\n",
       "      <td>0</td>\n",
       "      <td>0</td>\n",
       "      <td>0</td>\n",
       "      <td>1</td>\n",
       "    </tr>\n",
       "    <tr>\n",
       "      <th>5</th>\n",
       "      <td>0</td>\n",
       "      <td>0</td>\n",
       "      <td>0</td>\n",
       "      <td>0</td>\n",
       "      <td>0</td>\n",
       "      <td>0</td>\n",
       "      <td>0</td>\n",
       "      <td>0</td>\n",
       "      <td>0</td>\n",
       "      <td>0</td>\n",
       "      <td>...</td>\n",
       "      <td>1</td>\n",
       "      <td>0</td>\n",
       "      <td>0</td>\n",
       "      <td>0</td>\n",
       "      <td>0</td>\n",
       "      <td>0</td>\n",
       "      <td>0</td>\n",
       "      <td>0</td>\n",
       "      <td>0</td>\n",
       "      <td>1</td>\n",
       "    </tr>\n",
       "  </tbody>\n",
       "</table>\n",
       "<p>5 rows × 176 columns</p>\n",
       "</div>"
      ],
      "text/plain": [
       "   category_3D Printing  category_Academic  category_Accessories  \\\n",
       "1                     0                  0                     0   \n",
       "2                     0                  0                     0   \n",
       "3                     0                  0                     0   \n",
       "4                     0                  0                     0   \n",
       "5                     0                  0                     0   \n",
       "\n",
       "   category_Action  category_Animals  category_Animation  \\\n",
       "1                0                 0                   0   \n",
       "2                0                 0                   0   \n",
       "3                0                 0                   0   \n",
       "4                0                 0                   0   \n",
       "5                0                 0                   0   \n",
       "\n",
       "   category_Anthologies  category_Apparel  category_Apps  \\\n",
       "1                     0                 0              0   \n",
       "2                     0                 0              0   \n",
       "3                     0                 0              0   \n",
       "4                     0                 0              0   \n",
       "5                     0                 0              0   \n",
       "\n",
       "   category_Architecture  ...  main_category_Food  main_category_Games  \\\n",
       "1                      0  ...                   0                    0   \n",
       "2                      0  ...                   0                    0   \n",
       "3                      0  ...                   0                    0   \n",
       "4                      0  ...                   0                    0   \n",
       "5                      0  ...                   1                    0   \n",
       "\n",
       "   main_category_Journalism  main_category_Music  main_category_Photography  \\\n",
       "1                         0                    0                          0   \n",
       "2                         0                    0                          0   \n",
       "3                         0                    1                          0   \n",
       "4                         0                    0                          0   \n",
       "5                         0                    0                          0   \n",
       "\n",
       "   main_category_Publishing  main_category_Technology  main_category_Theater  \\\n",
       "1                         0                         0                      0   \n",
       "2                         0                         0                      0   \n",
       "3                         0                         0                      0   \n",
       "4                         0                         0                      0   \n",
       "5                         0                         0                      0   \n",
       "\n",
       "   country_N,0\"  country_US  \n",
       "1             0           1  \n",
       "2             0           1  \n",
       "3             0           1  \n",
       "4             0           1  \n",
       "5             0           1  \n",
       "\n",
       "[5 rows x 176 columns]"
      ]
     },
     "execution_count": 27,
     "metadata": {},
     "output_type": "execute_result"
    }
   ],
   "source": [
    "# encode categorical variables using get_dummies\n",
    "encoded_dummies = pd.get_dummies(kickstarter[categorical_cols])\n",
    "\n",
    "# inspect\n",
    "encoded_dummies.head()"
   ]
  },
  {
   "cell_type": "code",
   "execution_count": 28,
   "metadata": {},
   "outputs": [],
   "source": [
    "# construct our dataset\n",
    "model_df = kickstarter[['is_successful']].join(launched_ymd).join(encoded_dummies).join(goal_log)"
   ]
  },
  {
   "cell_type": "code",
   "execution_count": 29,
   "metadata": {},
   "outputs": [],
   "source": [
    "# split into test, train\n",
    "X, y, X_train, X_test, y_train, y_test = create_train_test(model_df)"
   ]
  },
  {
   "cell_type": "code",
   "execution_count": 30,
   "metadata": {},
   "outputs": [
    {
     "name": "stdout",
     "output_type": "stream",
     "text": [
      "Fitting...\n",
      "Predicting...\n",
      "Done.\n",
      "ROC AUC (test): 63.37%\n",
      "ROC AUC (train): 71.63%\n"
     ]
    }
   ],
   "source": [
    "# fit and score our rfc\n",
    "score_model(X_train, X_test, y_train, y_test)"
   ]
  },
  {
   "cell_type": "markdown",
   "metadata": {},
   "source": [
    "Our latest model performed `0.16` points **better** than baseline. "
   ]
  },
  {
   "cell_type": "markdown",
   "metadata": {},
   "source": [
    "### CountEncoder"
   ]
  },
  {
   "cell_type": "code",
   "execution_count": 31,
   "metadata": {},
   "outputs": [
    {
     "data": {
      "text/html": [
       "<div>\n",
       "<style scoped>\n",
       "    .dataframe tbody tr th:only-of-type {\n",
       "        vertical-align: middle;\n",
       "    }\n",
       "\n",
       "    .dataframe tbody tr th {\n",
       "        vertical-align: top;\n",
       "    }\n",
       "\n",
       "    .dataframe thead th {\n",
       "        text-align: right;\n",
       "    }\n",
       "</style>\n",
       "<table border=\"1\" class=\"dataframe\">\n",
       "  <thead>\n",
       "    <tr style=\"text-align: right;\">\n",
       "      <th></th>\n",
       "      <th>category</th>\n",
       "      <th>main_category</th>\n",
       "      <th>country</th>\n",
       "    </tr>\n",
       "  </thead>\n",
       "  <tbody>\n",
       "    <tr>\n",
       "      <th>1</th>\n",
       "      <td>4761</td>\n",
       "      <td>52343</td>\n",
       "      <td>290887</td>\n",
       "    </tr>\n",
       "    <tr>\n",
       "      <th>2</th>\n",
       "      <td>4761</td>\n",
       "      <td>52343</td>\n",
       "      <td>290887</td>\n",
       "    </tr>\n",
       "    <tr>\n",
       "      <th>3</th>\n",
       "      <td>13305</td>\n",
       "      <td>44810</td>\n",
       "      <td>290887</td>\n",
       "    </tr>\n",
       "    <tr>\n",
       "      <th>4</th>\n",
       "      <td>8511</td>\n",
       "      <td>52343</td>\n",
       "      <td>290887</td>\n",
       "    </tr>\n",
       "    <tr>\n",
       "      <th>5</th>\n",
       "      <td>2147</td>\n",
       "      <td>19812</td>\n",
       "      <td>290887</td>\n",
       "    </tr>\n",
       "  </tbody>\n",
       "</table>\n",
       "</div>"
      ],
      "text/plain": [
       "   category  main_category  country\n",
       "1      4761          52343   290887\n",
       "2      4761          52343   290887\n",
       "3     13305          44810   290887\n",
       "4      8511          52343   290887\n",
       "5      2147          19812   290887"
      ]
     },
     "execution_count": 31,
     "metadata": {},
     "output_type": "execute_result"
    }
   ],
   "source": [
    "# instantiate \n",
    "ce = CountEncoder(cols=categorical_cols)\n",
    "\n",
    "# fit \n",
    "encoded_ce = ce.fit_transform(kickstarter[categorical_cols])\n",
    "\n",
    "# inspect\n",
    "encoded_ce.head()"
   ]
  },
  {
   "cell_type": "code",
   "execution_count": 32,
   "metadata": {},
   "outputs": [],
   "source": [
    "# construct our dataset\n",
    "model_df = kickstarter[['is_successful']].join(launched_ymd).join(encoded_ce).join(goal_log)"
   ]
  },
  {
   "cell_type": "code",
   "execution_count": 33,
   "metadata": {},
   "outputs": [],
   "source": [
    "# split into train, test\n",
    "X, y, X_train, X_test, y_train, y_test = create_train_test(model_df)"
   ]
  },
  {
   "cell_type": "code",
   "execution_count": 34,
   "metadata": {},
   "outputs": [
    {
     "name": "stdout",
     "output_type": "stream",
     "text": [
      "Fitting...\n",
      "Predicting...\n",
      "Done.\n",
      "ROC AUC (test): 63.27%\n",
      "ROC AUC (train): 76.27%\n"
     ]
    }
   ],
   "source": [
    "# fit and score our rfc\n",
    "score_model(X_train, X_test, y_train, y_test)"
   ]
  },
  {
   "cell_type": "markdown",
   "metadata": {},
   "source": [
    "Our latest model with `CountEncoder` performed `0.06` percentage points **better** than baseline."
   ]
  },
  {
   "cell_type": "markdown",
   "metadata": {},
   "source": [
    "### TargetEncoder"
   ]
  },
  {
   "cell_type": "markdown",
   "metadata": {},
   "source": [
    "`TargetEncoder` needs to be fitted only on the training part of the dataset to avoid data leakage into the testing dataset."
   ]
  },
  {
   "cell_type": "code",
   "execution_count": 35,
   "metadata": {},
   "outputs": [],
   "source": [
    "# construct our dataset\n",
    "model_df = kickstarter[['is_successful']].join(launched_ymd).join(kickstarter[categorical_cols]).join(goal_log)"
   ]
  },
  {
   "cell_type": "code",
   "execution_count": 36,
   "metadata": {},
   "outputs": [],
   "source": [
    "# split into test, train\n",
    "X, y, X_train, X_test, y_train, y_test = create_train_test(model_df)"
   ]
  },
  {
   "cell_type": "code",
   "execution_count": 37,
   "metadata": {},
   "outputs": [],
   "source": [
    "# instantiate te\n",
    "te = TargetEncoder(cols=categorical_cols)\n",
    "\n",
    "# fit on just the training dataset\n",
    "te.fit(X_train[categorical_cols], y=y_train)\n",
    "\n",
    "# now, transform categorical variables in both train and test datasets\n",
    "encoded_te_train = te.transform(X_train[categorical_cols])\n",
    "encoded_te_test = te.transform(X_test[categorical_cols])"
   ]
  },
  {
   "cell_type": "code",
   "execution_count": 38,
   "metadata": {},
   "outputs": [],
   "source": [
    "# drop the original categorical variables from train and test\n",
    "X_train = X_train.drop(categorical_cols, axis=1)\n",
    "X_test = X_test.drop(categorical_cols, axis=1)"
   ]
  },
  {
   "cell_type": "code",
   "execution_count": 39,
   "metadata": {},
   "outputs": [
    {
     "data": {
      "text/html": [
       "<div>\n",
       "<style scoped>\n",
       "    .dataframe tbody tr th:only-of-type {\n",
       "        vertical-align: middle;\n",
       "    }\n",
       "\n",
       "    .dataframe tbody tr th {\n",
       "        vertical-align: top;\n",
       "    }\n",
       "\n",
       "    .dataframe thead th {\n",
       "        text-align: right;\n",
       "    }\n",
       "</style>\n",
       "<table border=\"1\" class=\"dataframe\">\n",
       "  <thead>\n",
       "    <tr style=\"text-align: right;\">\n",
       "      <th></th>\n",
       "      <th>year</th>\n",
       "      <th>month</th>\n",
       "      <th>day</th>\n",
       "      <th>goal</th>\n",
       "      <th>category_te</th>\n",
       "      <th>main_category_te</th>\n",
       "      <th>country_te</th>\n",
       "    </tr>\n",
       "  </thead>\n",
       "  <tbody>\n",
       "    <tr>\n",
       "      <th>180788</th>\n",
       "      <td>2015</td>\n",
       "      <td>4</td>\n",
       "      <td>10</td>\n",
       "      <td>7.824046</td>\n",
       "      <td>0.433696</td>\n",
       "      <td>0.485114</td>\n",
       "      <td>0.027853</td>\n",
       "    </tr>\n",
       "    <tr>\n",
       "      <th>149390</th>\n",
       "      <td>2014</td>\n",
       "      <td>10</td>\n",
       "      <td>25</td>\n",
       "      <td>8.922658</td>\n",
       "      <td>0.381818</td>\n",
       "      <td>0.377948</td>\n",
       "      <td>0.375944</td>\n",
       "    </tr>\n",
       "    <tr>\n",
       "      <th>75367</th>\n",
       "      <td>2014</td>\n",
       "      <td>3</td>\n",
       "      <td>19</td>\n",
       "      <td>6.363028</td>\n",
       "      <td>0.311459</td>\n",
       "      <td>0.377948</td>\n",
       "      <td>0.375944</td>\n",
       "    </tr>\n",
       "    <tr>\n",
       "      <th>83109</th>\n",
       "      <td>2014</td>\n",
       "      <td>12</td>\n",
       "      <td>5</td>\n",
       "      <td>10.532123</td>\n",
       "      <td>0.433696</td>\n",
       "      <td>0.485114</td>\n",
       "      <td>0.375944</td>\n",
       "    </tr>\n",
       "    <tr>\n",
       "      <th>169314</th>\n",
       "      <td>2013</td>\n",
       "      <td>6</td>\n",
       "      <td>14</td>\n",
       "      <td>8.699515</td>\n",
       "      <td>0.693817</td>\n",
       "      <td>0.658039</td>\n",
       "      <td>0.375944</td>\n",
       "    </tr>\n",
       "  </tbody>\n",
       "</table>\n",
       "</div>"
      ],
      "text/plain": [
       "        year  month  day       goal  category_te  main_category_te  country_te\n",
       "180788  2015      4   10   7.824046     0.433696          0.485114    0.027853\n",
       "149390  2014     10   25   8.922658     0.381818          0.377948    0.375944\n",
       "75367   2014      3   19   6.363028     0.311459          0.377948    0.375944\n",
       "83109   2014     12    5  10.532123     0.433696          0.485114    0.375944\n",
       "169314  2013      6   14   8.699515     0.693817          0.658039    0.375944"
      ]
     },
     "execution_count": 39,
     "metadata": {},
     "output_type": "execute_result"
    }
   ],
   "source": [
    "# append TargetEncoder encoded categorical variables into train and test\n",
    "X_train = X_train.join(encoded_te_train.add_suffix('_te'))\n",
    "X_test = X_test.join(encoded_te_test.add_suffix('_te'))\n",
    "\n",
    "# inspect train\n",
    "X_train.head()"
   ]
  },
  {
   "cell_type": "code",
   "execution_count": 40,
   "metadata": {},
   "outputs": [
    {
     "name": "stdout",
     "output_type": "stream",
     "text": [
      "Fitting...\n",
      "Predicting...\n",
      "Done.\n",
      "ROC AUC (test): 63.73%\n",
      "ROC AUC (train): 75.82%\n"
     ]
    }
   ],
   "source": [
    "# fit and score our rfc\n",
    "score_model(X_train, X_test, y_train, y_test)"
   ]
  },
  {
   "cell_type": "markdown",
   "metadata": {},
   "source": [
    "Our latest model with `TargetEncoder` performed `0.52` percentage points **better** than baseline."
   ]
  },
  {
   "cell_type": "markdown",
   "metadata": {},
   "source": [
    "## 3. Feature generation"
   ]
  },
  {
   "cell_type": "markdown",
   "metadata": {},
   "source": [
    "### Interactions"
   ]
  },
  {
   "cell_type": "markdown",
   "metadata": {},
   "source": [
    "One of the easiest ways to generate features is to combine existing features with tools such as `intertools.combinations`."
   ]
  },
  {
   "cell_type": "code",
   "execution_count": 41,
   "metadata": {},
   "outputs": [
    {
     "data": {
      "text/html": [
       "<div>\n",
       "<style scoped>\n",
       "    .dataframe tbody tr th:only-of-type {\n",
       "        vertical-align: middle;\n",
       "    }\n",
       "\n",
       "    .dataframe tbody tr th {\n",
       "        vertical-align: top;\n",
       "    }\n",
       "\n",
       "    .dataframe thead th {\n",
       "        text-align: right;\n",
       "    }\n",
       "</style>\n",
       "<table border=\"1\" class=\"dataframe\">\n",
       "  <thead>\n",
       "    <tr style=\"text-align: right;\">\n",
       "      <th></th>\n",
       "      <th>ID</th>\n",
       "      <th>name</th>\n",
       "      <th>category</th>\n",
       "      <th>main_category</th>\n",
       "      <th>currency</th>\n",
       "      <th>deadline</th>\n",
       "      <th>goal</th>\n",
       "      <th>launched</th>\n",
       "      <th>pledged</th>\n",
       "      <th>state</th>\n",
       "      <th>backers</th>\n",
       "      <th>country</th>\n",
       "      <th>usd pledged</th>\n",
       "      <th>usd_pledged_real</th>\n",
       "      <th>usd_goal_real</th>\n",
       "      <th>is_successful</th>\n",
       "    </tr>\n",
       "  </thead>\n",
       "  <tbody>\n",
       "    <tr>\n",
       "      <th>1</th>\n",
       "      <td>1000003930</td>\n",
       "      <td>Greeting From Earth: ZGAC Arts Capsule For ET</td>\n",
       "      <td>Narrative Film</td>\n",
       "      <td>Film &amp; Video</td>\n",
       "      <td>USD</td>\n",
       "      <td>2017-11-01</td>\n",
       "      <td>30000.0</td>\n",
       "      <td>2017-09-02 04:43:57</td>\n",
       "      <td>2421.0</td>\n",
       "      <td>failed</td>\n",
       "      <td>15</td>\n",
       "      <td>US</td>\n",
       "      <td>100.0</td>\n",
       "      <td>2421.0</td>\n",
       "      <td>30000.0</td>\n",
       "      <td>0</td>\n",
       "    </tr>\n",
       "    <tr>\n",
       "      <th>2</th>\n",
       "      <td>1000004038</td>\n",
       "      <td>Where is Hank?</td>\n",
       "      <td>Narrative Film</td>\n",
       "      <td>Film &amp; Video</td>\n",
       "      <td>USD</td>\n",
       "      <td>2013-02-26</td>\n",
       "      <td>45000.0</td>\n",
       "      <td>2013-01-12 00:20:50</td>\n",
       "      <td>220.0</td>\n",
       "      <td>failed</td>\n",
       "      <td>3</td>\n",
       "      <td>US</td>\n",
       "      <td>220.0</td>\n",
       "      <td>220.0</td>\n",
       "      <td>45000.0</td>\n",
       "      <td>0</td>\n",
       "    </tr>\n",
       "    <tr>\n",
       "      <th>3</th>\n",
       "      <td>1000007540</td>\n",
       "      <td>ToshiCapital Rekordz Needs Help to Complete Album</td>\n",
       "      <td>Music</td>\n",
       "      <td>Music</td>\n",
       "      <td>USD</td>\n",
       "      <td>2012-04-16</td>\n",
       "      <td>5000.0</td>\n",
       "      <td>2012-03-17 03:24:11</td>\n",
       "      <td>1.0</td>\n",
       "      <td>failed</td>\n",
       "      <td>1</td>\n",
       "      <td>US</td>\n",
       "      <td>1.0</td>\n",
       "      <td>1.0</td>\n",
       "      <td>5000.0</td>\n",
       "      <td>0</td>\n",
       "    </tr>\n",
       "    <tr>\n",
       "      <th>4</th>\n",
       "      <td>1000011046</td>\n",
       "      <td>Community Film Project: The Art of Neighborhoo...</td>\n",
       "      <td>Film &amp; Video</td>\n",
       "      <td>Film &amp; Video</td>\n",
       "      <td>USD</td>\n",
       "      <td>2015-08-29</td>\n",
       "      <td>19500.0</td>\n",
       "      <td>2015-07-04 08:35:03</td>\n",
       "      <td>1283.0</td>\n",
       "      <td>canceled</td>\n",
       "      <td>14</td>\n",
       "      <td>US</td>\n",
       "      <td>1283.0</td>\n",
       "      <td>1283.0</td>\n",
       "      <td>19500.0</td>\n",
       "      <td>0</td>\n",
       "    </tr>\n",
       "    <tr>\n",
       "      <th>5</th>\n",
       "      <td>1000014025</td>\n",
       "      <td>Monarch Espresso Bar</td>\n",
       "      <td>Restaurants</td>\n",
       "      <td>Food</td>\n",
       "      <td>USD</td>\n",
       "      <td>2016-04-01</td>\n",
       "      <td>50000.0</td>\n",
       "      <td>2016-02-26 13:38:27</td>\n",
       "      <td>52375.0</td>\n",
       "      <td>successful</td>\n",
       "      <td>224</td>\n",
       "      <td>US</td>\n",
       "      <td>52375.0</td>\n",
       "      <td>52375.0</td>\n",
       "      <td>50000.0</td>\n",
       "      <td>1</td>\n",
       "    </tr>\n",
       "  </tbody>\n",
       "</table>\n",
       "</div>"
      ],
      "text/plain": [
       "           ID                                               name  \\\n",
       "1  1000003930      Greeting From Earth: ZGAC Arts Capsule For ET   \n",
       "2  1000004038                                     Where is Hank?   \n",
       "3  1000007540  ToshiCapital Rekordz Needs Help to Complete Album   \n",
       "4  1000011046  Community Film Project: The Art of Neighborhoo...   \n",
       "5  1000014025                               Monarch Espresso Bar   \n",
       "\n",
       "         category main_category currency   deadline     goal  \\\n",
       "1  Narrative Film  Film & Video      USD 2017-11-01  30000.0   \n",
       "2  Narrative Film  Film & Video      USD 2013-02-26  45000.0   \n",
       "3           Music         Music      USD 2012-04-16   5000.0   \n",
       "4    Film & Video  Film & Video      USD 2015-08-29  19500.0   \n",
       "5     Restaurants          Food      USD 2016-04-01  50000.0   \n",
       "\n",
       "             launched  pledged       state  backers country  usd pledged  \\\n",
       "1 2017-09-02 04:43:57   2421.0      failed       15      US        100.0   \n",
       "2 2013-01-12 00:20:50    220.0      failed        3      US        220.0   \n",
       "3 2012-03-17 03:24:11      1.0      failed        1      US          1.0   \n",
       "4 2015-07-04 08:35:03   1283.0    canceled       14      US       1283.0   \n",
       "5 2016-02-26 13:38:27  52375.0  successful      224      US      52375.0   \n",
       "\n",
       "   usd_pledged_real  usd_goal_real  is_successful  \n",
       "1            2421.0        30000.0              0  \n",
       "2             220.0        45000.0              0  \n",
       "3               1.0         5000.0              0  \n",
       "4            1283.0        19500.0              0  \n",
       "5           52375.0        50000.0              1  "
      ]
     },
     "execution_count": 41,
     "metadata": {},
     "output_type": "execute_result"
    }
   ],
   "source": [
    "# inspect our dataset\n",
    "kickstarter.head()"
   ]
  },
  {
   "cell_type": "code",
   "execution_count": 42,
   "metadata": {},
   "outputs": [
    {
     "data": {
      "text/plain": [
       "['category', 'main_category', 'country']"
      ]
     },
     "execution_count": 42,
     "metadata": {},
     "output_type": "execute_result"
    }
   ],
   "source": [
    "# show categorical cols\n",
    "categorical_cols"
   ]
  },
  {
   "cell_type": "code",
   "execution_count": 43,
   "metadata": {
    "scrolled": true
   },
   "outputs": [
    {
     "data": {
      "text/html": [
       "<div>\n",
       "<style scoped>\n",
       "    .dataframe tbody tr th:only-of-type {\n",
       "        vertical-align: middle;\n",
       "    }\n",
       "\n",
       "    .dataframe tbody tr th {\n",
       "        vertical-align: top;\n",
       "    }\n",
       "\n",
       "    .dataframe thead th {\n",
       "        text-align: right;\n",
       "    }\n",
       "</style>\n",
       "<table border=\"1\" class=\"dataframe\">\n",
       "  <thead>\n",
       "    <tr style=\"text-align: right;\">\n",
       "      <th></th>\n",
       "      <th>category__main_category</th>\n",
       "      <th>category__country</th>\n",
       "      <th>main_category__country</th>\n",
       "    </tr>\n",
       "  </thead>\n",
       "  <tbody>\n",
       "    <tr>\n",
       "      <th>1</th>\n",
       "      <td>Narrative Film__Film &amp; Video</td>\n",
       "      <td>Narrative Film__US</td>\n",
       "      <td>Film &amp; Video__US</td>\n",
       "    </tr>\n",
       "    <tr>\n",
       "      <th>2</th>\n",
       "      <td>Narrative Film__Film &amp; Video</td>\n",
       "      <td>Narrative Film__US</td>\n",
       "      <td>Film &amp; Video__US</td>\n",
       "    </tr>\n",
       "    <tr>\n",
       "      <th>3</th>\n",
       "      <td>Music__Music</td>\n",
       "      <td>Music__US</td>\n",
       "      <td>Music__US</td>\n",
       "    </tr>\n",
       "    <tr>\n",
       "      <th>4</th>\n",
       "      <td>Film &amp; Video__Film &amp; Video</td>\n",
       "      <td>Film &amp; Video__US</td>\n",
       "      <td>Film &amp; Video__US</td>\n",
       "    </tr>\n",
       "    <tr>\n",
       "      <th>5</th>\n",
       "      <td>Restaurants__Food</td>\n",
       "      <td>Restaurants__US</td>\n",
       "      <td>Food__US</td>\n",
       "    </tr>\n",
       "  </tbody>\n",
       "</table>\n",
       "</div>"
      ],
      "text/plain": [
       "        category__main_category   category__country main_category__country\n",
       "1  Narrative Film__Film & Video  Narrative Film__US       Film & Video__US\n",
       "2  Narrative Film__Film & Video  Narrative Film__US       Film & Video__US\n",
       "3                  Music__Music           Music__US              Music__US\n",
       "4    Film & Video__Film & Video    Film & Video__US       Film & Video__US\n",
       "5             Restaurants__Food     Restaurants__US               Food__US"
      ]
     },
     "execution_count": 43,
     "metadata": {},
     "output_type": "execute_result"
    }
   ],
   "source": [
    "# create an empty DataFrame for the output from itertools\n",
    "interactions = pd.DataFrame(index=kickstarter.index)\n",
    "\n",
    "# loop through all combination pairs generated by itertools\n",
    "for col1, col2 in itertools.combinations(categorical_cols, 2):\n",
    "    \n",
    "    # create a name of the new feature \n",
    "    # col_name = str(col1) + '__' +str(col2) # approach 1\n",
    "    col_name = '__'.join([col1,col2]) # approach 2\n",
    "    \n",
    "    # combine feature values \n",
    "    col_values = kickstarter[col1].astype(str) + '__' + kickstarter[col2].astype(str) # approach 1 (faster)\n",
    "    # col_values = kickstarter[[col1,col2]].astype(str).agg('__'.join, axis=1) # approach 2 (slow)\n",
    "    \n",
    "    # save into our interactions DataFrame\n",
    "    interactions[col_name] = col_values\n",
    "\n",
    "# inspect\n",
    "interactions.head()"
   ]
  },
  {
   "cell_type": "code",
   "execution_count": 44,
   "metadata": {},
   "outputs": [
    {
     "data": {
      "text/html": [
       "<div>\n",
       "<style scoped>\n",
       "    .dataframe tbody tr th:only-of-type {\n",
       "        vertical-align: middle;\n",
       "    }\n",
       "\n",
       "    .dataframe tbody tr th {\n",
       "        vertical-align: top;\n",
       "    }\n",
       "\n",
       "    .dataframe thead th {\n",
       "        text-align: right;\n",
       "    }\n",
       "</style>\n",
       "<table border=\"1\" class=\"dataframe\">\n",
       "  <thead>\n",
       "    <tr style=\"text-align: right;\">\n",
       "      <th></th>\n",
       "      <th>category__main_category</th>\n",
       "      <th>category__country</th>\n",
       "      <th>main_category__country</th>\n",
       "    </tr>\n",
       "  </thead>\n",
       "  <tbody>\n",
       "    <tr>\n",
       "      <th>1</th>\n",
       "      <td>101</td>\n",
       "      <td>104</td>\n",
       "      <td>10</td>\n",
       "    </tr>\n",
       "    <tr>\n",
       "      <th>2</th>\n",
       "      <td>101</td>\n",
       "      <td>104</td>\n",
       "      <td>10</td>\n",
       "    </tr>\n",
       "    <tr>\n",
       "      <th>3</th>\n",
       "      <td>99</td>\n",
       "      <td>101</td>\n",
       "      <td>16</td>\n",
       "    </tr>\n",
       "    <tr>\n",
       "      <th>4</th>\n",
       "      <td>62</td>\n",
       "      <td>60</td>\n",
       "      <td>10</td>\n",
       "    </tr>\n",
       "    <tr>\n",
       "      <th>5</th>\n",
       "      <td>131</td>\n",
       "      <td>137</td>\n",
       "      <td>11</td>\n",
       "    </tr>\n",
       "  </tbody>\n",
       "</table>\n",
       "</div>"
      ],
      "text/plain": [
       "   category__main_category  category__country  main_category__country\n",
       "1                      101                104                      10\n",
       "2                      101                104                      10\n",
       "3                       99                101                      16\n",
       "4                       62                 60                      10\n",
       "5                      131                137                      11"
      ]
     },
     "execution_count": 44,
     "metadata": {},
     "output_type": "execute_result"
    }
   ],
   "source": [
    "# encode categorical with LabelEncoder\n",
    "le = LabelEncoder()\n",
    "\n",
    "# fit & transform\n",
    "encoded_interactions = interactions.apply(le.fit_transform)\n",
    "\n",
    "# inspect\n",
    "encoded_interactions.head()"
   ]
  },
  {
   "cell_type": "code",
   "execution_count": 45,
   "metadata": {},
   "outputs": [],
   "source": [
    "# create a dataset for our model\n",
    "model_df = kickstarter[['is_successful']].join(launched_ymd).join(encoded_interactions).join(goal_log).join(encoded_le)"
   ]
  },
  {
   "cell_type": "code",
   "execution_count": 46,
   "metadata": {},
   "outputs": [],
   "source": [
    "# split into train, test\n",
    "X, y, X_train, X_test, y_train, y_test = create_train_test(model_df)"
   ]
  },
  {
   "cell_type": "code",
   "execution_count": 47,
   "metadata": {},
   "outputs": [
    {
     "name": "stdout",
     "output_type": "stream",
     "text": [
      "Fitting...\n",
      "Predicting...\n",
      "Done.\n",
      "ROC AUC (test): 63.75%\n",
      "ROC AUC (train): 75.55%\n"
     ]
    }
   ],
   "source": [
    "# fit and score our rfc\n",
    "score_model(X_train, X_test, y_train, y_test)"
   ]
  },
  {
   "cell_type": "markdown",
   "metadata": {},
   "source": [
    "Our latest model with `3` new features created with `itertools.combinations` performed `0.54` percentage points **better** than baseline."
   ]
  },
  {
   "cell_type": "markdown",
   "metadata": {},
   "source": [
    "### Number of projects launched in the last 7 days"
   ]
  },
  {
   "cell_type": "code",
   "execution_count": 48,
   "metadata": {},
   "outputs": [
    {
     "data": {
      "text/plain": [
       "launched\n",
       "1970-01-01 01:00:00     94579\n",
       "1970-01-01 01:00:00    247913\n",
       "1970-01-01 01:00:00      2842\n",
       "1970-01-01 01:00:00     75397\n",
       "1970-01-01 01:00:00     48147\n",
       "1970-01-01 01:00:00    273779\n",
       "2009-04-21 21:02:48    169268\n",
       "2009-04-23 00:07:53    322000\n",
       "2009-04-24 21:52:03    138572\n",
       "2009-04-25 17:36:21    325391\n",
       "dtype: int64"
      ]
     },
     "execution_count": 48,
     "metadata": {},
     "output_type": "execute_result"
    }
   ],
   "source": [
    "# let's index all projects by their launched date, order from oldest to newest\n",
    "launched = pd.Series(kickstarter.index, index=kickstarter.launched).sort_index()\n",
    "launched[:10]"
   ]
  },
  {
   "cell_type": "code",
   "execution_count": 49,
   "metadata": {},
   "outputs": [
    {
     "data": {
      "text/plain": [
       "1      570.0\n",
       "2      661.0\n",
       "3      907.0\n",
       "4      981.0\n",
       "5      844.0\n",
       "6      739.0\n",
       "7      941.0\n",
       "8      828.0\n",
       "9     2374.0\n",
       "11     787.0\n",
       "Name: last_7d_cnt, dtype: float64"
      ]
     },
     "execution_count": 49,
     "metadata": {},
     "output_type": "execute_result"
    }
   ],
   "source": [
    "# calculate a rolling 7 day count of projects \n",
    "launched_r7d = launched.rolling('7D').count() -1\n",
    "\n",
    "# change the index from 'launched date' back to the oringal index \n",
    "launched_r7d.index = launched.values\n",
    "\n",
    "# reindex (reorder to match the original dataset)\n",
    "launched_r7d = launched_r7d.reindex(kickstarter.index)\n",
    "\n",
    "# give it a name \n",
    "launched_r7d.name = 'last_7d_cnt'\n",
    "\n",
    "# inspect\n",
    "launched_r7d[:10]"
   ]
  },
  {
   "cell_type": "markdown",
   "metadata": {},
   "source": [
    "### Time since the last project in the same category"
   ]
  },
  {
   "cell_type": "code",
   "execution_count": 50,
   "metadata": {},
   "outputs": [
    {
     "data": {
      "text/html": [
       "<div>\n",
       "<style scoped>\n",
       "    .dataframe tbody tr th:only-of-type {\n",
       "        vertical-align: middle;\n",
       "    }\n",
       "\n",
       "    .dataframe tbody tr th {\n",
       "        vertical-align: top;\n",
       "    }\n",
       "\n",
       "    .dataframe thead th {\n",
       "        text-align: right;\n",
       "    }\n",
       "</style>\n",
       "<table border=\"1\" class=\"dataframe\">\n",
       "  <thead>\n",
       "    <tr style=\"text-align: right;\">\n",
       "      <th></th>\n",
       "      <th>launched</th>\n",
       "      <th>category</th>\n",
       "    </tr>\n",
       "  </thead>\n",
       "  <tbody>\n",
       "    <tr>\n",
       "      <th>94579</th>\n",
       "      <td>1970-01-01 01:00:00</td>\n",
       "      <td>Theater</td>\n",
       "    </tr>\n",
       "    <tr>\n",
       "      <th>247913</th>\n",
       "      <td>1970-01-01 01:00:00</td>\n",
       "      <td>Music</td>\n",
       "    </tr>\n",
       "    <tr>\n",
       "      <th>2842</th>\n",
       "      <td>1970-01-01 01:00:00</td>\n",
       "      <td>Film &amp; Video</td>\n",
       "    </tr>\n",
       "    <tr>\n",
       "      <th>75397</th>\n",
       "      <td>1970-01-01 01:00:00</td>\n",
       "      <td>Film &amp; Video</td>\n",
       "    </tr>\n",
       "    <tr>\n",
       "      <th>48147</th>\n",
       "      <td>1970-01-01 01:00:00</td>\n",
       "      <td>Art</td>\n",
       "    </tr>\n",
       "  </tbody>\n",
       "</table>\n",
       "</div>"
      ],
      "text/plain": [
       "                  launched      category\n",
       "94579  1970-01-01 01:00:00       Theater\n",
       "247913 1970-01-01 01:00:00         Music\n",
       "2842   1970-01-01 01:00:00  Film & Video\n",
       "75397  1970-01-01 01:00:00  Film & Video\n",
       "48147  1970-01-01 01:00:00           Art"
      ]
     },
     "execution_count": 50,
     "metadata": {},
     "output_type": "execute_result"
    }
   ],
   "source": [
    "# grab the data and order it by launch date\n",
    "launched_cat = kickstarter[['launched','category']].sort_values('launched')\n",
    "launched_cat.head()"
   ]
  },
  {
   "cell_type": "code",
   "execution_count": 51,
   "metadata": {},
   "outputs": [],
   "source": [
    "# group by category \n",
    "grouped = launched_cat.groupby('category')\n",
    "\n",
    "# create a function that will be applied to the group object\n",
    "def calculate_td(series):\n",
    "    \"\"\" Calculate the difference in hours between the current project\n",
    "    and the previous project in same category.\"\"\"\n",
    "    return series.diff().dt.total_seconds() / 3600"
   ]
  },
  {
   "cell_type": "code",
   "execution_count": 52,
   "metadata": {},
   "outputs": [
    {
     "data": {
      "text/html": [
       "<div>\n",
       "<style scoped>\n",
       "    .dataframe tbody tr th:only-of-type {\n",
       "        vertical-align: middle;\n",
       "    }\n",
       "\n",
       "    .dataframe tbody tr th {\n",
       "        vertical-align: top;\n",
       "    }\n",
       "\n",
       "    .dataframe thead th {\n",
       "        text-align: right;\n",
       "    }\n",
       "</style>\n",
       "<table border=\"1\" class=\"dataframe\">\n",
       "  <thead>\n",
       "    <tr style=\"text-align: right;\">\n",
       "      <th></th>\n",
       "      <th>hrs_since_last_in_cat</th>\n",
       "    </tr>\n",
       "  </thead>\n",
       "  <tbody>\n",
       "    <tr>\n",
       "      <th>1</th>\n",
       "      <td>5.592778</td>\n",
       "    </tr>\n",
       "    <tr>\n",
       "      <th>2</th>\n",
       "      <td>1.313611</td>\n",
       "    </tr>\n",
       "    <tr>\n",
       "      <th>3</th>\n",
       "      <td>0.635000</td>\n",
       "    </tr>\n",
       "    <tr>\n",
       "      <th>4</th>\n",
       "      <td>26.083889</td>\n",
       "    </tr>\n",
       "    <tr>\n",
       "      <th>5</th>\n",
       "      <td>2.629722</td>\n",
       "    </tr>\n",
       "    <tr>\n",
       "      <th>...</th>\n",
       "      <td>...</td>\n",
       "    </tr>\n",
       "    <tr>\n",
       "      <th>378656</th>\n",
       "      <td>2.659167</td>\n",
       "    </tr>\n",
       "    <tr>\n",
       "      <th>378657</th>\n",
       "      <td>3.835833</td>\n",
       "    </tr>\n",
       "    <tr>\n",
       "      <th>378658</th>\n",
       "      <td>20.575278</td>\n",
       "    </tr>\n",
       "    <tr>\n",
       "      <th>378659</th>\n",
       "      <td>0.614444</td>\n",
       "    </tr>\n",
       "    <tr>\n",
       "      <th>378660</th>\n",
       "      <td>48.700000</td>\n",
       "    </tr>\n",
       "  </tbody>\n",
       "</table>\n",
       "<p>293624 rows × 1 columns</p>\n",
       "</div>"
      ],
      "text/plain": [
       "        hrs_since_last_in_cat\n",
       "1                    5.592778\n",
       "2                    1.313611\n",
       "3                    0.635000\n",
       "4                   26.083889\n",
       "5                    2.629722\n",
       "...                       ...\n",
       "378656               2.659167\n",
       "378657               3.835833\n",
       "378658              20.575278\n",
       "378659               0.614444\n",
       "378660              48.700000\n",
       "\n",
       "[293624 rows x 1 columns]"
      ]
     },
     "execution_count": 52,
     "metadata": {},
     "output_type": "execute_result"
    }
   ],
   "source": [
    "# calculate difference in hours between the current and previous project by category\n",
    "td_7days = grouped.transform(calculate_td)\n",
    "\n",
    "# where a project is the first one in its category to launch in the 7 day period, replace NaN with 0\n",
    "td_7days = td_7days.fillna(0).reindex(kickstarter.index)\n",
    "\n",
    "# give it a name \n",
    "td_7days.rename(columns={'launched':'hrs_since_last_in_cat'}, inplace=True)\n",
    "\n",
    "# inspect\n",
    "td_7days"
   ]
  },
  {
   "cell_type": "markdown",
   "metadata": {},
   "source": [
    "### Number of projects in the same category launched in the past 28 days"
   ]
  },
  {
   "cell_type": "code",
   "execution_count": 53,
   "metadata": {},
   "outputs": [
    {
     "data": {
      "text/html": [
       "<div>\n",
       "<style scoped>\n",
       "    .dataframe tbody tr th:only-of-type {\n",
       "        vertical-align: middle;\n",
       "    }\n",
       "\n",
       "    .dataframe tbody tr th {\n",
       "        vertical-align: top;\n",
       "    }\n",
       "\n",
       "    .dataframe thead th {\n",
       "        text-align: right;\n",
       "    }\n",
       "</style>\n",
       "<table border=\"1\" class=\"dataframe\">\n",
       "  <thead>\n",
       "    <tr style=\"text-align: right;\">\n",
       "      <th></th>\n",
       "      <th>index</th>\n",
       "      <th>category</th>\n",
       "    </tr>\n",
       "    <tr>\n",
       "      <th>launched</th>\n",
       "      <th></th>\n",
       "      <th></th>\n",
       "    </tr>\n",
       "  </thead>\n",
       "  <tbody>\n",
       "    <tr>\n",
       "      <th>1970-01-01 01:00:00</th>\n",
       "      <td>94579</td>\n",
       "      <td>Theater</td>\n",
       "    </tr>\n",
       "    <tr>\n",
       "      <th>1970-01-01 01:00:00</th>\n",
       "      <td>247913</td>\n",
       "      <td>Music</td>\n",
       "    </tr>\n",
       "    <tr>\n",
       "      <th>1970-01-01 01:00:00</th>\n",
       "      <td>2842</td>\n",
       "      <td>Film &amp; Video</td>\n",
       "    </tr>\n",
       "    <tr>\n",
       "      <th>1970-01-01 01:00:00</th>\n",
       "      <td>75397</td>\n",
       "      <td>Film &amp; Video</td>\n",
       "    </tr>\n",
       "    <tr>\n",
       "      <th>1970-01-01 01:00:00</th>\n",
       "      <td>48147</td>\n",
       "      <td>Art</td>\n",
       "    </tr>\n",
       "  </tbody>\n",
       "</table>\n",
       "</div>"
      ],
      "text/plain": [
       "                      index      category\n",
       "launched                                 \n",
       "1970-01-01 01:00:00   94579       Theater\n",
       "1970-01-01 01:00:00  247913         Music\n",
       "1970-01-01 01:00:00    2842  Film & Video\n",
       "1970-01-01 01:00:00   75397  Film & Video\n",
       "1970-01-01 01:00:00   48147           Art"
      ]
     },
     "execution_count": 53,
     "metadata": {},
     "output_type": "execute_result"
    }
   ],
   "source": [
    "# grab the data and set 'launched' as index because it's required for .rolling()\n",
    "launched_cat = kickstarter[['launched','category']].reset_index().set_index('launched').sort_index()\n",
    "launched_cat.head()"
   ]
  },
  {
   "cell_type": "code",
   "execution_count": 54,
   "metadata": {},
   "outputs": [],
   "source": [
    "# define function \n",
    "def calculate_rolling_n(series):\n",
    "    return series.rolling('28D').count() -1 "
   ]
  },
  {
   "cell_type": "code",
   "execution_count": 55,
   "metadata": {},
   "outputs": [
    {
     "data": {
      "text/html": [
       "<div>\n",
       "<style scoped>\n",
       "    .dataframe tbody tr th:only-of-type {\n",
       "        vertical-align: middle;\n",
       "    }\n",
       "\n",
       "    .dataframe tbody tr th {\n",
       "        vertical-align: top;\n",
       "    }\n",
       "\n",
       "    .dataframe thead th {\n",
       "        text-align: right;\n",
       "    }\n",
       "</style>\n",
       "<table border=\"1\" class=\"dataframe\">\n",
       "  <thead>\n",
       "    <tr style=\"text-align: right;\">\n",
       "      <th></th>\n",
       "      <th>last_28d_cnt_in_cat</th>\n",
       "    </tr>\n",
       "  </thead>\n",
       "  <tbody>\n",
       "    <tr>\n",
       "      <th>1</th>\n",
       "      <td>12.0</td>\n",
       "    </tr>\n",
       "    <tr>\n",
       "      <th>2</th>\n",
       "      <td>32.0</td>\n",
       "    </tr>\n",
       "    <tr>\n",
       "      <th>3</th>\n",
       "      <td>212.0</td>\n",
       "    </tr>\n",
       "    <tr>\n",
       "      <th>4</th>\n",
       "      <td>67.0</td>\n",
       "    </tr>\n",
       "    <tr>\n",
       "      <th>5</th>\n",
       "      <td>46.0</td>\n",
       "    </tr>\n",
       "    <tr>\n",
       "      <th>...</th>\n",
       "      <td>...</td>\n",
       "    </tr>\n",
       "    <tr>\n",
       "      <th>378656</th>\n",
       "      <td>164.0</td>\n",
       "    </tr>\n",
       "    <tr>\n",
       "      <th>378657</th>\n",
       "      <td>91.0</td>\n",
       "    </tr>\n",
       "    <tr>\n",
       "      <th>378658</th>\n",
       "      <td>36.0</td>\n",
       "    </tr>\n",
       "    <tr>\n",
       "      <th>378659</th>\n",
       "      <td>49.0</td>\n",
       "    </tr>\n",
       "    <tr>\n",
       "      <th>378660</th>\n",
       "      <td>32.0</td>\n",
       "    </tr>\n",
       "  </tbody>\n",
       "</table>\n",
       "<p>293624 rows × 1 columns</p>\n",
       "</div>"
      ],
      "text/plain": [
       "        last_28d_cnt_in_cat\n",
       "1                      12.0\n",
       "2                      32.0\n",
       "3                     212.0\n",
       "4                      67.0\n",
       "5                      46.0\n",
       "...                     ...\n",
       "378656                164.0\n",
       "378657                 91.0\n",
       "378658                 36.0\n",
       "378659                 49.0\n",
       "378660                 32.0\n",
       "\n",
       "[293624 rows x 1 columns]"
      ]
     },
     "execution_count": 55,
     "metadata": {},
     "output_type": "execute_result"
    }
   ],
   "source": [
    "# group by category\n",
    "grouped = launched_cat.groupby('category')\n",
    "\n",
    "# calculate how many projects launched in the same cat in the 28 days prior\n",
    "n_launched_28d = grouped.transform(calculate_rolling_n)\n",
    "\n",
    "# change index and reindex to match the original dataset\n",
    "n_launched_28d.index = launched_cat['index']\n",
    "n_launched_28d = n_launched_28d.reindex(kickstarter.index)\n",
    "\n",
    "# rename it \n",
    "n_launched_28d.rename(columns={'index':'last_28d_cnt_in_cat'}, inplace=True)\n",
    "\n",
    "# inspect\n",
    "n_launched_28d"
   ]
  },
  {
   "cell_type": "code",
   "execution_count": 56,
   "metadata": {},
   "outputs": [
    {
     "data": {
      "text/plain": [
       "category                  Music\n",
       "launched    2012-03-17 03:24:11\n",
       "Name: 3, dtype: object"
      ]
     },
     "execution_count": 56,
     "metadata": {},
     "output_type": "execute_result"
    }
   ],
   "source": [
    "# verify that when project 3 launched, 212 other projects in the same category\n",
    "# had already launched in the 28 days prior \n",
    "kickstarter.loc[3,['category','launched']]"
   ]
  },
  {
   "cell_type": "code",
   "execution_count": 57,
   "metadata": {},
   "outputs": [],
   "source": [
    "# create conditions to find all projects created in that period from the same cat as proj 3\n",
    "to_date = pd.Timestamp(2012,3,17,3,24,11)\n",
    "from_date = to_date - pd.Timedelta(days=28)\n",
    "\n",
    "f1 = kickstarter['category'] == 'Music'\n",
    "f2 = kickstarter['launched'] >= from_date\n",
    "f3 = kickstarter['launched'] < to_date "
   ]
  },
  {
   "cell_type": "code",
   "execution_count": 58,
   "metadata": {},
   "outputs": [
    {
     "data": {
      "text/plain": [
       "212"
      ]
     },
     "execution_count": 58,
     "metadata": {},
     "output_type": "execute_result"
    }
   ],
   "source": [
    "len(kickstarter[f1 & f2 & f3])"
   ]
  },
  {
   "cell_type": "code",
   "execution_count": 59,
   "metadata": {},
   "outputs": [
    {
     "data": {
      "text/html": [
       "<div>\n",
       "<style scoped>\n",
       "    .dataframe tbody tr th:only-of-type {\n",
       "        vertical-align: middle;\n",
       "    }\n",
       "\n",
       "    .dataframe tbody tr th {\n",
       "        vertical-align: top;\n",
       "    }\n",
       "\n",
       "    .dataframe thead th {\n",
       "        text-align: right;\n",
       "    }\n",
       "</style>\n",
       "<table border=\"1\" class=\"dataframe\">\n",
       "  <thead>\n",
       "    <tr style=\"text-align: right;\">\n",
       "      <th></th>\n",
       "      <th>is_successful</th>\n",
       "      <th>year</th>\n",
       "      <th>month</th>\n",
       "      <th>day</th>\n",
       "      <th>goal</th>\n",
       "      <th>category</th>\n",
       "      <th>main_category</th>\n",
       "      <th>country</th>\n",
       "      <th>last_7d_cnt</th>\n",
       "      <th>hrs_since_last_in_cat</th>\n",
       "      <th>last_28d_cnt_in_cat</th>\n",
       "    </tr>\n",
       "  </thead>\n",
       "  <tbody>\n",
       "    <tr>\n",
       "      <th>1</th>\n",
       "      <td>0</td>\n",
       "      <td>2017</td>\n",
       "      <td>9</td>\n",
       "      <td>2</td>\n",
       "      <td>10.308953</td>\n",
       "      <td>93</td>\n",
       "      <td>6</td>\n",
       "      <td>1</td>\n",
       "      <td>570.0</td>\n",
       "      <td>5.592778</td>\n",
       "      <td>12.0</td>\n",
       "    </tr>\n",
       "    <tr>\n",
       "      <th>2</th>\n",
       "      <td>0</td>\n",
       "      <td>2013</td>\n",
       "      <td>1</td>\n",
       "      <td>12</td>\n",
       "      <td>10.714418</td>\n",
       "      <td>93</td>\n",
       "      <td>6</td>\n",
       "      <td>1</td>\n",
       "      <td>661.0</td>\n",
       "      <td>1.313611</td>\n",
       "      <td>32.0</td>\n",
       "    </tr>\n",
       "    <tr>\n",
       "      <th>3</th>\n",
       "      <td>0</td>\n",
       "      <td>2012</td>\n",
       "      <td>3</td>\n",
       "      <td>17</td>\n",
       "      <td>8.517193</td>\n",
       "      <td>90</td>\n",
       "      <td>10</td>\n",
       "      <td>1</td>\n",
       "      <td>907.0</td>\n",
       "      <td>0.635000</td>\n",
       "      <td>212.0</td>\n",
       "    </tr>\n",
       "    <tr>\n",
       "      <th>4</th>\n",
       "      <td>0</td>\n",
       "      <td>2015</td>\n",
       "      <td>7</td>\n",
       "      <td>4</td>\n",
       "      <td>9.878170</td>\n",
       "      <td>55</td>\n",
       "      <td>6</td>\n",
       "      <td>1</td>\n",
       "      <td>981.0</td>\n",
       "      <td>26.083889</td>\n",
       "      <td>67.0</td>\n",
       "    </tr>\n",
       "    <tr>\n",
       "      <th>5</th>\n",
       "      <td>1</td>\n",
       "      <td>2016</td>\n",
       "      <td>2</td>\n",
       "      <td>26</td>\n",
       "      <td>10.819778</td>\n",
       "      <td>123</td>\n",
       "      <td>7</td>\n",
       "      <td>1</td>\n",
       "      <td>844.0</td>\n",
       "      <td>2.629722</td>\n",
       "      <td>46.0</td>\n",
       "    </tr>\n",
       "  </tbody>\n",
       "</table>\n",
       "</div>"
      ],
      "text/plain": [
       "   is_successful  year  month  day       goal  category  main_category  \\\n",
       "1              0  2017      9    2  10.308953        93              6   \n",
       "2              0  2013      1   12  10.714418        93              6   \n",
       "3              0  2012      3   17   8.517193        90             10   \n",
       "4              0  2015      7    4   9.878170        55              6   \n",
       "5              1  2016      2   26  10.819778       123              7   \n",
       "\n",
       "   country  last_7d_cnt  hrs_since_last_in_cat  last_28d_cnt_in_cat  \n",
       "1        1        570.0               5.592778                 12.0  \n",
       "2        1        661.0               1.313611                 32.0  \n",
       "3        1        907.0               0.635000                212.0  \n",
       "4        1        981.0              26.083889                 67.0  \n",
       "5        1        844.0               2.629722                 46.0  "
      ]
     },
     "execution_count": 59,
     "metadata": {},
     "output_type": "execute_result"
    }
   ],
   "source": [
    "# create a clean dataset for our model\n",
    "model_df = kickstarter[['is_successful']].join(launched_ymd).join(goal_log).join(encoded_le).join(launched_r7d) \\\n",
    "    .join(td_7days).join(n_launched_28d)\n",
    "\n",
    "# inspect\n",
    "model_df.head()"
   ]
  },
  {
   "cell_type": "code",
   "execution_count": 60,
   "metadata": {},
   "outputs": [],
   "source": [
    "# split into train, test\n",
    "X, y, X_train, X_test, y_train, y_test = create_train_test(model_df)"
   ]
  },
  {
   "cell_type": "code",
   "execution_count": 61,
   "metadata": {},
   "outputs": [
    {
     "name": "stdout",
     "output_type": "stream",
     "text": [
      "Fitting...\n",
      "Predicting...\n",
      "Done.\n",
      "ROC AUC (test): 63.20%\n",
      "ROC AUC (train): 84.47%\n"
     ]
    }
   ],
   "source": [
    "# fit and score our rfc\n",
    "score_model(X_train, X_test, y_train, y_test)"
   ]
  },
  {
   "cell_type": "markdown",
   "metadata": {},
   "source": [
    "Our latest model with `3` new engineered columns based on project-wise timedeltas performed `0.01` percentage points **worse** than baseline."
   ]
  },
  {
   "cell_type": "markdown",
   "metadata": {},
   "source": [
    "## 4. Feature Selection"
   ]
  },
  {
   "cell_type": "markdown",
   "metadata": {},
   "source": [
    "### Univariate Feature Selection"
   ]
  },
  {
   "cell_type": "markdown",
   "metadata": {},
   "source": [
    "We can use `feature_selection.SelectKBest` from sklearn to quickly select k number of features. The tool provides three scoring functions for classfication problems: \n",
    "* x^2\n",
    "* ANOVA F-value\n",
    "* mutual information score\n",
    "\n",
    "The F-value measures the linear dependency between the feature variable and the target. This means the score might underestimate the relation between a feature and the target if the relationship is nonlinear."
   ]
  },
  {
   "cell_type": "code",
   "execution_count": 62,
   "metadata": {},
   "outputs": [
    {
     "data": {
      "text/html": [
       "<div>\n",
       "<style scoped>\n",
       "    .dataframe tbody tr th:only-of-type {\n",
       "        vertical-align: middle;\n",
       "    }\n",
       "\n",
       "    .dataframe tbody tr th {\n",
       "        vertical-align: top;\n",
       "    }\n",
       "\n",
       "    .dataframe thead th {\n",
       "        text-align: right;\n",
       "    }\n",
       "</style>\n",
       "<table border=\"1\" class=\"dataframe\">\n",
       "  <thead>\n",
       "    <tr style=\"text-align: right;\">\n",
       "      <th></th>\n",
       "      <th>is_successful</th>\n",
       "      <th>category</th>\n",
       "      <th>main_category</th>\n",
       "      <th>country</th>\n",
       "      <th>year</th>\n",
       "      <th>month</th>\n",
       "      <th>day</th>\n",
       "      <th>goal</th>\n",
       "      <th>last_7d_cnt</th>\n",
       "      <th>hrs_since_last_in_cat</th>\n",
       "      <th>last_28d_cnt_in_cat</th>\n",
       "      <th>category__main_category</th>\n",
       "      <th>category__country</th>\n",
       "      <th>main_category__country</th>\n",
       "    </tr>\n",
       "  </thead>\n",
       "  <tbody>\n",
       "    <tr>\n",
       "      <th>1</th>\n",
       "      <td>0</td>\n",
       "      <td>93</td>\n",
       "      <td>6</td>\n",
       "      <td>1</td>\n",
       "      <td>2017</td>\n",
       "      <td>9</td>\n",
       "      <td>2</td>\n",
       "      <td>10.308953</td>\n",
       "      <td>570.0</td>\n",
       "      <td>5.592778</td>\n",
       "      <td>12.0</td>\n",
       "      <td>101</td>\n",
       "      <td>104</td>\n",
       "      <td>10</td>\n",
       "    </tr>\n",
       "    <tr>\n",
       "      <th>2</th>\n",
       "      <td>0</td>\n",
       "      <td>93</td>\n",
       "      <td>6</td>\n",
       "      <td>1</td>\n",
       "      <td>2013</td>\n",
       "      <td>1</td>\n",
       "      <td>12</td>\n",
       "      <td>10.714418</td>\n",
       "      <td>661.0</td>\n",
       "      <td>1.313611</td>\n",
       "      <td>32.0</td>\n",
       "      <td>101</td>\n",
       "      <td>104</td>\n",
       "      <td>10</td>\n",
       "    </tr>\n",
       "    <tr>\n",
       "      <th>3</th>\n",
       "      <td>0</td>\n",
       "      <td>90</td>\n",
       "      <td>10</td>\n",
       "      <td>1</td>\n",
       "      <td>2012</td>\n",
       "      <td>3</td>\n",
       "      <td>17</td>\n",
       "      <td>8.517193</td>\n",
       "      <td>907.0</td>\n",
       "      <td>0.635000</td>\n",
       "      <td>212.0</td>\n",
       "      <td>99</td>\n",
       "      <td>101</td>\n",
       "      <td>16</td>\n",
       "    </tr>\n",
       "    <tr>\n",
       "      <th>4</th>\n",
       "      <td>0</td>\n",
       "      <td>55</td>\n",
       "      <td>6</td>\n",
       "      <td>1</td>\n",
       "      <td>2015</td>\n",
       "      <td>7</td>\n",
       "      <td>4</td>\n",
       "      <td>9.878170</td>\n",
       "      <td>981.0</td>\n",
       "      <td>26.083889</td>\n",
       "      <td>67.0</td>\n",
       "      <td>62</td>\n",
       "      <td>60</td>\n",
       "      <td>10</td>\n",
       "    </tr>\n",
       "    <tr>\n",
       "      <th>5</th>\n",
       "      <td>1</td>\n",
       "      <td>123</td>\n",
       "      <td>7</td>\n",
       "      <td>1</td>\n",
       "      <td>2016</td>\n",
       "      <td>2</td>\n",
       "      <td>26</td>\n",
       "      <td>10.819778</td>\n",
       "      <td>844.0</td>\n",
       "      <td>2.629722</td>\n",
       "      <td>46.0</td>\n",
       "      <td>131</td>\n",
       "      <td>137</td>\n",
       "      <td>11</td>\n",
       "    </tr>\n",
       "  </tbody>\n",
       "</table>\n",
       "</div>"
      ],
      "text/plain": [
       "   is_successful  category  main_category  country  year  month  day  \\\n",
       "1              0        93              6        1  2017      9    2   \n",
       "2              0        93              6        1  2013      1   12   \n",
       "3              0        90             10        1  2012      3   17   \n",
       "4              0        55              6        1  2015      7    4   \n",
       "5              1       123              7        1  2016      2   26   \n",
       "\n",
       "        goal  last_7d_cnt  hrs_since_last_in_cat  last_28d_cnt_in_cat  \\\n",
       "1  10.308953        570.0               5.592778                 12.0   \n",
       "2  10.714418        661.0               1.313611                 32.0   \n",
       "3   8.517193        907.0               0.635000                212.0   \n",
       "4   9.878170        981.0              26.083889                 67.0   \n",
       "5  10.819778        844.0               2.629722                 46.0   \n",
       "\n",
       "   category__main_category  category__country  main_category__country  \n",
       "1                      101                104                      10  \n",
       "2                      101                104                      10  \n",
       "3                       99                101                      16  \n",
       "4                       62                 60                      10  \n",
       "5                      131                137                      11  "
      ]
     },
     "execution_count": 62,
     "metadata": {},
     "output_type": "execute_result"
    }
   ],
   "source": [
    "# construct our dataset with all potential features \n",
    "model_df = kickstarter[['is_successful']].join(encoded_le).join(launched_ymd).join(goal_log).join(launched_r7d) \\\n",
    "    .join(td_7days).join(n_launched_28d).join(encoded_interactions)\n",
    "\n",
    "# inspect\n",
    "model_df.head()"
   ]
  },
  {
   "cell_type": "code",
   "execution_count": 63,
   "metadata": {},
   "outputs": [],
   "source": [
    "# to avoid introducing leakage we must apply the SelectKBest on our training dataset only.\n",
    "X, y, X_train, X_test, y_train, y_test = create_train_test(model_df)"
   ]
  },
  {
   "cell_type": "code",
   "execution_count": 64,
   "metadata": {},
   "outputs": [
    {
     "data": {
      "text/plain": [
       "array([[1.00000000e+01, 0.00000000e+00, 2.01500000e+03, 7.82404601e+00,\n",
       "        1.32700000e+03],\n",
       "       [6.00000000e+00, 1.00000000e+00, 2.01400000e+03, 8.92265830e+00,\n",
       "        1.09600000e+03],\n",
       "       [6.00000000e+00, 1.00000000e+00, 2.01400000e+03, 6.36302810e+00,\n",
       "        8.12000000e+02],\n",
       "       ...,\n",
       "       [1.00000000e+00, 1.00000000e+00, 2.01200000e+03, 8.85366543e+00,\n",
       "        8.58000000e+02],\n",
       "       [1.00000000e+01, 1.00000000e+00, 2.01200000e+03, 8.69951475e+00,\n",
       "        6.81000000e+02],\n",
       "       [0.00000000e+00, 1.00000000e+00, 2.01700000e+03, 9.90348755e+00,\n",
       "        6.50000000e+02]])"
      ]
     },
     "execution_count": 64,
     "metadata": {},
     "output_type": "execute_result"
    }
   ],
   "source": [
    "# import module\n",
    "from sklearn.feature_selection import SelectKBest, f_classif\n",
    "\n",
    "# instantiate \n",
    "selector = SelectKBest(f_classif, k=5)\n",
    "\n",
    "# fit & transform\n",
    "X_train_new = selector.fit_transform(X_train, y_train)\n",
    "\n",
    "# inspect\n",
    "X_train_new"
   ]
  },
  {
   "cell_type": "code",
   "execution_count": 65,
   "metadata": {},
   "outputs": [
    {
     "data": {
      "text/html": [
       "<div>\n",
       "<style scoped>\n",
       "    .dataframe tbody tr th:only-of-type {\n",
       "        vertical-align: middle;\n",
       "    }\n",
       "\n",
       "    .dataframe tbody tr th {\n",
       "        vertical-align: top;\n",
       "    }\n",
       "\n",
       "    .dataframe thead th {\n",
       "        text-align: right;\n",
       "    }\n",
       "</style>\n",
       "<table border=\"1\" class=\"dataframe\">\n",
       "  <thead>\n",
       "    <tr style=\"text-align: right;\">\n",
       "      <th></th>\n",
       "      <th>category</th>\n",
       "      <th>main_category</th>\n",
       "      <th>country</th>\n",
       "      <th>year</th>\n",
       "      <th>month</th>\n",
       "      <th>day</th>\n",
       "      <th>goal</th>\n",
       "      <th>last_7d_cnt</th>\n",
       "      <th>hrs_since_last_in_cat</th>\n",
       "      <th>last_28d_cnt_in_cat</th>\n",
       "      <th>category__main_category</th>\n",
       "      <th>category__country</th>\n",
       "      <th>main_category__country</th>\n",
       "    </tr>\n",
       "  </thead>\n",
       "  <tbody>\n",
       "    <tr>\n",
       "      <th>180788</th>\n",
       "      <td>0.0</td>\n",
       "      <td>10.0</td>\n",
       "      <td>0.0</td>\n",
       "      <td>2015.0</td>\n",
       "      <td>0.0</td>\n",
       "      <td>0.0</td>\n",
       "      <td>7.824046</td>\n",
       "      <td>1327.0</td>\n",
       "      <td>0.0</td>\n",
       "      <td>0.0</td>\n",
       "      <td>0.0</td>\n",
       "      <td>0.0</td>\n",
       "      <td>0.0</td>\n",
       "    </tr>\n",
       "    <tr>\n",
       "      <th>149390</th>\n",
       "      <td>0.0</td>\n",
       "      <td>6.0</td>\n",
       "      <td>1.0</td>\n",
       "      <td>2014.0</td>\n",
       "      <td>0.0</td>\n",
       "      <td>0.0</td>\n",
       "      <td>8.922658</td>\n",
       "      <td>1096.0</td>\n",
       "      <td>0.0</td>\n",
       "      <td>0.0</td>\n",
       "      <td>0.0</td>\n",
       "      <td>0.0</td>\n",
       "      <td>0.0</td>\n",
       "    </tr>\n",
       "    <tr>\n",
       "      <th>75367</th>\n",
       "      <td>0.0</td>\n",
       "      <td>6.0</td>\n",
       "      <td>1.0</td>\n",
       "      <td>2014.0</td>\n",
       "      <td>0.0</td>\n",
       "      <td>0.0</td>\n",
       "      <td>6.363028</td>\n",
       "      <td>812.0</td>\n",
       "      <td>0.0</td>\n",
       "      <td>0.0</td>\n",
       "      <td>0.0</td>\n",
       "      <td>0.0</td>\n",
       "      <td>0.0</td>\n",
       "    </tr>\n",
       "    <tr>\n",
       "      <th>83109</th>\n",
       "      <td>0.0</td>\n",
       "      <td>10.0</td>\n",
       "      <td>1.0</td>\n",
       "      <td>2014.0</td>\n",
       "      <td>0.0</td>\n",
       "      <td>0.0</td>\n",
       "      <td>10.532123</td>\n",
       "      <td>938.0</td>\n",
       "      <td>0.0</td>\n",
       "      <td>0.0</td>\n",
       "      <td>0.0</td>\n",
       "      <td>0.0</td>\n",
       "      <td>0.0</td>\n",
       "    </tr>\n",
       "    <tr>\n",
       "      <th>169314</th>\n",
       "      <td>0.0</td>\n",
       "      <td>3.0</td>\n",
       "      <td>1.0</td>\n",
       "      <td>2013.0</td>\n",
       "      <td>0.0</td>\n",
       "      <td>0.0</td>\n",
       "      <td>8.699515</td>\n",
       "      <td>836.0</td>\n",
       "      <td>0.0</td>\n",
       "      <td>0.0</td>\n",
       "      <td>0.0</td>\n",
       "      <td>0.0</td>\n",
       "      <td>0.0</td>\n",
       "    </tr>\n",
       "  </tbody>\n",
       "</table>\n",
       "</div>"
      ],
      "text/plain": [
       "        category  main_category  country    year  month  day       goal  \\\n",
       "180788       0.0           10.0      0.0  2015.0    0.0  0.0   7.824046   \n",
       "149390       0.0            6.0      1.0  2014.0    0.0  0.0   8.922658   \n",
       "75367        0.0            6.0      1.0  2014.0    0.0  0.0   6.363028   \n",
       "83109        0.0           10.0      1.0  2014.0    0.0  0.0  10.532123   \n",
       "169314       0.0            3.0      1.0  2013.0    0.0  0.0   8.699515   \n",
       "\n",
       "        last_7d_cnt  hrs_since_last_in_cat  last_28d_cnt_in_cat  \\\n",
       "180788       1327.0                    0.0                  0.0   \n",
       "149390       1096.0                    0.0                  0.0   \n",
       "75367         812.0                    0.0                  0.0   \n",
       "83109         938.0                    0.0                  0.0   \n",
       "169314        836.0                    0.0                  0.0   \n",
       "\n",
       "        category__main_category  category__country  main_category__country  \n",
       "180788                      0.0                0.0                     0.0  \n",
       "149390                      0.0                0.0                     0.0  \n",
       "75367                       0.0                0.0                     0.0  \n",
       "83109                       0.0                0.0                     0.0  \n",
       "169314                      0.0                0.0                     0.0  "
      ]
     },
     "execution_count": 65,
     "metadata": {},
     "output_type": "execute_result"
    }
   ],
   "source": [
    "# get back the features we've kept, zero out all other features\n",
    "selected_features = pd.DataFrame(\n",
    "    selector.inverse_transform(X_train_new), \n",
    "    index=X_train.index, \n",
    "    columns=X_train.columns)\n",
    "\n",
    "# inspect\n",
    "selected_features.head()"
   ]
  },
  {
   "cell_type": "code",
   "execution_count": 66,
   "metadata": {},
   "outputs": [
    {
     "data": {
      "text/html": [
       "<div>\n",
       "<style scoped>\n",
       "    .dataframe tbody tr th:only-of-type {\n",
       "        vertical-align: middle;\n",
       "    }\n",
       "\n",
       "    .dataframe tbody tr th {\n",
       "        vertical-align: top;\n",
       "    }\n",
       "\n",
       "    .dataframe thead th {\n",
       "        text-align: right;\n",
       "    }\n",
       "</style>\n",
       "<table border=\"1\" class=\"dataframe\">\n",
       "  <thead>\n",
       "    <tr style=\"text-align: right;\">\n",
       "      <th></th>\n",
       "      <th>main_category</th>\n",
       "      <th>country</th>\n",
       "      <th>year</th>\n",
       "      <th>goal</th>\n",
       "      <th>last_7d_cnt</th>\n",
       "    </tr>\n",
       "  </thead>\n",
       "  <tbody>\n",
       "    <tr>\n",
       "      <th>180788</th>\n",
       "      <td>10</td>\n",
       "      <td>0</td>\n",
       "      <td>2015</td>\n",
       "      <td>7.824046</td>\n",
       "      <td>1327.0</td>\n",
       "    </tr>\n",
       "    <tr>\n",
       "      <th>149390</th>\n",
       "      <td>6</td>\n",
       "      <td>1</td>\n",
       "      <td>2014</td>\n",
       "      <td>8.922658</td>\n",
       "      <td>1096.0</td>\n",
       "    </tr>\n",
       "    <tr>\n",
       "      <th>75367</th>\n",
       "      <td>6</td>\n",
       "      <td>1</td>\n",
       "      <td>2014</td>\n",
       "      <td>6.363028</td>\n",
       "      <td>812.0</td>\n",
       "    </tr>\n",
       "    <tr>\n",
       "      <th>83109</th>\n",
       "      <td>10</td>\n",
       "      <td>1</td>\n",
       "      <td>2014</td>\n",
       "      <td>10.532123</td>\n",
       "      <td>938.0</td>\n",
       "    </tr>\n",
       "    <tr>\n",
       "      <th>169314</th>\n",
       "      <td>3</td>\n",
       "      <td>1</td>\n",
       "      <td>2013</td>\n",
       "      <td>8.699515</td>\n",
       "      <td>836.0</td>\n",
       "    </tr>\n",
       "  </tbody>\n",
       "</table>\n",
       "</div>"
      ],
      "text/plain": [
       "        main_category  country  year       goal  last_7d_cnt\n",
       "180788             10        0  2015   7.824046       1327.0\n",
       "149390              6        1  2014   8.922658       1096.0\n",
       "75367               6        1  2014   6.363028        812.0\n",
       "83109              10        1  2014  10.532123        938.0\n",
       "169314              3        1  2013   8.699515        836.0"
      ]
     },
     "execution_count": 66,
     "metadata": {},
     "output_type": "execute_result"
    }
   ],
   "source": [
    "# only select those features that are non-null \n",
    "selected_columns = selected_features.columns[selected_features.var() != 0]\n",
    "\n",
    "X_train[selected_columns].head()"
   ]
  },
  {
   "cell_type": "markdown",
   "metadata": {},
   "source": [
    "### L1 regularization"
   ]
  },
  {
   "cell_type": "markdown",
   "metadata": {},
   "source": [
    "Univariate methods consider only one feature at a time when making a selection decision. Instead, we can make our selection using all of the features by including them in a linear model with L1 regularization. \n",
    "\n",
    "This type of regularization (sometimes called Lasso) penalizes the absolute magnitude of the coefficients, as compared to L2 (Ridge) regression which penalizes the square of the coefficients."
   ]
  },
  {
   "cell_type": "code",
   "execution_count": 67,
   "metadata": {},
   "outputs": [],
   "source": [
    "# import modules \n",
    "from sklearn.linear_model import LogisticRegression\n",
    "from sklearn.feature_selection import SelectFromModel"
   ]
  },
  {
   "cell_type": "code",
   "execution_count": 68,
   "metadata": {},
   "outputs": [
    {
     "data": {
      "text/html": [
       "<div>\n",
       "<style scoped>\n",
       "    .dataframe tbody tr th:only-of-type {\n",
       "        vertical-align: middle;\n",
       "    }\n",
       "\n",
       "    .dataframe tbody tr th {\n",
       "        vertical-align: top;\n",
       "    }\n",
       "\n",
       "    .dataframe thead th {\n",
       "        text-align: right;\n",
       "    }\n",
       "</style>\n",
       "<table border=\"1\" class=\"dataframe\">\n",
       "  <thead>\n",
       "    <tr style=\"text-align: right;\">\n",
       "      <th></th>\n",
       "      <th>is_successful</th>\n",
       "      <th>category</th>\n",
       "      <th>main_category</th>\n",
       "      <th>country</th>\n",
       "      <th>year</th>\n",
       "      <th>month</th>\n",
       "      <th>day</th>\n",
       "      <th>goal</th>\n",
       "      <th>last_7d_cnt</th>\n",
       "      <th>hrs_since_last_in_cat</th>\n",
       "      <th>last_28d_cnt_in_cat</th>\n",
       "      <th>category__main_category</th>\n",
       "      <th>category__country</th>\n",
       "      <th>main_category__country</th>\n",
       "    </tr>\n",
       "  </thead>\n",
       "  <tbody>\n",
       "    <tr>\n",
       "      <th>1</th>\n",
       "      <td>0</td>\n",
       "      <td>93</td>\n",
       "      <td>6</td>\n",
       "      <td>1</td>\n",
       "      <td>2017</td>\n",
       "      <td>9</td>\n",
       "      <td>2</td>\n",
       "      <td>10.308953</td>\n",
       "      <td>570.0</td>\n",
       "      <td>5.592778</td>\n",
       "      <td>12.0</td>\n",
       "      <td>101</td>\n",
       "      <td>104</td>\n",
       "      <td>10</td>\n",
       "    </tr>\n",
       "    <tr>\n",
       "      <th>2</th>\n",
       "      <td>0</td>\n",
       "      <td>93</td>\n",
       "      <td>6</td>\n",
       "      <td>1</td>\n",
       "      <td>2013</td>\n",
       "      <td>1</td>\n",
       "      <td>12</td>\n",
       "      <td>10.714418</td>\n",
       "      <td>661.0</td>\n",
       "      <td>1.313611</td>\n",
       "      <td>32.0</td>\n",
       "      <td>101</td>\n",
       "      <td>104</td>\n",
       "      <td>10</td>\n",
       "    </tr>\n",
       "    <tr>\n",
       "      <th>3</th>\n",
       "      <td>0</td>\n",
       "      <td>90</td>\n",
       "      <td>10</td>\n",
       "      <td>1</td>\n",
       "      <td>2012</td>\n",
       "      <td>3</td>\n",
       "      <td>17</td>\n",
       "      <td>8.517193</td>\n",
       "      <td>907.0</td>\n",
       "      <td>0.635000</td>\n",
       "      <td>212.0</td>\n",
       "      <td>99</td>\n",
       "      <td>101</td>\n",
       "      <td>16</td>\n",
       "    </tr>\n",
       "    <tr>\n",
       "      <th>4</th>\n",
       "      <td>0</td>\n",
       "      <td>55</td>\n",
       "      <td>6</td>\n",
       "      <td>1</td>\n",
       "      <td>2015</td>\n",
       "      <td>7</td>\n",
       "      <td>4</td>\n",
       "      <td>9.878170</td>\n",
       "      <td>981.0</td>\n",
       "      <td>26.083889</td>\n",
       "      <td>67.0</td>\n",
       "      <td>62</td>\n",
       "      <td>60</td>\n",
       "      <td>10</td>\n",
       "    </tr>\n",
       "    <tr>\n",
       "      <th>5</th>\n",
       "      <td>1</td>\n",
       "      <td>123</td>\n",
       "      <td>7</td>\n",
       "      <td>1</td>\n",
       "      <td>2016</td>\n",
       "      <td>2</td>\n",
       "      <td>26</td>\n",
       "      <td>10.819778</td>\n",
       "      <td>844.0</td>\n",
       "      <td>2.629722</td>\n",
       "      <td>46.0</td>\n",
       "      <td>131</td>\n",
       "      <td>137</td>\n",
       "      <td>11</td>\n",
       "    </tr>\n",
       "  </tbody>\n",
       "</table>\n",
       "</div>"
      ],
      "text/plain": [
       "   is_successful  category  main_category  country  year  month  day  \\\n",
       "1              0        93              6        1  2017      9    2   \n",
       "2              0        93              6        1  2013      1   12   \n",
       "3              0        90             10        1  2012      3   17   \n",
       "4              0        55              6        1  2015      7    4   \n",
       "5              1       123              7        1  2016      2   26   \n",
       "\n",
       "        goal  last_7d_cnt  hrs_since_last_in_cat  last_28d_cnt_in_cat  \\\n",
       "1  10.308953        570.0               5.592778                 12.0   \n",
       "2  10.714418        661.0               1.313611                 32.0   \n",
       "3   8.517193        907.0               0.635000                212.0   \n",
       "4   9.878170        981.0              26.083889                 67.0   \n",
       "5  10.819778        844.0               2.629722                 46.0   \n",
       "\n",
       "   category__main_category  category__country  main_category__country  \n",
       "1                      101                104                      10  \n",
       "2                      101                104                      10  \n",
       "3                       99                101                      16  \n",
       "4                       62                 60                      10  \n",
       "5                      131                137                      11  "
      ]
     },
     "execution_count": 68,
     "metadata": {},
     "output_type": "execute_result"
    }
   ],
   "source": [
    "# select data\n",
    "model_df = kickstarter[['is_successful']].join(encoded_le).join(launched_ymd).join(goal_log).join(launched_r7d) \\\n",
    "    .join(td_7days).join(n_launched_28d).join(encoded_interactions)\n",
    "\n",
    "# inspect\n",
    "model_df.head()"
   ]
  },
  {
   "cell_type": "code",
   "execution_count": 69,
   "metadata": {},
   "outputs": [],
   "source": [
    "# split dataset\n",
    "X, y, X_train, X_test, y_train, y_test = create_train_test(model_df)"
   ]
  },
  {
   "cell_type": "code",
   "execution_count": 70,
   "metadata": {},
   "outputs": [
    {
     "data": {
      "text/plain": [
       "array([[ 90.,  10.,   0., ...,  99., 100.,  15.],\n",
       "       [ 39.,   6.,   1., ...,  43.,  41.,  10.],\n",
       "       [ 55.,   6.,   1., ...,  62.,  60.,  10.],\n",
       "       ...,\n",
       "       [ 26.,   1.,   1., ...,  30.,  27.,   1.],\n",
       "       [ 72.,  10.,   1., ...,  79.,  81.,  16.],\n",
       "       [ 96.,   0.,   1., ..., 104., 107.,   0.]])"
      ]
     },
     "execution_count": 70,
     "metadata": {},
     "output_type": "execute_result"
    }
   ],
   "source": [
    "# Set the regularization parameter C=1\n",
    "logistic = LogisticRegression(C=1, penalty='l1', solver='liblinear', random_state=42)\n",
    "\n",
    "# fit \n",
    "logistic.fit(X_train, y_train) \n",
    "model = SelectFromModel(logistic, prefit=True)\n",
    "\n",
    "# transform\n",
    "X_train_new = model.transform(X_train)\n",
    "\n",
    "# inspect\n",
    "X_train_new"
   ]
  },
  {
   "cell_type": "code",
   "execution_count": 71,
   "metadata": {},
   "outputs": [
    {
     "data": {
      "text/html": [
       "<div>\n",
       "<style scoped>\n",
       "    .dataframe tbody tr th:only-of-type {\n",
       "        vertical-align: middle;\n",
       "    }\n",
       "\n",
       "    .dataframe tbody tr th {\n",
       "        vertical-align: top;\n",
       "    }\n",
       "\n",
       "    .dataframe thead th {\n",
       "        text-align: right;\n",
       "    }\n",
       "</style>\n",
       "<table border=\"1\" class=\"dataframe\">\n",
       "  <thead>\n",
       "    <tr style=\"text-align: right;\">\n",
       "      <th></th>\n",
       "      <th>category</th>\n",
       "      <th>main_category</th>\n",
       "      <th>country</th>\n",
       "      <th>year</th>\n",
       "      <th>month</th>\n",
       "      <th>day</th>\n",
       "      <th>goal</th>\n",
       "      <th>last_7d_cnt</th>\n",
       "      <th>last_28d_cnt_in_cat</th>\n",
       "      <th>category__main_category</th>\n",
       "      <th>category__country</th>\n",
       "      <th>main_category__country</th>\n",
       "    </tr>\n",
       "  </thead>\n",
       "  <tbody>\n",
       "    <tr>\n",
       "      <th>180788</th>\n",
       "      <td>90</td>\n",
       "      <td>10</td>\n",
       "      <td>0</td>\n",
       "      <td>2015</td>\n",
       "      <td>4</td>\n",
       "      <td>10</td>\n",
       "      <td>7.824046</td>\n",
       "      <td>1327.0</td>\n",
       "      <td>204.0</td>\n",
       "      <td>99</td>\n",
       "      <td>100</td>\n",
       "      <td>15</td>\n",
       "    </tr>\n",
       "    <tr>\n",
       "      <th>149390</th>\n",
       "      <td>39</td>\n",
       "      <td>6</td>\n",
       "      <td>1</td>\n",
       "      <td>2014</td>\n",
       "      <td>10</td>\n",
       "      <td>25</td>\n",
       "      <td>8.922658</td>\n",
       "      <td>1096.0</td>\n",
       "      <td>146.0</td>\n",
       "      <td>43</td>\n",
       "      <td>41</td>\n",
       "      <td>10</td>\n",
       "    </tr>\n",
       "    <tr>\n",
       "      <th>75367</th>\n",
       "      <td>55</td>\n",
       "      <td>6</td>\n",
       "      <td>1</td>\n",
       "      <td>2014</td>\n",
       "      <td>3</td>\n",
       "      <td>19</td>\n",
       "      <td>6.363028</td>\n",
       "      <td>812.0</td>\n",
       "      <td>138.0</td>\n",
       "      <td>62</td>\n",
       "      <td>60</td>\n",
       "      <td>10</td>\n",
       "    </tr>\n",
       "    <tr>\n",
       "      <th>83109</th>\n",
       "      <td>90</td>\n",
       "      <td>10</td>\n",
       "      <td>1</td>\n",
       "      <td>2014</td>\n",
       "      <td>12</td>\n",
       "      <td>5</td>\n",
       "      <td>10.532123</td>\n",
       "      <td>938.0</td>\n",
       "      <td>149.0</td>\n",
       "      <td>99</td>\n",
       "      <td>101</td>\n",
       "      <td>16</td>\n",
       "    </tr>\n",
       "    <tr>\n",
       "      <th>169314</th>\n",
       "      <td>36</td>\n",
       "      <td>3</td>\n",
       "      <td>1</td>\n",
       "      <td>2013</td>\n",
       "      <td>6</td>\n",
       "      <td>14</td>\n",
       "      <td>8.699515</td>\n",
       "      <td>836.0</td>\n",
       "      <td>40.0</td>\n",
       "      <td>40</td>\n",
       "      <td>38</td>\n",
       "      <td>4</td>\n",
       "    </tr>\n",
       "  </tbody>\n",
       "</table>\n",
       "</div>"
      ],
      "text/plain": [
       "        category  main_category  country  year  month  day       goal  \\\n",
       "180788        90             10        0  2015      4   10   7.824046   \n",
       "149390        39              6        1  2014     10   25   8.922658   \n",
       "75367         55              6        1  2014      3   19   6.363028   \n",
       "83109         90             10        1  2014     12    5  10.532123   \n",
       "169314        36              3        1  2013      6   14   8.699515   \n",
       "\n",
       "        last_7d_cnt  last_28d_cnt_in_cat  category__main_category  \\\n",
       "180788       1327.0                204.0                       99   \n",
       "149390       1096.0                146.0                       43   \n",
       "75367         812.0                138.0                       62   \n",
       "83109         938.0                149.0                       99   \n",
       "169314        836.0                 40.0                       40   \n",
       "\n",
       "        category__country  main_category__country  \n",
       "180788                100                      15  \n",
       "149390                 41                      10  \n",
       "75367                  60                      10  \n",
       "83109                 101                      16  \n",
       "169314                 38                       4  "
      ]
     },
     "execution_count": 71,
     "metadata": {},
     "output_type": "execute_result"
    }
   ],
   "source": [
    "# get back the features we've kept, zero out all other features\n",
    "selected_features = pd.DataFrame(\n",
    "    model.inverse_transform(X_train_new), \n",
    "    index=X_train.index, \n",
    "    columns=X_train.columns)\n",
    "\n",
    "# only select those features that are non-null \n",
    "selected_columns = selected_features.columns[selected_features.var() !=0]\n",
    "\n",
    "# inspect\n",
    "X_train[selected_columns].head()"
   ]
  },
  {
   "cell_type": "code",
   "execution_count": 72,
   "metadata": {},
   "outputs": [
    {
     "data": {
      "text/plain": [
       "{'hrs_since_last_in_cat'}"
      ]
     },
     "execution_count": 72,
     "metadata": {},
     "output_type": "execute_result"
    }
   ],
   "source": [
    "set(X_train.columns).difference(set(X_train[selected_columns]))"
   ]
  },
  {
   "cell_type": "markdown",
   "metadata": {},
   "source": [
    "With L1 regularization (Lasso) and its parameter C set to `1` we're only dropping the `hrs_since_last_in_cat` feature from the dataset. Note: like in support vector machines, smaller values of `C` specify stronger regularization."
   ]
  },
  {
   "cell_type": "code",
   "execution_count": null,
   "metadata": {},
   "outputs": [],
   "source": [
    "# Function which selects the best features based on L1 regularization (example):\n",
    "from sklearn.linear_model import LogisticRegression\n",
    "from sklearn.feature_selection import SelectFromModel\n",
    "\n",
    "def select_features_l1(X, y):\n",
    "    \"\"\"Return selected features using logistic regression with an L1 penalty.\"\"\"\n",
    "    # instantiate LogisticRegression()\n",
    "    logreg = LogisticRegression(penalty='l1', C=0.1, solver='liblinear', random_state=7)\n",
    "    # fit \n",
    "    logreg.fit(X, y)\n",
    "    model = SelectFromModel(logreg, prefit=True)\n",
    "    # transform \n",
    "    X_new = model.transform(X)\n",
    "    # select feature names which are not all nulls / zeros\n",
    "    features = pd.DataFrame(\n",
    "        model.inverse_transform(X_new),\n",
    "        index = X.index,\n",
    "        columns = X.columns)\n",
    "    \n",
    "    selected_features = features.columns[features.var() > 0]\n",
    "\n",
    "    return selected_features"
   ]
  }
 ],
 "metadata": {
  "kernelspec": {
   "display_name": "Python [conda env:root] *",
   "language": "python",
   "name": "conda-root-py"
  },
  "language_info": {
   "codemirror_mode": {
    "name": "ipython",
    "version": 3
   },
   "file_extension": ".py",
   "mimetype": "text/x-python",
   "name": "python",
   "nbconvert_exporter": "python",
   "pygments_lexer": "ipython3",
   "version": "3.7.7"
  }
 },
 "nbformat": 4,
 "nbformat_minor": 4
}
